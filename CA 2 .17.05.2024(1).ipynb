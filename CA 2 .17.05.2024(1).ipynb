{
 "cells": [
  {
   "cell_type": "code",
   "execution_count": 1,
   "id": "2bbceb7b",
   "metadata": {},
   "outputs": [
    {
     "name": "stderr",
     "output_type": "stream",
     "text": [
      "24/05/17 22:07:24 WARN SparkSession: Using an existing Spark session; only runtime SQL configurations will take effect.\n"
     ]
    }
   ],
   "source": [
    "from pyspark.sql import SparkSession\n",
    "\n",
    "# Create a Spark session\n",
    "spark = SparkSession.builder \\\n",
    "    .appName(\"Read CSV and Display\") \\\n",
    "    .getOrCreate()"
   ]
  },
  {
   "cell_type": "code",
   "execution_count": 2,
   "id": "4ba61e84",
   "metadata": {},
   "outputs": [
    {
     "name": "stderr",
     "output_type": "stream",
     "text": [
      "                                                                                \r"
     ]
    }
   ],
   "source": [
    "# Read CSV file into Spark DataFrame\n",
    "df_spark = spark.read.csv(\"/ProjectTweets.csv\", header=False, inferSchema=True)"
   ]
  },
  {
   "cell_type": "code",
   "execution_count": 3,
   "id": "93e18f4d",
   "metadata": {},
   "outputs": [],
   "source": [
    "# Specify column names\n",
    "column_names = ['Label', 'ID', 'Date', 'Query', 'User', 'Tweet']"
   ]
  },
  {
   "cell_type": "code",
   "execution_count": 4,
   "id": "73012b1f",
   "metadata": {},
   "outputs": [],
   "source": [
    "# Assign column names to the DataFrame\n",
    "df_spark = df_spark.toDF(*column_names)"
   ]
  },
  {
   "cell_type": "code",
   "execution_count": 5,
   "id": "6ff28ffd",
   "metadata": {},
   "outputs": [
    {
     "name": "stdout",
     "output_type": "stream",
     "text": [
      "+-----+----------+--------------------+--------+---------------+--------------------+\n",
      "|Label|        ID|                Date|   Query|           User|               Tweet|\n",
      "+-----+----------+--------------------+--------+---------------+--------------------+\n",
      "|    0|1467810369|Mon Apr 06 22:19:...|NO_QUERY|_TheSpecialOne_|@switchfoot http:...|\n",
      "|    1|1467810672|Mon Apr 06 22:19:...|NO_QUERY|  scotthamilton|is upset that he ...|\n",
      "|    2|1467810917|Mon Apr 06 22:19:...|NO_QUERY|       mattycus|@Kenichan I dived...|\n",
      "|    3|1467811184|Mon Apr 06 22:19:...|NO_QUERY|        ElleCTF|my whole body fee...|\n",
      "|    4|1467811193|Mon Apr 06 22:19:...|NO_QUERY|         Karoli|@nationwideclass ...|\n",
      "|    5|1467811372|Mon Apr 06 22:20:...|NO_QUERY|       joy_wolf|@Kwesidei not the...|\n",
      "|    6|1467811592|Mon Apr 06 22:20:...|NO_QUERY|        mybirch|         Need a hug |\n",
      "|    7|1467811594|Mon Apr 06 22:20:...|NO_QUERY|           coZZ|@LOLTrish hey  lo...|\n",
      "|    8|1467811795|Mon Apr 06 22:20:...|NO_QUERY|2Hood4Hollywood|@Tatiana_K nope t...|\n",
      "|    9|1467812025|Mon Apr 06 22:20:...|NO_QUERY|        mimismo|@twittera que me ...|\n",
      "+-----+----------+--------------------+--------+---------------+--------------------+\n",
      "only showing top 10 rows\n",
      "\n"
     ]
    }
   ],
   "source": [
    "# Display the first few rows of the DataFrame\n",
    "df_spark.show(10)"
   ]
  },
  {
   "cell_type": "code",
   "execution_count": 6,
   "id": "0a9730a9",
   "metadata": {},
   "outputs": [
    {
     "name": "stderr",
     "output_type": "stream",
     "text": [
      "                                                                                \r"
     ]
    },
    {
     "name": "stdout",
     "output_type": "stream",
     "text": [
      "Total number of rows in the DataFrame: 1600000\n"
     ]
    }
   ],
   "source": [
    "total_count = df_spark.count()\n",
    "print(\"Total number of rows in the DataFrame:\", total_count)"
   ]
  },
  {
   "cell_type": "code",
   "execution_count": 7,
   "id": "13ed3e4a",
   "metadata": {},
   "outputs": [
    {
     "name": "stdout",
     "output_type": "stream",
     "text": [
      "+-----+----------+--------------------+--------+---------------+--------------------+\n",
      "|Label|        ID|                Date|   Query|           User|               Tweet|\n",
      "+-----+----------+--------------------+--------+---------------+--------------------+\n",
      "|    0|1467810369|Mon Apr 06 22:19:...|NO_QUERY|_TheSpecialOne_|@switchfoot http:...|\n",
      "|    1|1467810672|Mon Apr 06 22:19:...|NO_QUERY|  scotthamilton|is upset that he ...|\n",
      "|    2|1467810917|Mon Apr 06 22:19:...|NO_QUERY|       mattycus|@Kenichan I dived...|\n",
      "|    3|1467811184|Mon Apr 06 22:19:...|NO_QUERY|        ElleCTF|my whole body fee...|\n",
      "|    4|1467811193|Mon Apr 06 22:19:...|NO_QUERY|         Karoli|@nationwideclass ...|\n",
      "|    5|1467811372|Mon Apr 06 22:20:...|NO_QUERY|       joy_wolf|@Kwesidei not the...|\n",
      "|    6|1467811592|Mon Apr 06 22:20:...|NO_QUERY|        mybirch|         Need a hug |\n",
      "|    7|1467811594|Mon Apr 06 22:20:...|NO_QUERY|           coZZ|@LOLTrish hey  lo...|\n",
      "|    8|1467811795|Mon Apr 06 22:20:...|NO_QUERY|2Hood4Hollywood|@Tatiana_K nope t...|\n",
      "|    9|1467812025|Mon Apr 06 22:20:...|NO_QUERY|        mimismo|@twittera que me ...|\n",
      "|   10|1467812416|Mon Apr 06 22:20:...|NO_QUERY| erinx3leannexo|spring break in p...|\n",
      "|   11|1467812579|Mon Apr 06 22:20:...|NO_QUERY|   pardonlauren|I just re-pierced...|\n",
      "|   12|1467812723|Mon Apr 06 22:20:...|NO_QUERY|           TLeC|@caregiving I cou...|\n",
      "|   13|1467812771|Mon Apr 06 22:20:...|NO_QUERY|robrobbierobert|@octolinz16 It it...|\n",
      "|   14|1467812784|Mon Apr 06 22:20:...|NO_QUERY|    bayofwolves|@smarrison i woul...|\n",
      "|   15|1467812799|Mon Apr 06 22:20:...|NO_QUERY|     HairByJess|@iamjazzyfizzle I...|\n",
      "|   16|1467812964|Mon Apr 06 22:20:...|NO_QUERY| lovesongwriter|Hollis' death sce...|\n",
      "|   17|1467813137|Mon Apr 06 22:20:...|NO_QUERY|       armotley|about to file taxes |\n",
      "|   18|1467813579|Mon Apr 06 22:20:...|NO_QUERY|     starkissed|@LettyA ahh ive a...|\n",
      "|   19|1467813782|Mon Apr 06 22:20:...|NO_QUERY|      gi_gi_bee|@FakerPattyPattz ...|\n",
      "+-----+----------+--------------------+--------+---------------+--------------------+\n",
      "only showing top 20 rows\n",
      "\n"
     ]
    }
   ],
   "source": [
    "# Assuming `df` is your Spark DataFrame\n",
    "first_70000_rows = df_spark.limit(70000)\n",
    "\n",
    "# Show the first few rows of the limited DataFrame\n",
    "first_70000_rows.show()"
   ]
  },
  {
   "cell_type": "code",
   "execution_count": 8,
   "id": "585eb497",
   "metadata": {},
   "outputs": [
    {
     "name": "stdout",
     "output_type": "stream",
     "text": [
      "Total number of rows in the DataFrame: 70000\n"
     ]
    }
   ],
   "source": [
    "# Count the total number of rows in the DataFrame 'first_70000_rows'\n",
    "total_count = first_70000_rows.count()\n",
    "# Print the total number of rows in the DataFrame\n",
    "print(\"Total number of rows in the DataFrame:\", total_count)"
   ]
  },
  {
   "cell_type": "code",
   "execution_count": 9,
   "id": "05a9c787",
   "metadata": {},
   "outputs": [],
   "source": [
    "# Assign the DataFrame 'first_70000_rows' to a new variable 'df_spark'\n",
    "df_spark=first_70000_rows"
   ]
  },
  {
   "cell_type": "code",
   "execution_count": 10,
   "id": "6f12a5f0",
   "metadata": {},
   "outputs": [
    {
     "name": "stdout",
     "output_type": "stream",
     "text": [
      "root\n",
      " |-- Label: integer (nullable = true)\n",
      " |-- ID: long (nullable = true)\n",
      " |-- Date: string (nullable = true)\n",
      " |-- Query: string (nullable = true)\n",
      " |-- User: string (nullable = true)\n",
      " |-- Tweet: string (nullable = true)\n",
      "\n",
      "+-----+----------+--------------------+--------+---------------+--------------------+\n",
      "|Label|        ID|                Date|   Query|           User|               Tweet|\n",
      "+-----+----------+--------------------+--------+---------------+--------------------+\n",
      "|    0|1467810369|Mon Apr 06 22:19:...|NO_QUERY|_TheSpecialOne_|@switchfoot http:...|\n",
      "|    1|1467810672|Mon Apr 06 22:19:...|NO_QUERY|  scotthamilton|is upset that he ...|\n",
      "|    2|1467810917|Mon Apr 06 22:19:...|NO_QUERY|       mattycus|@Kenichan I dived...|\n",
      "|    3|1467811184|Mon Apr 06 22:19:...|NO_QUERY|        ElleCTF|my whole body fee...|\n",
      "|    4|1467811193|Mon Apr 06 22:19:...|NO_QUERY|         Karoli|@nationwideclass ...|\n",
      "+-----+----------+--------------------+--------+---------------+--------------------+\n",
      "only showing top 5 rows\n",
      "\n"
     ]
    }
   ],
   "source": [
    "# Print the schema of the DataFrame 'df_spark'\n",
    "df_spark.printSchema()\n",
    "# Display the first 5 rows of the DataFrame 'df_spark'\n",
    "df_spark.show(5)"
   ]
  },
  {
   "cell_type": "code",
   "execution_count": 11,
   "id": "2c9b4b87",
   "metadata": {},
   "outputs": [
    {
     "name": "stderr",
     "output_type": "stream",
     "text": [
      "24/05/17 22:07:39 WARN package: Truncated the string representation of a plan since it was too large. This behavior can be adjusted by setting 'spark.sql.debug.maxToStringFields'.\n",
      "[Stage 13:>                                                         (0 + 1) / 1]\r"
     ]
    },
    {
     "name": "stdout",
     "output_type": "stream",
     "text": [
      "+-------+------------------+--------------------+--------------------+--------+--------------------+--------------------+\n",
      "|summary|             Label|                  ID|                Date|   Query|                User|               Tweet|\n",
      "+-------+------------------+--------------------+--------------------+--------+--------------------+--------------------+\n",
      "|  count|             70000|               70000|               70000|   70000|               70000|               70000|\n",
      "|   mean|           34999.5|1.5990633598456428E9|                null|    null|1.7648189042857143E8|                null|\n",
      "| stddev|20207.403758688713|  7.56589077970432E7|                null|    null|  5.28144166476119E8|                null|\n",
      "|    min|                 0|          1467810369|Fri Apr 17 20:30:...|NO_QUERY|            006jazzy|           FUCK YOU!|\n",
      "|    max|             69999|          1693506518|Tue Apr 21 04:17:...|NO_QUERY|              zzsiob|ï¿½petasin jï¿½el...|\n",
      "+-------+------------------+--------------------+--------------------+--------+--------------------+--------------------+\n",
      "\n"
     ]
    },
    {
     "name": "stderr",
     "output_type": "stream",
     "text": [
      "                                                                                \r"
     ]
    }
   ],
   "source": [
    "# Summary statistics\n",
    "df_spark.describe().show()"
   ]
  },
  {
   "cell_type": "code",
   "execution_count": 12,
   "id": "8476e4b6",
   "metadata": {},
   "outputs": [
    {
     "name": "stdout",
     "output_type": "stream",
     "text": [
      "Total number of rows: 70000\n"
     ]
    }
   ],
   "source": [
    "# Count the total number of rows in the DataFrame 'df_spark'\n",
    "total_rows = df_spark.count()\n",
    "# Print the total number of rows in the DataFrame using an f-string for formatting\n",
    "print(f\"Total number of rows: {total_rows}\")"
   ]
  },
  {
   "cell_type": "code",
   "execution_count": 13,
   "id": "7e2b16b9",
   "metadata": {},
   "outputs": [],
   "source": [
    "# List of column names to be dropped from the DataFrame\n",
    "columns_to_drop = ['ID', 'Query', 'User'] "
   ]
  },
  {
   "cell_type": "code",
   "execution_count": 14,
   "id": "e67acf60",
   "metadata": {},
   "outputs": [],
   "source": [
    "# Drop columns that are not useful\n",
    "df_cleaned = df_spark.drop(*columns_to_drop)"
   ]
  },
  {
   "cell_type": "code",
   "execution_count": 15,
   "id": "90634638",
   "metadata": {},
   "outputs": [
    {
     "name": "stdout",
     "output_type": "stream",
     "text": [
      "+-----+--------------------+--------------------+\n",
      "|Label|                Date|               Tweet|\n",
      "+-----+--------------------+--------------------+\n",
      "|    0|Mon Apr 06 22:19:...|@switchfoot http:...|\n",
      "|    1|Mon Apr 06 22:19:...|is upset that he ...|\n",
      "|    2|Mon Apr 06 22:19:...|@Kenichan I dived...|\n",
      "|    3|Mon Apr 06 22:19:...|my whole body fee...|\n",
      "|    4|Mon Apr 06 22:19:...|@nationwideclass ...|\n",
      "|    5|Mon Apr 06 22:20:...|@Kwesidei not the...|\n",
      "|    6|Mon Apr 06 22:20:...|         Need a hug |\n",
      "|    7|Mon Apr 06 22:20:...|@LOLTrish hey  lo...|\n",
      "|    8|Mon Apr 06 22:20:...|@Tatiana_K nope t...|\n",
      "|    9|Mon Apr 06 22:20:...|@twittera que me ...|\n",
      "+-----+--------------------+--------------------+\n",
      "only showing top 10 rows\n",
      "\n"
     ]
    }
   ],
   "source": [
    "# Display the cleaned DataFrame\n",
    "df_cleaned.show(10) "
   ]
  },
  {
   "cell_type": "code",
   "execution_count": 16,
   "id": "4c6eab48",
   "metadata": {},
   "outputs": [],
   "source": [
    "# Identify and remove duplicate rows based on all columns\n",
    "df_no_duplicates = df_cleaned.dropDuplicates()"
   ]
  },
  {
   "cell_type": "code",
   "execution_count": 17,
   "id": "492c633b",
   "metadata": {},
   "outputs": [],
   "source": [
    "# Drop duplicate rows based on the 'Tweet' column and create a new DataFrame 'df_no_duplicates'\n",
    "df_no_duplicates = df_cleaned.dropDuplicates(['Tweet'])"
   ]
  },
  {
   "cell_type": "code",
   "execution_count": 18,
   "id": "73ef8d1e",
   "metadata": {},
   "outputs": [],
   "source": [
    "# Count the number of rows after removing duplicates\n",
    "num_rows_without_duplicates = df_no_duplicates.count()"
   ]
  },
  {
   "cell_type": "code",
   "execution_count": 19,
   "id": "4ff78fa5",
   "metadata": {},
   "outputs": [
    {
     "name": "stdout",
     "output_type": "stream",
     "text": [
      "Number of duplicate rows removed: 599\n"
     ]
    }
   ],
   "source": [
    "# Print the count of duplicate rows removed\n",
    "num_duplicate_rows = df_cleaned.count() - num_rows_without_duplicates\n",
    "print(f\"Number of duplicate rows removed: {num_duplicate_rows}\")"
   ]
  },
  {
   "cell_type": "code",
   "execution_count": 20,
   "id": "245a4c2e",
   "metadata": {},
   "outputs": [],
   "source": [
    "# Import the SparkSession class from the pyspark.sql module\n",
    "from pyspark.sql import SparkSession\n",
    "# Import the col, count, and when functions from the pyspark.sql.functions module\n",
    "from pyspark.sql.functions import col, count, when"
   ]
  },
  {
   "cell_type": "code",
   "execution_count": 21,
   "id": "04861781",
   "metadata": {},
   "outputs": [
    {
     "name": "stderr",
     "output_type": "stream",
     "text": [
      "[Stage 24:=============================>                            (1 + 1) / 2]\r"
     ]
    },
    {
     "name": "stdout",
     "output_type": "stream",
     "text": [
      "+-----+----+-----+\n",
      "|Label|Date|Tweet|\n",
      "+-----+----+-----+\n",
      "|    0|   0|    0|\n",
      "+-----+----+-----+\n",
      "\n"
     ]
    },
    {
     "name": "stderr",
     "output_type": "stream",
     "text": [
      "                                                                                \r"
     ]
    }
   ],
   "source": [
    "# Count the number of missing values (nulls) per column\n",
    "missing_value_counts = df_cleaned.select([count(when(col(c).isNull(), c)).alias(c) for c in df_cleaned.columns]).show()"
   ]
  },
  {
   "cell_type": "code",
   "execution_count": 22,
   "id": "6ba641d3",
   "metadata": {},
   "outputs": [
    {
     "data": {
      "text/plain": [
       "DataFrame[Label: int, Date: string, Tweet: string]"
      ]
     },
     "execution_count": 22,
     "metadata": {},
     "output_type": "execute_result"
    }
   ],
   "source": [
    "df_cleaned"
   ]
  },
  {
   "cell_type": "code",
   "execution_count": 23,
   "id": "3a901cce",
   "metadata": {},
   "outputs": [],
   "source": [
    "# Import the udf (User Defined Function) from pyspark.sql.functions module\n",
    "# Import the StringType class from pyspark.sql.types module\n",
    "# Import the re (regular expressions) module for string operations\n",
    "# Import the string module for string constants and operations\n",
    "\n",
    "from pyspark.sql.functions import udf\n",
    "from pyspark.sql.types import StringType\n",
    "import re\n",
    "import string"
   ]
  },
  {
   "cell_type": "code",
   "execution_count": 24,
   "id": "e04fc13e",
   "metadata": {},
   "outputs": [],
   "source": [
    "# Define text cleaning function\n",
    "def text_clean_1(text):\n",
    "    text = text.lower()\n",
    "    text = re.sub('\\[.*?\\]', '', text)\n",
    "    text = re.sub('[%s]' % re.escape(string.punctuation), '', text)\n",
    "    text = re.sub('\\w*\\d\\w*', '', text)\n",
    "    return text"
   ]
  },
  {
   "cell_type": "code",
   "execution_count": 25,
   "id": "ff93047c",
   "metadata": {},
   "outputs": [],
   "source": [
    "# Register the text cleaning function as a Spark UDF\n",
    "clean_text_udf = udf(text_clean_1, StringType())"
   ]
  },
  {
   "cell_type": "code",
   "execution_count": 26,
   "id": "6111d511",
   "metadata": {},
   "outputs": [],
   "source": [
    "# Apply the UDF to clean the 'text' column\n",
    "cleaned_df = df_cleaned.withColumn('cleaned_text', clean_text_udf(df_cleaned['Tweet']))"
   ]
  },
  {
   "cell_type": "code",
   "execution_count": 27,
   "id": "2d7c091b",
   "metadata": {},
   "outputs": [
    {
     "name": "stderr",
     "output_type": "stream",
     "text": [
      "[Stage 27:>                                                         (0 + 1) / 1]\r"
     ]
    },
    {
     "name": "stdout",
     "output_type": "stream",
     "text": [
      "+-----+----------------------------+---------------------------------------------------------------------------------------------------------------------+-------------------------------------------------------------------------------------------------------------+\n",
      "|Label|Date                        |Tweet                                                                                                                |cleaned_text                                                                                                 |\n",
      "+-----+----------------------------+---------------------------------------------------------------------------------------------------------------------+-------------------------------------------------------------------------------------------------------------+\n",
      "|0    |Mon Apr 06 22:19:45 PDT 2009|@switchfoot http://twitpic.com/2y1zl - Awww, that's a bummer.  You shoulda got David Carr of Third Day to do it. ;D  |switchfoot   awww thats a bummer  you shoulda got david carr of third day to do it d                         |\n",
      "|1    |Mon Apr 06 22:19:49 PDT 2009|is upset that he can't update his Facebook by texting it... and might cry as a result  School today also. Blah!      |is upset that he cant update his facebook by texting it and might cry as a result  school today also blah    |\n",
      "|2    |Mon Apr 06 22:19:53 PDT 2009|@Kenichan I dived many times for the ball. Managed to save 50%  The rest go out of bounds                            |kenichan i dived many times for the ball managed to save   the rest go out of bounds                         |\n",
      "|3    |Mon Apr 06 22:19:57 PDT 2009|my whole body feels itchy and like its on fire                                                                       |my whole body feels itchy and like its on fire                                                               |\n",
      "|4    |Mon Apr 06 22:19:57 PDT 2009|@nationwideclass no, it's not behaving at all. i'm mad. why am i here? because I can't see you all over there.       |nationwideclass no its not behaving at all im mad why am i here because i cant see you all over there        |\n",
      "|5    |Mon Apr 06 22:20:00 PDT 2009|@Kwesidei not the whole crew                                                                                         |kwesidei not the whole crew                                                                                  |\n",
      "|6    |Mon Apr 06 22:20:03 PDT 2009|Need a hug                                                                                                           |need a hug                                                                                                   |\n",
      "|7    |Mon Apr 06 22:20:03 PDT 2009|@LOLTrish hey  long time no see! Yes.. Rains a bit ,only a bit  LOL , I'm fine thanks , how's you ?                  |loltrish hey  long time no see yes rains a bit only a bit  lol  im fine thanks  hows you                     |\n",
      "|8    |Mon Apr 06 22:20:05 PDT 2009|@Tatiana_K nope they didn't have it                                                                                  |tatianak nope they didnt have it                                                                             |\n",
      "|9    |Mon Apr 06 22:20:09 PDT 2009|@twittera que me muera ?                                                                                             |twittera que me muera                                                                                        |\n",
      "|10   |Mon Apr 06 22:20:16 PDT 2009|spring break in plain city... it's snowing                                                                           |spring break in plain city its snowing                                                                       |\n",
      "|11   |Mon Apr 06 22:20:17 PDT 2009|I just re-pierced my ears                                                                                            |i just repierced my ears                                                                                     |\n",
      "|12   |Mon Apr 06 22:20:19 PDT 2009|@caregiving I couldn't bear to watch it.  And I thought the UA loss was embarrassing . . . . .                       |caregiving i couldnt bear to watch it  and i thought the ua loss was embarrassing                            |\n",
      "|13   |Mon Apr 06 22:20:19 PDT 2009|@octolinz16 It it counts, idk why I did either. you never talk to me anymore                                         | it it counts idk why i did either you never talk to me anymore                                              |\n",
      "|14   |Mon Apr 06 22:20:20 PDT 2009|@smarrison i would've been the first, but i didn't have a gun.    not really though, zac snyder's just a doucheclown.|smarrison i wouldve been the first but i didnt have a gun    not really though zac snyders just a doucheclown|\n",
      "|15   |Mon Apr 06 22:20:20 PDT 2009|@iamjazzyfizzle I wish I got to watch it with you!! I miss you and @iamlilnicki  how was the premiere?!              |iamjazzyfizzle i wish i got to watch it with you i miss you and iamlilnicki  how was the premiere            |\n",
      "|16   |Mon Apr 06 22:20:22 PDT 2009|Hollis' death scene will hurt me severely to watch on film  wry is directors cut not out now?                        |hollis death scene will hurt me severely to watch on film  wry is directors cut not out now                  |\n",
      "|17   |Mon Apr 06 22:20:25 PDT 2009|about to file taxes                                                                                                  |about to file taxes                                                                                          |\n",
      "|18   |Mon Apr 06 22:20:31 PDT 2009|@LettyA ahh ive always wanted to see rent  love the soundtrack!!                                                     |lettya ahh ive always wanted to see rent  love the soundtrack                                                |\n",
      "|19   |Mon Apr 06 22:20:34 PDT 2009|@FakerPattyPattz Oh dear. Were you drinking out of the forgotten table drinks?                                       |fakerpattypattz oh dear were you drinking out of the forgotten table drinks                                  |\n",
      "+-----+----------------------------+---------------------------------------------------------------------------------------------------------------------+-------------------------------------------------------------------------------------------------------------+\n",
      "only showing top 20 rows\n",
      "\n"
     ]
    },
    {
     "name": "stderr",
     "output_type": "stream",
     "text": [
      "                                                                                \r"
     ]
    }
   ],
   "source": [
    "# Show the cleaned DataFrame\n",
    "cleaned_df.show(truncate=False)"
   ]
  },
  {
   "cell_type": "code",
   "execution_count": 28,
   "id": "4015a632",
   "metadata": {},
   "outputs": [],
   "source": [
    "# Define text cleaning function for Spark\n",
    "def text_clean_2(text):\n",
    "    text = re.sub('[\"“”...]', '', text)  # Remove quotes, ellipses, and other specified characters\n",
    "    text = re.sub('\\n', '', text)       # Remove newline characters\n",
    "    return text"
   ]
  },
  {
   "cell_type": "code",
   "execution_count": 29,
   "id": "e585e9d0",
   "metadata": {},
   "outputs": [],
   "source": [
    "# Register the text_clean_2 function as a Spark UDF\n",
    "clean_text2_udf = udf(text_clean_2, StringType())"
   ]
  },
  {
   "cell_type": "code",
   "execution_count": 30,
   "id": "cf0a829b",
   "metadata": {},
   "outputs": [],
   "source": [
    "# Apply the UDF to create a new column 'cleaned_text_new'\n",
    "df_cleaned = cleaned_df.withColumn('cleaned_text_new', clean_text2_udf(col('cleaned_text')))\n"
   ]
  },
  {
   "cell_type": "code",
   "execution_count": 31,
   "id": "4fd2201c",
   "metadata": {
    "scrolled": true
   },
   "outputs": [
    {
     "name": "stdout",
     "output_type": "stream",
     "text": [
      "+-----+----------------------------+---------------------------------------------------------------------------------------------------------------------+-------------------------------------------------------------------------------------------------------------+-------------------------------------------------------------------------------------------------------------+\n",
      "|Label|Date                        |Tweet                                                                                                                |cleaned_text                                                                                                 |cleaned_text_new                                                                                             |\n",
      "+-----+----------------------------+---------------------------------------------------------------------------------------------------------------------+-------------------------------------------------------------------------------------------------------------+-------------------------------------------------------------------------------------------------------------+\n",
      "|0    |Mon Apr 06 22:19:45 PDT 2009|@switchfoot http://twitpic.com/2y1zl - Awww, that's a bummer.  You shoulda got David Carr of Third Day to do it. ;D  |switchfoot   awww thats a bummer  you shoulda got david carr of third day to do it d                         |switchfoot   awww thats a bummer  you shoulda got david carr of third day to do it d                         |\n",
      "|1    |Mon Apr 06 22:19:49 PDT 2009|is upset that he can't update his Facebook by texting it... and might cry as a result  School today also. Blah!      |is upset that he cant update his facebook by texting it and might cry as a result  school today also blah    |is upset that he cant update his facebook by texting it and might cry as a result  school today also blah    |\n",
      "|2    |Mon Apr 06 22:19:53 PDT 2009|@Kenichan I dived many times for the ball. Managed to save 50%  The rest go out of bounds                            |kenichan i dived many times for the ball managed to save   the rest go out of bounds                         |kenichan i dived many times for the ball managed to save   the rest go out of bounds                         |\n",
      "|3    |Mon Apr 06 22:19:57 PDT 2009|my whole body feels itchy and like its on fire                                                                       |my whole body feels itchy and like its on fire                                                               |my whole body feels itchy and like its on fire                                                               |\n",
      "|4    |Mon Apr 06 22:19:57 PDT 2009|@nationwideclass no, it's not behaving at all. i'm mad. why am i here? because I can't see you all over there.       |nationwideclass no its not behaving at all im mad why am i here because i cant see you all over there        |nationwideclass no its not behaving at all im mad why am i here because i cant see you all over there        |\n",
      "|5    |Mon Apr 06 22:20:00 PDT 2009|@Kwesidei not the whole crew                                                                                         |kwesidei not the whole crew                                                                                  |kwesidei not the whole crew                                                                                  |\n",
      "|6    |Mon Apr 06 22:20:03 PDT 2009|Need a hug                                                                                                           |need a hug                                                                                                   |need a hug                                                                                                   |\n",
      "|7    |Mon Apr 06 22:20:03 PDT 2009|@LOLTrish hey  long time no see! Yes.. Rains a bit ,only a bit  LOL , I'm fine thanks , how's you ?                  |loltrish hey  long time no see yes rains a bit only a bit  lol  im fine thanks  hows you                     |loltrish hey  long time no see yes rains a bit only a bit  lol  im fine thanks  hows you                     |\n",
      "|8    |Mon Apr 06 22:20:05 PDT 2009|@Tatiana_K nope they didn't have it                                                                                  |tatianak nope they didnt have it                                                                             |tatianak nope they didnt have it                                                                             |\n",
      "|9    |Mon Apr 06 22:20:09 PDT 2009|@twittera que me muera ?                                                                                             |twittera que me muera                                                                                        |twittera que me muera                                                                                        |\n",
      "|10   |Mon Apr 06 22:20:16 PDT 2009|spring break in plain city... it's snowing                                                                           |spring break in plain city its snowing                                                                       |spring break in plain city its snowing                                                                       |\n",
      "|11   |Mon Apr 06 22:20:17 PDT 2009|I just re-pierced my ears                                                                                            |i just repierced my ears                                                                                     |i just repierced my ears                                                                                     |\n",
      "|12   |Mon Apr 06 22:20:19 PDT 2009|@caregiving I couldn't bear to watch it.  And I thought the UA loss was embarrassing . . . . .                       |caregiving i couldnt bear to watch it  and i thought the ua loss was embarrassing                            |caregiving i couldnt bear to watch it  and i thought the ua loss was embarrassing                            |\n",
      "|13   |Mon Apr 06 22:20:19 PDT 2009|@octolinz16 It it counts, idk why I did either. you never talk to me anymore                                         | it it counts idk why i did either you never talk to me anymore                                              | it it counts idk why i did either you never talk to me anymore                                              |\n",
      "|14   |Mon Apr 06 22:20:20 PDT 2009|@smarrison i would've been the first, but i didn't have a gun.    not really though, zac snyder's just a doucheclown.|smarrison i wouldve been the first but i didnt have a gun    not really though zac snyders just a doucheclown|smarrison i wouldve been the first but i didnt have a gun    not really though zac snyders just a doucheclown|\n",
      "|15   |Mon Apr 06 22:20:20 PDT 2009|@iamjazzyfizzle I wish I got to watch it with you!! I miss you and @iamlilnicki  how was the premiere?!              |iamjazzyfizzle i wish i got to watch it with you i miss you and iamlilnicki  how was the premiere            |iamjazzyfizzle i wish i got to watch it with you i miss you and iamlilnicki  how was the premiere            |\n",
      "|16   |Mon Apr 06 22:20:22 PDT 2009|Hollis' death scene will hurt me severely to watch on film  wry is directors cut not out now?                        |hollis death scene will hurt me severely to watch on film  wry is directors cut not out now                  |hollis death scene will hurt me severely to watch on film  wry is directors cut not out now                  |\n",
      "|17   |Mon Apr 06 22:20:25 PDT 2009|about to file taxes                                                                                                  |about to file taxes                                                                                          |about to file taxes                                                                                          |\n",
      "|18   |Mon Apr 06 22:20:31 PDT 2009|@LettyA ahh ive always wanted to see rent  love the soundtrack!!                                                     |lettya ahh ive always wanted to see rent  love the soundtrack                                                |lettya ahh ive always wanted to see rent  love the soundtrack                                                |\n",
      "|19   |Mon Apr 06 22:20:34 PDT 2009|@FakerPattyPattz Oh dear. Were you drinking out of the forgotten table drinks?                                       |fakerpattypattz oh dear were you drinking out of the forgotten table drinks                                  |fakerpattypattz oh dear were you drinking out of the forgotten table drinks                                  |\n",
      "+-----+----------------------------+---------------------------------------------------------------------------------------------------------------------+-------------------------------------------------------------------------------------------------------------+-------------------------------------------------------------------------------------------------------------+\n",
      "only showing top 20 rows\n",
      "\n"
     ]
    }
   ],
   "source": [
    "# Show the DataFrame with the new cleaned text column\n",
    "df_cleaned.show(truncate=False)"
   ]
  },
  {
   "cell_type": "code",
   "execution_count": 32,
   "id": "cc0572b5",
   "metadata": {},
   "outputs": [
    {
     "data": {
      "text/plain": [
       "DataFrame[Label: int, Date: string, Tweet: string, cleaned_text: string, cleaned_text_new: string]"
      ]
     },
     "execution_count": 32,
     "metadata": {},
     "output_type": "execute_result"
    }
   ],
   "source": [
    "df_cleaned"
   ]
  },
  {
   "cell_type": "code",
   "execution_count": 33,
   "id": "37772046",
   "metadata": {},
   "outputs": [
    {
     "name": "stderr",
     "output_type": "stream",
     "text": [
      "                                                                                \r"
     ]
    }
   ],
   "source": [
    "# Get unique values from the 'cleaned_text_new' column using Spark SQL\n",
    "unique_values = df_cleaned.select('cleaned_text_new').distinct().collect()"
   ]
  },
  {
   "cell_type": "code",
   "execution_count": 34,
   "id": "9f0c720b",
   "metadata": {},
   "outputs": [],
   "source": [
    "# Extract unique values from the collected DataFrame\n",
    "unique_values_list = [row.cleaned_text_new for row in unique_values]\n"
   ]
  },
  {
   "cell_type": "code",
   "execution_count": 35,
   "id": "90dd5de2",
   "metadata": {},
   "outputs": [
    {
     "data": {
      "text/plain": [
       "['switchfoot   awww thats a bummer  you shoulda got david carr of third day to do it d',\n",
       " 'is upset that he cant update his facebook by texting it and might cry as a result  school today also blah',\n",
       " 'kenichan i dived many times for the ball managed to save   the rest go out of bounds',\n",
       " 'my whole body feels itchy and like its on fire ',\n",
       " 'nationwideclass no its not behaving at all im mad why am i here because i cant see you all over there ',\n",
       " 'kwesidei not the whole crew ',\n",
       " 'need a hug ',\n",
       " 'loltrish hey  long time no see yes rains a bit only a bit  lol  im fine thanks  hows you ',\n",
       " 'tatianak nope they didnt have it ',\n",
       " 'twittera que me muera  ',\n",
       " 'spring break in plain city its snowing ',\n",
       " 'i just repierced my ears ',\n",
       " 'caregiving i couldnt bear to watch it  and i thought the ua loss was embarrassing     ',\n",
       " ' it it counts idk why i did either you never talk to me anymore ',\n",
       " 'smarrison i wouldve been the first but i didnt have a gun    not really though zac snyders just a doucheclown',\n",
       " 'iamjazzyfizzle i wish i got to watch it with you i miss you and iamlilnicki  how was the premiere',\n",
       " 'hollis death scene will hurt me severely to watch on film  wry is directors cut not out now',\n",
       " 'about to file taxes ',\n",
       " 'lettya ahh ive always wanted to see rent  love the soundtrack',\n",
       " 'fakerpattypattz oh dear were you drinking out of the forgotten table drinks ',\n",
       " 'alydesigns i was out most of the day so didnt get much done ',\n",
       " 'one of my friend called me and asked to meet with her at mid valley todaybut ive no time sigh ',\n",
       " 'angrybarista i baked you a cake but i ated it ',\n",
       " 'this week is not going as i had hoped ',\n",
       " 'blagh class at  tomorrow ',\n",
       " 'i hate when i have to call and wake people up ',\n",
       " 'just going to cry myself to sleep after watching marley and me  ',\n",
       " 'im sad now  misslilly',\n",
       " 'ooooh lol  that leslie and ok i wont do it again so leslie wont  get mad again ',\n",
       " 'meh almost lover is the exception this track gets me depressed every time ',\n",
       " ' hacked my account on aim  now i have to make a new one',\n",
       " 'alielayus i want to go to promote gear and groove but unfornately no ride there  i may b going to the one in anaheim in may though',\n",
       " 'thought sleeping in was an option tomorrow but realizing that it now is not evaluations in the morning and work in the afternoon ',\n",
       " 'julieebaby awe i love you too  am here  i miss you',\n",
       " 'humpninja i cry my asian eyes to sleep at night ',\n",
       " 'ok im sick and spent an hour sitting in the shower cause i was too sick to stand and held back the puke like a champ bed now ',\n",
       " ' ill tell ya the story later  not a good day and ill be workin for like three more hours',\n",
       " 'missxu sorry bed time came here    httpisgdfnge',\n",
       " 'fleurylis i dont either its depressing i dont think i even want to know about the kids in suitcases ',\n",
       " 'bed class  work  gym  or  then class  another day thats gonna fly by i miss my girlfriend ',\n",
       " 'really dont feel like getting up today but got to study to for tomorrows practical exam ',\n",
       " 'hes the reason for the teardrops on my guitar the only one who has enough of me to break my heart ',\n",
       " 'sad sad sad i dont know why but i hate this feeling  i wanna sleep and i still cant',\n",
       " 'jonathanrknight awww i soo wish i was there to see you finally comfortable im sad that i missed it ',\n",
       " 'falling asleep just heard about that tracy girls body being found how sad  my heart breaks for that family',\n",
       " 'viennah yay im happy for you with your job but that also means less time for me and you ',\n",
       " 'just checked my user timeline on my blackberry it looks like the twanking is still happening  are ppl still having probs w bgs and uids',\n",
       " 'oh manwas ironing jeancjumbes fave top to wear to a meeting burnt it ',\n",
       " 'is strangely sad about lilo and samro breaking up ',\n",
       " 'tea oh im so sorry  i didnt think about that before retweeting',\n",
       " 'broadband plan a massive broken promise  via wwwdiigocomtautao still waiting for broadband we are ',\n",
       " 'localtweeps wow tons of replies from you may have to unfollow so i can see my friends tweets youre scrolling the feed a lot ',\n",
       " 'our duck and chicken are taking wayyy too long to hatch ',\n",
       " 'put vacation photos online a few yrs ago pc crashed and now i forget the name of the site ',\n",
       " 'i need a hug ',\n",
       " 'andywana not sure what they are only that they are pos as much as i want to i dont think can trade away company assets sorry andy ',\n",
       " 'oanhlove i hate when that happens ',\n",
       " 'i have a sad feeling that dallas is not going to show up  i gotta say though youd think more shows would use music from the game mmm',\n",
       " ' degrees tomorrow ',\n",
       " 'where did u move to  i thought u were already in sd  hmmm random u found me glad to hear yer doing well',\n",
       " 'batmanyng i miss my  its out of commission  wutcha playing have you copped blood on the sand',\n",
       " 'just leaving the parking lot of work ',\n",
       " 'the life is cool but not for me ',\n",
       " 'sadly though ive never gotten to experience the post coitus cigarette before and now i never will ',\n",
       " 'i had such a nice day too bad the rain comes in tomorrow at  ',\n",
       " 'starrbby too bad i wont be around i lost my job and cant even pay my phone bill lmao aw shucks ',\n",
       " 'damm back to school tomorrow ',\n",
       " 'mo jobs no money  how in the hell is min wage here  fn clams an hour',\n",
       " 'katortiz  not forever see you soon',\n",
       " 'ltalgonquin agreed i saw the failwhale allllll day today ',\n",
       " 'jdarter oh haha dude i dont really look at em unless someone says hey i added you sorry  im so terrible at that i need a pop up',\n",
       " 'ninjen im sure youre right    i need to start working out with you and the nikster or jared at least',\n",
       " 'i really hate how people diss my bands  trace is clearly not ugly',\n",
       " 'gym attire today was puma singlet adidas shortsand black business socks and leather shoes  lucky did not run into any cute girls',\n",
       " 'why wont you show my location   ',\n",
       " 'no picnic  my phone smells like citrus',\n",
       " 'ashleyac my donkey is sensitive about such comments nevertheless hed and med be glad to see your mug asap charger is still awol ',\n",
       " 'no new csi tonight  fml',\n",
       " 'i think my arms are sore from tennis ',\n",
       " 'wonders why someone that u like so much can make you so unhappy in a split seccond  depressed  ',\n",
       " 'sleep soon i just hate saying bye and see you tomorrow for the night ',\n",
       " 'statravelau just got ur newsletter those fares really are unbelievable shame i already booked and paid for mine ',\n",
       " 'missin the boo ',\n",
       " ' me too  itm',\n",
       " 'damn i dont have any chalk my chalkboard is useless ',\n",
       " 'had a blast at the getty villa but hates that shes had a sore throat all day its just getting worse too ',\n",
       " 'msdrama hey missed ya at the meeting  sup mama',\n",
       " 'my tummy hurts  i wonder if the hypnosis has anything to do with it if so its working i get it stop smoking',\n",
       " 'why is it always the fat ones ',\n",
       " 'januarycrimson sorry babe  my fam annoys me too thankfully theyre asleep right now muahaha evil laugh',\n",
       " 'hollywoodheat i should have paid more attention when we covered photoshop in my webpage design class in undergrad ',\n",
       " 'wednesday my bday dont know what  do ',\n",
       " 'poor cameron the hills ',\n",
       " 'pray for me please the ex is threatening to start sh at myour babies  birthday party what a jerk and i still have a headache ',\n",
       " 'makeherfamous hmm   do u really enjoy being with him  if the problems are too constants u should think things more  find someone ulike',\n",
       " 'strider is a sick little puppy  ',\n",
       " 'so ryleegracewana go steves party or not sadly since its easter i wnt b able  do much  but ohh well',\n",
       " 'hey i actually won one of my bracket pools too bad it wasnt the one for money ',\n",
       " 'stark you dont follow me either  and i work for you',\n",
       " 'a bad nite for the favorite teams astros and spartans lose  the nite out with tw was good',\n",
       " ' body of missing northern calif girl found police have found the remains of a missing northern california girl  httptrimimji',\n",
       " 'mangaaa i hope they will increase the capacity fast yesterday was such a pain got the fail whale  times in  hours ',\n",
       " 'behind on my classes for work ',\n",
       " 'watching quothousequot ',\n",
       " 'kpreyes remember my bum leg strikes back this time its serious ',\n",
       " 'paradisej cool i will their are all kinds of complaints about this laptop online about overheating but no recalls ',\n",
       " 'emily will be glad when mommy is done training at her new job she misses her  ',\n",
       " 'would rather the first party send bad messages than the  party send mixed ones  sophmore year all over again',\n",
       " 'henkuyinepu its overrated ',\n",
       " 'marykatherineq i know i heard it this afternoon and wondered the same thing moscow is so behind the times ',\n",
       " 'laying in bed with no voice ',\n",
       " 'im sooo sad they killed off kutner on house  whyyyyyyyy',\n",
       " 'jacobsummers sorry  tell them mea culpa from me and that i really am sorry',\n",
       " ' it didnt make any sense to me the suicide thing i refuse to believe that that is actually what happened ',\n",
       " 'salancaster  hope your ok',\n",
       " 'mercedesashley damn the grind is inspirational and saddening at the same time  dont want you to stop cuz i like what u do much love',\n",
       " 'hibanick yeah aw but i know i wudnt stand a chance ',\n",
       " 'ugh cant sleep its  ',\n",
       " 'hanging in crooners wanna sing cant sucks ',\n",
       " 'erresc aaw i miss ya all too im leaving to bh tomorrow quotmorningquot i think aww i wanna go to the beach w u girls ',\n",
       " 'is pissed off that theres no asbas for a radio station ',\n",
       " 'wednesday my bday n dont know what  do  ',\n",
       " 'i know my life has been flipped upside down when i just thought in my head that some ramen sounds good ',\n",
       " 'i am in pain my back and sides hurt not to mention crying is made of fail ',\n",
       " 'late night snack glass of oj bc im quotdown with the sicknessquot then back to sleepugh i hate getting sick ',\n",
       " 'allyheman but but but im not a big fan on camilla belle ',\n",
       " 'grum wah i cant see clip must be elstupido work filters cant wait till i get a puter something else  blame ex  he broke mine ',\n",
       " 'this week just seems to get longer and longer in terms of how much i need to do and how much im actually going to get done ',\n",
       " 'im so cold ',\n",
       " 'thecoolestout ehhh dont weathers gonna take a turn for the ugly tomorrow ',\n",
       " 'chelserlynn haha its so cooooold in the d and no  but you should still go to the show they do some incredible stuff',\n",
       " 'hoping the tummy rumbles go away soon ',\n",
       " 'knights no no notice they told me id be working tomorrow and then i called the agency to follow up and they said it was over ',\n",
       " 'almost bedtime ',\n",
       " 'im missing you babe  but as long as your alive im happy yawwwnn im tired my love imma try to sleep hopefully you had a headstart',\n",
       " 'aghsnow ',\n",
       " 'i miss kenny powers ',\n",
       " 'bridgetsbeaches thank you for letting people know but now im sad that the direct message i got wasnt actually from bridget ',\n",
       " 'and india missed out its  test victory n  consecutive win without a loss ',\n",
       " 'jonathanrknight i guess thats a no then ',\n",
       " 'sadly is going to bed ',\n",
       " ' shame to hear this stephan ',\n",
       " 'mrsaintnick hey im leavin in the morning ',\n",
       " 'was intending to finish editing my  novel manuscript tonight but that will probably not happen and only  pages are left ',\n",
       " 'laid around too much today now my head hurts ',\n",
       " ' i still havent read the  princess diaries  saving francesca made me cry at the end hmm those are easy books',\n",
       " 'my nokia  died  ',\n",
       " 'my mom might have breast cancer wont find out anything for like a week im so worried ',\n",
       " 'going to sleep hoping tomorrow is a better day ',\n",
       " 'rumblepurr lol wish they understood daylight savings has ended though and breakfast is an hour later  they keep waking the kids up too',\n",
       " 'onemoreproject that is lame ',\n",
       " 'i dont understand i really dont ',\n",
       " 'heroes just isnt doing it for me this season ',\n",
       " 'living not downtown sure isnt much fun  ',\n",
       " 'jonathanchard not calorie wise   i wish junk food was calorie free i ate a thing of sour skittles and a big ass cherry coke',\n",
       " 'man work is hard ',\n",
       " 'getting sick  time for some hot tea studying and then sleeeep',\n",
       " 'getting eyebrows waxed more pain ',\n",
       " 'no phantasy star yesterday  going to work',\n",
       " 'oh  just got all my macheist  apps  sweet didnt get the espresso serial no though although they said they sent it  oh well ',\n",
       " 'picked mich st to win it all from the get go  was feeling pretty good about that pick all the way up untiltonight  as lost too ',\n",
       " 'is alone downstairsworking ',\n",
       " 'i feel bad for doing it ',\n",
       " 'ryanseacrest is it just me or she hates anoop i mean seriously shes kinda mean to him ',\n",
       " 'pinkserendipity yes sprint has  only in baltimore and chicago so far ',\n",
       " 'im stuck awake in the middle of the night for the second day in a row and i felt terrible yesterday ',\n",
       " 'thanks for bursting my bubble ',\n",
       " 'going to school soon cant find anything to wear gosh its so hard ',\n",
       " 'marieclr i was serious  lol',\n",
       " 'naughtyhaughty i had on my page for sooooo long until it got deleted  sad day in history',\n",
       " 'crazy wind today  no birding  ',\n",
       " 'currently at work ',\n",
       " 'grrr my ipods acting weird too jai ho and thinking of you arent playing the full songs ughh ',\n",
       " 'penndbad send me the dvd cos i have missed out on heaps  not happy about that',\n",
       " 'i dont see the big deal with this website ',\n",
       " 'machineplay im so sorry youre having to go through this again  therapyfail',\n",
       " 'colindemar far too out of the way for rail  any other tips',\n",
       " 'im not still up i swear why do i keep losing gaining losing gaining tweeps  so heart wrenching',\n",
       " 'today i realized i am too good at hiding things even i cant find it ',\n",
       " 'staying at a friends househouse sitting neighbors are so loudhaving a party ',\n",
       " 'dannyvegasbaby danny im upset that i wasnt here to watch the live chat  i was in a car for  hours on a trip im soooo upset',\n",
       " 'check out my mug  httpwwwerikaobscurablogspotcom',\n",
       " 'borders closed at  ',\n",
       " 'downloading nins new album quotthe slipquot  when the hell did this come out im so behind the times these days ',\n",
       " 'just woke up an already have written some email ive to go early at university today as i have to teach at  am ',\n",
       " 'is watching the hill   and its making me sad ',\n",
       " 'so many channels yet so so boring lazy day again  may have to find a hobby',\n",
       " 'supersport i miss my buddy  ill be in ny on the ',\n",
       " 'robluketic  love the french i tell people here in the south im qtr french and they snarl at me  french are beautiful people',\n",
       " 'opps as i said i still got one day remain and now problem come ',\n",
       " 'i activated my selfcontrol block early meaning i cant check out the new qc  regularizing my internal clock is might be difficult fb',\n",
       " 'hillydop  oh no',\n",
       " 'spencer is not a good guy ',\n",
       " 'goodlaura what about reese dying on ttsc and season finale next week   boring madame president is a crazy woman',\n",
       " 'jonathanrknight i hate the limited letterstoohope you and the guys are finei pray for my dogsheï¿½s not well ',\n",
       " 'didnt get shit done today  im so screwed ',\n",
       " 'wanttss to go out ',\n",
       " 'is not going to sleep tonite ',\n",
       " 'too worried and tired to post tonight ',\n",
       " 'couldnt get shit done today  im so screwed ',\n",
       " 'job interview in cardiff today wish me luck got about  hours sleep ',\n",
       " 'stustone your show is whack way worse than whack its wiggetywhack    ',\n",
       " 'djalizay i really dont think people choose to be that way but i think he chose not to accept my familys help   he might be dead by now',\n",
       " 'eloquentembrace youre going to kill me but ive not seen  ive been waiting till i can do it in one solid week sitting ',\n",
       " 'cheechbud i think ur right hahaha  hrs now ',\n",
       " 'i hate to see the spartans so sad ',\n",
       " 'my mind and body are severely protesting this quotgetting upquot  thing had nightmares to boot ',\n",
       " 'mysteezradio im goin to follow u since u didnt  lol  go angels',\n",
       " 'mandayyy ',\n",
       " ' i think i want to read some books but the library doesnt have them ',\n",
       " 'my nap was interrupted so many times today  going out for japanese with the rents again',\n",
       " 'kind of longs for the bus that shows up at the end of ghost world right now ugh ',\n",
       " 'gurumn but this is canada  canada is weird were supposed to get snow through wednesday ugh',\n",
       " 'awwh babs you look so sad underneith that shop entrance of quotyesterdays musikquot  o i like the look of the new transformer movie ',\n",
       " 'sad that the feet of my macbook just fell off ',\n",
       " 'im gonna get up late tomorrow and its  here i gonna get tipsy by my lonesome thatsthats just sad ',\n",
       " 'im sweating my forthcoming trip to   if i cant find someone to crash with while im out there i may be screwed  ',\n",
       " 'has now gotten somebody to read his tweets but cant get them to make an account ',\n",
       " 'infinitydefines  omgawd i couldnt handle my cat being in heat all the time d d',\n",
       " 'donniewahlberg i hope i can make it to the auburn show but its not looking good for me ',\n",
       " 'davidhenrie thats people mag haha i couldnt fit it all in i dont think those pictures ever made it in the magazine tho  haha',\n",
       " 'breadandbadger congrats  i totally forgot to submit photos ',\n",
       " 'paulaabdul awww good luck paula please dont work too hard  but i hope you have fun  your new album is gonna be amazing  xxx',\n",
       " 'imaginarypeach now your leaving me   gets sad',\n",
       " 'i miss you twitter my phone broke now im using a stupid nokia phone ughhh i miss my advance phone ',\n",
       " 'shooting outside my house o not kidding so scared ',\n",
       " 'tuesdayï¿½ll start with reflection ï¿½n then a lecture in stress reducing techniques that sure might become very useful for us accompaniers ',\n",
       " 'what tragedy and disaster in the news this week ',\n",
       " 'yes yes still trying to find a picture that will upload correclty ',\n",
       " 'why oh why was the red sox game rained out i was so looking forward to opening day ',\n",
       " 'i still cant find my keys ',\n",
       " 'charlietm i know right i dunno what is going on with twitter ',\n",
       " 'might be getting a sore throat again ',\n",
       " 'labelsnotlove   my home town my mammy called all depressd  pls explain y a parent let their  old child walk alone hello its ',\n",
       " 'ircmaxell  i think i need to find better antidepressants  i think this paxilwellbutrin combo is losing its efficacy  ',\n",
       " 'myconnecticut restaurant called woodntap has competitive eating tourney round tourney time we place  ',\n",
       " 'is in the bathroom wake up lakin ',\n",
       " 'caitlinoconnor i want tacos and margarhitas  telll gay i say ',\n",
       " 'im lonely  keep me company  female california',\n",
       " 'bad day at the betfair office ',\n",
       " 'i miss him  cant wait to celebrate the tar heel win this weekend though',\n",
       " 'im really cold i dont want to go to sleep yet but theres nothing to do ',\n",
       " 'kristencampisi is this it  u its  officially over   me this go round ',\n",
       " 'monkeys i just found out you my twin and you wont even write back  im heartbroken',\n",
       " 'missom aww  i know i felt like that yesterday at work ',\n",
       " 'sarahreedsc treaty isnt defined ',\n",
       " 'missed brent at praise band   no fun to not have the your lead guitarist  ltpoutgt',\n",
       " 'jpfurry poor john  this is what happens when you play with fruit and a microwave seriously though have you seen a doctor xxx',\n",
       " 'missing my bff  watching home and away it reminds me of her and me  we  it shout out to u courts',\n",
       " 'mandayyy   ',\n",
       " 'new video card is doa ',\n",
       " 'feeling lost naked and confused jk sort ofno iphone for me ',\n",
       " 'damn i am so late at filling this appraisal form people have almost sent it  i was so occupied in work ',\n",
       " 'missed brent at praise band  no fun to not have your lead guitarist ltpoutgt',\n",
       " 'i think to much on the past i cant change it i deserved so much more then wat i got but why am i still thinking about him  gah',\n",
       " 'has lost his ring its nowhere to be seen ',\n",
       " 'burgaw ooooooh sealclap see i download shitloads of zip folders off  i have no internet moneys  fuck yeah alicia amp mikey',\n",
       " 'is still nursing my nile but glad he is feeling better i hate when my baby is sick ',\n",
       " 'is fucked to go back to ic ',\n",
       " ' yoyoyo my internet has been rude tonight it just reconnected and im about to go to bed ',\n",
       " 'jemcam well i have uni stuff and netball  but after netbal if ive done uni stuff we can',\n",
       " 'kissability me too i is poor ',\n",
       " 'help me forget  april amp  july ',\n",
       " 'dierks bentley is comin to columbus oh i wanna go so bad ',\n",
       " 'i have to take my sidekick back ',\n",
       " 'chriscantore congrats im totally jealous only wish my xm was working ',\n",
       " ' my face is very itchy ',\n",
       " 'poor socks  luvvvvv the golden retriever i want one sighhhh',\n",
       " 'i just saw that they found that tracy girl in a piece of luggage how fucking terrible ',\n",
       " 'aaaaand the nausea is back ',\n",
       " 'donniewahlberg ooh iï¿½m excited and not even going  be there  long love youtube',\n",
       " 'spent  hour to reach to axis bank only to find out today is holiday for mahavir jayanti  contd',\n",
       " 'mathewsmichael  i agree the jobros dont update theres very often ',\n",
       " 'fishmouse it is hilarious and i linked the clip from lj some time ago but when i went back just now it was a dead link ',\n",
       " 'diannepulham oooooooo who with im not neither but thats because i need to study  ',\n",
       " 'havent tweeted nearly all day  posted my website tonight hopefully that goes well  night time',\n",
       " 'bostongarden i miss bentley ',\n",
       " 'seriously needs to finish these job applications ',\n",
       " 'my son vincas is sick so i stay at home  just three tense days at work and i am back on holiday with kids',\n",
       " 'whinging my clientampboss dont understand english well rewrote some text unreadable its written by v good writerampreviewed correctly ',\n",
       " 'huntermoore i dont want him to ever punch me  ',\n",
       " 'sooo sick of the snow  ughh',\n",
       " 'itsnemesis  ',\n",
       " 'lovemeagan it doesnt work your fan is upset ',\n",
       " 'i would like to apologize for the repeated video games live related tweets i am going to have a stern discussion with koodo soon stern ',\n",
       " 'zaydia but i cant figure out how to get there  back  pay for a hotel etc ',\n",
       " 'fml so much for seniority bc of technological ineptness i now have to quotregisterquot for classes again ',\n",
       " 'feels like she slept the day away    not looking forward to any more bouts with my gallbladder  at least i have pills now for the pain',\n",
       " 'thastevieg but what i really want is my old bass back ',\n",
       " 'mad tired today callin it in early tonight  nighty night twittas',\n",
       " 'levenrambin take it easy and be good to you ',\n",
       " 'im afraid i had bad code ',\n",
       " 'think im going to bed goodniight i hate this ',\n",
       " 'riancurtis  im here friend and i love you',\n",
       " 'kariajay  all this time you didnt notice i was gonejust needed  is it',\n",
       " 'aaronrva is in the bathroom and i have to pee    ',\n",
       " 'ashleyskyy but i wanted a margarita too ',\n",
       " 'kourtneykardash yup night workouts r the worst but unfortunetly my work schedule only allows me to go at night  its tough',\n",
       " 'just called hillsong again  they said they couldnt tell me where i was on the waiting list  i dont know if its looking so good ',\n",
       " 'has  of milky bar left and around  of coke ',\n",
       " 'jokerrrr it stillllll hasnt arrived ',\n",
       " 'mraow i feel like dancing but first art school wants to rape me some more ',\n",
       " 'karenucol ah i bet it does ive been like craving to play softball or basketball  but i have noo time ',\n",
       " 'is terrified she accidentally deleted a reference in her management assignment and hopes she doesnt get in trouble when she gets back ',\n",
       " 'amazon  plugin not worked in my website  it need php   but my hosting provider has only php    very sad',\n",
       " 'argh i was suuuper sleepy an hour ago now im wide awake  hope i dont stay up all night ',\n",
       " 'austinhill i wish i was  sold out   if you have some time let me know i would love to hear more about what you are up to',\n",
       " 'just watched tropic thunder dreading tomorrow ',\n",
       " 'qweendassah nohes still missn ',\n",
       " 'chiefdelphi is down ',\n",
       " '  according to my bro our new puppy had a poo fight and was covered in poop  picture stolen from him',\n",
       " 'playing game at home my new boss didnt call me yet ',\n",
       " 'su yin huen tweeted i feel unbearable guilt i made my staff cry  ',\n",
       " 'poor joshy is sick   those damn tejanos',\n",
       " 'my thoughts are with sandra cantus family at this difficult and sad time ',\n",
       " 'franzglaus i know just wanted to let everybody know what was happening  ',\n",
       " 'michigan who  i dont know them                   sigh   shameful',\n",
       " 'i have to fill two hours ',\n",
       " 'alicayaba so cuuute hey i miss you na  its not the same not seeing you girls everyday ',\n",
       " 'jonathanrknight oh did i mention it quotgooooood moooorniiiiiiingquot  from germany im back in my cageor bettermy office ',\n",
       " 'throat is closing up and i had some string cheese not a good idea ',\n",
       " 'aww sandra cantu is found dead in a suitcase  missing children stories never seem to go good poor family',\n",
       " 'wishing i was home underneath my covers ',\n",
       " 'walking home from school drains all my energy ',\n",
       " ' i agree the shapeshifting is a copout i was so excited for angelas ep i thought it was this week  noah was awesome tho',\n",
       " 'savethestrib dang i would have done this if i knew it was there earlier  any other outings planned',\n",
       " 'i wish i was better at writing its taking me so long to write this paper ',\n",
       " 'and of course i have access to my halo  mythic map pack redownload but bad news not the legendary map pack ugh  ',\n",
       " ' not yet unfortunately another few weeks ive been told  how are you ive been a little bit busy with my latest project',\n",
       " 'thecoolestout ha the suns already gone ',\n",
       " 'day  a lot harder than day  lets see how day  goes tomorrow ',\n",
       " 'my man crush jake peavy let me down  gayforpeavy',\n",
       " 'trishzw megafast trip you have time during day tomweds or you going out tonight want to see you bad tried to warn you tech fail ',\n",
       " 'michigan state you make me sad ',\n",
       " 'omg my mouth is in so much pain  i just wanna sleep untill its time to take my braces off',\n",
       " 'getting annoyed easily today  gtgtgt biofuel proposal getting annoyed easily today  gtgtgt biof httptinyurlcomceprvs',\n",
       " 'mizzchievouz hey girl the site is back  girlyvue is back and they have even more videos ',\n",
       " ' im spending time with my grandma early tomorrow and i cant leave skittles by herself ',\n",
       " 'just got home from watching michigan state get tromped   ',\n",
       " 'oh jewbus two years worth of classes work is alot to organize gtlt im not finishing tonight its not possiblemy bones ache ',\n",
       " 'griffmiester no exchanging for me my laptop hasnt arrived ',\n",
       " 'hyperbets i hope this doesnt last too long  i feel miserable',\n",
       " 'rcompo rachel hang outage is neccessary  i was gonna be home this wekend but dumb folk make me work   so im free f and sat until ',\n",
       " 'theleaguesf not fun amp furious the new mantra for the bay  breakers it was getting  rambunctiousthe city overreacted amp clamped down ',\n",
       " 'amberbenson  my hubby for some reason thinks its more important he has a good spot for red carpet for the trek movie premiere sod',\n",
       " 'i swear no matter how long ive been getting up at  it never gets any easier man my eyes hurts wah ',\n",
       " 'jeffreestar jeffree how do you keep your hair one color my permanent dye fades within the week ',\n",
       " 'otakusecret my reaction too  whoa didnt see that coming',\n",
       " 'still sick feeling a bit better got some new medicine hope i feel good after a night of sleep ohh and its suppose to snow wtf ',\n",
       " ' i think maybe you should get a couple more hours of sleep hon how productive can you be right now if ur dog tired i worry ',\n",
       " 'maddyva thanks a lot learned a lot of new words but didnt find what i was looking for ',\n",
       " 'wish i had all the xblm downloads all on the gamertag hitokyri this  gamertag thing is nonsense and im tired of it ',\n",
       " 'new testament test at  am   ',\n",
       " 'scoutbuck tons no hay troll ahhhh ',\n",
       " 'stupid movies we watched mirrors ugggggh stooopeeed rip off ',\n",
       " '  i love you buck ',\n",
       " 'last one but still not done ',\n",
       " 'homework ',\n",
       " 'i dont understand why things get taken away i didnt have enough time with him its unfair i want him back he was like my baby ',\n",
       " 'scratch that du in heif two in a half cookies my tum just cant take anymore shoog poots ',\n",
       " 'cococourtney i was just listening to the sweets for the first time in forever i miss them so much  can we go to chi town for visits plz',\n",
       " 'geez what a busy afternoon meetings emails meetings and email and more meetings  and the day is still going ah its dark and ',\n",
       " 'dang another spring break  how cool is that  too bad i have to work all week  oh well more money for a phone  ttyl everbody',\n",
       " 'sarakate im afraid too   ur reply about uni from ages ago',\n",
       " 'feeling down ',\n",
       " ' lol they are some emotional ass men omg all this late night eating both of us are broke ',\n",
       " 'nickcarter aww nick i like your hair longer why did you cut it off  break my heart',\n",
       " ' wonder if jon lost the net',\n",
       " 'wow the most depressing thing in the world is losing a video that youve created in a matter of seconds  fml',\n",
       " 'nchokkan  but all says not in stock ',\n",
       " 'poohpot lmao im sorry poohpot i ate it all ',\n",
       " 'any chance  softbelly for mtub isnt loud ',\n",
       " 'time to move my posterior  and lose some fat my articulation are creaking so no more running  but iï¿½m drool for some swimming',\n",
       " 'listening to nathan cry ',\n",
       " 'today sucked im gonna die without chris and callum  wahhh',\n",
       " 'stou site not update no info about  exam and open course i must wait for mail notices and doc um ',\n",
       " ' sorry im feeling kinda yucky myself  is going to come too quick ',\n",
       " 'is in love with scrappy and is missin him already ',\n",
       " 'wants to hear seblefebvre s song but myspace is messing with me ',\n",
       " 'bad news was dad has cancer and is dying   good news new business started and  i am now a life coach practising holistic weight management',\n",
       " 'duchessrebecca man intervention is soo sad ',\n",
       " 'help i need a new boyfriend im stuck in a rut ',\n",
       " 'i feel like a complete idiot im the only one who doesnt get how this shit works  help me ',\n",
       " 'saw an ad on craigslist for a casting call for a female host on  i was totally psyched but realized it was a hoax ',\n",
       " 'pepperoni rolls in la i called valentinos  they said that they had sausage rolls but no pepperoni rolls  ',\n",
       " 'soillodge yes it will be its only monday ',\n",
       " 'i want the new gg episode already ',\n",
       " 'i miss watching rockos modern life ',\n",
       " 'rip sandraits so sad    how can someone do something like that',\n",
       " 'keeping my fingers crossed for my buddy    he is not feeling well',\n",
       " 'wait should i eat or be skinny for vegas im hungry ',\n",
       " 'margeinovera i tried tweetdeck once and i hated it with a passion or it hated me im not sure ',\n",
       " 'benackerman btw my iphone is acting funny dying quickly and freezing and bs  im not admitting anything just sayin ',\n",
       " 'sitting here wondering why quotedquot still has such a strong hold on me ',\n",
       " 'bananaface im sorry i got you sick  lol going to bed too night',\n",
       " 'carolrainbow no internet at home have to drive into ox to use internet because of builders ',\n",
       " 'stevebuscemi the weather in canada is freezing ',\n",
       " 'twiggassssssss i been out of range all day  im back now and hopefully for good',\n",
       " 'danadearmond ',\n",
       " 'anyone who reads this pray for my grandma shes in pain ',\n",
       " ' woke up and was having an accident  quotits pushing its pushingquot he was crying because he couldnt stop from wetting his pants  ',\n",
       " 'home from franklin street i almost jumped over a fire someone kicked it before i could  jenny lost her shoe',\n",
       " 'johnnybeane hey you just changed your default ',\n",
       " 'finally gave in and was bored enough to start this thing i think the  is going to be a problem for me tho  its like a myspace status',\n",
       " 'ellievolia if oooonly we were really so lucky eh and awh  definitely too early for work',\n",
       " 'buttload of homework ',\n",
       " 'needs another copy of visual studio  ',\n",
       " 'why to we the only school in the world be in this weekmy school is silly  anyway look on the bright side when im off u will be in',\n",
       " 'omg ive an economics test and i dont know all the things i have to know and omg im gonna fail ',\n",
       " 'robcthegeek once upon a time hundred islands was the pride of philippine tourism but coralclamrare fish poaching did it in kinda sad ',\n",
       " 'henkuyinepu yeah apparently i have really bad taste ',\n",
       " 'hummiemd i know i was really surprised since everyone recommends them on youtube  i have to call them tomorrow and figure it all out',\n",
       " 'waiting at the airport for my ride while i get harassed by  men trying to sell me ugly hats why me  i just want to sleep',\n",
       " 'i left my ids at the location and now i can not go out to bars  fuckkkkkkkkkkkkk',\n",
       " 'celycarmo im sorry i dont understand your last comment ',\n",
       " 'officialrandl when is the announcement i stayed up late last night ',\n",
       " 'kishorek this is strange illegal torrents avlbl everywhere legal dvd not in stock  what do i do now',\n",
       " 'its not enough to say that imiss u ',\n",
       " 'this trolley has up packed in like sardines padre game and they remove a car good call mts ',\n",
       " 'randomlynat jeez i was just trying to help  haha',\n",
       " 'supamagg that happened to me saturday night along with my glittery green lighter ',\n",
       " 'trying to reduce the number of cigarettes in each day ',\n",
       " 'yea it is so quiet around here cuz everyone has to work im bored to death with nobody to talk to ',\n",
       " 'gotta do my cooking assignment  its too hard',\n",
       " 'treesahquiche okay about the applepears ive talked to a few people and theyve all had them before no one ever told me never ',\n",
       " 'jennifermf i know  im a night owl by nature hahaha am i a time zone behind you its almost  here',\n",
       " 'mamasvan lol  nope but i did have complete camerafail ',\n",
       " ' megelder but im useless if i dont sleep  its not fair i want all the fun as well',\n",
       " 'my pookie has a uti  i have to be nurse gabbie and get him back to  no more sodas',\n",
       " 'jillianfish tweet something damn it  and hang out with me please ',\n",
       " 'anistorm ',\n",
       " 'im so behind in video games and everything for that matter im yesterdays news ',\n",
       " 'sleeptilnoon i did it was the only one left but i got tempted and ate it soon as i got home  i had a chocolate velvet amp ate d mocha',\n",
       " 'is stressing out because my blackberry keeps flashing a red alert status for no reason its faking me out and i hate it ',\n",
       " '  i wanna wear my doc martens out havent worn them since december ',\n",
       " 'when to the shoe repair shop and the guy could not find my shoes  so i have to go back and see if he can find them in a couple days ',\n",
       " 'bbarnett i did not really see that coming ',\n",
       " 'just woke up from the most vivid sketchy notcool dreams of my life time to stare at the wall with the lights on ',\n",
       " 'itll take  days for my sister to get her passport ',\n",
       " 'nicolerichie oh my yes i miss ',\n",
       " 'uh oh i think i am getting sick ',\n",
       " 'good god they ruined my belly button  ',\n",
       " 'watching who framed roger rabbit makes me miss toon town ',\n",
       " 'akianz renting but very cheap renting and awesome house we had  buying attempts fall through ',\n",
       " 'running nose  spinning head  not a good combination for a meeting ',\n",
       " ' negative you lost my vote of confidence ',\n",
       " 'nasty budget due and my iphone is being sent to apple today ',\n",
       " 'sofiinoel thatï¿½s bad ',\n",
       " 'dammit episode  of kings wont play for some reason  stopped in the middle now wont do anything',\n",
       " 'im so upset that i missed my chat and quiz online because my free internet has ceased ',\n",
       " 'cant believe it im in disbelief of it all in a way really how much can i take from people and always get hurt by others ',\n",
       " 'car show season has started without me ',\n",
       " 'my throat is raw ',\n",
       " 'kevchoice i just dont get it what in a persons mind could even have them on some ish like this  my prayers are with her fam for real',\n",
       " 'frago i hate you i didnt need to see that i need to call my therapist now ',\n",
       " 'twilight didnt come yesterday  fingers crossed for today',\n",
       " 'nilelegania glad i was able help you feel better i hate to see you sick  love you',\n",
       " 'is tireddddddd want to sleep but i have an assignment to finish and an exam tomorrow to study for ',\n",
       " 'you know i was thinking i need money ',\n",
       " 'omgits jst teusday ',\n",
       " 'ddlovato davidhenrie ummmmm i cant find it ',\n",
       " 'just heard that they found sandra cantu she was only  yrs old ',\n",
       " 'corrosivecandy ive forgotten how to snoosnoo  i wonder if snoosnoo and i will ever meet again',\n",
       " 'amanorris wow that last tweet made me seem like a giant sexistsorry about that ',\n",
       " 'my bathtub drain is fired it haz  job  do amp it iz fail i got all drano on its ass amp iz still not draining i wanna shower dangit ',\n",
       " 'stuck at home ',\n",
       " 'nomadicmatt mine is   how do you get it up',\n",
       " 'duckling in famous childrens book stolen from bostons public garden  the boston globe  via sharethis oh no ',\n",
       " 'appomattoxnews thank you however i hate to be on the same list that includes  convicts  ',\n",
       " 'heading to altrincham again out of hours install ',\n",
       " 'morning good im bloody knackered work is not for me today  helppp xxx',\n",
       " 'jeffreecuntstar  i dont have a garage  but you can park in my driveway',\n",
       " 'lauredhel  what happened',\n",
       " 'quoton popular musicquot by twadorno is probably the most difficult reading ever prescribed im actually struggling to continue ',\n",
       " '  cant see the flowers falling  i dont have a camera just my cellphone',\n",
       " 'weve been good im not liking the snow right now was getting used to the nice springlike weather  how about you',\n",
       " 'brianarmstrong what a pity youtube is currently blocked in china  i cant see the vids ',\n",
       " 'margaretcho what happened to your show it was the hightlight of my life ',\n",
       " 'this is the best leather sofa in the world  its in the office though which means im still here working ',\n",
       " 'still  more days until my internet gets uncapped ',\n",
       " 'if he doesnt get better in a few days he could have something lodged in his belly ',\n",
       " 'i love my atekinzz so much ampamp i soo miss her ',\n",
       " 'i wanna sneak into the zoo and play with the kitties ',\n",
       " 'lolitariot oh no  hope youre not getting sick too',\n",
       " 'alejandralei i dont think i can cause its my cousins birthday party ',\n",
       " 'our sweet little man just fell asleep while waiting up for daddy and big brother to get home  poor baby he missed them so much today',\n",
       " 'the angel is going to miss the athlete this weekend ',\n",
       " 'trust is hard ',\n",
       " 'have watched that considering today yaknow shawnna tomomorrowi need my bestfriend ',\n",
       " 'grr i want to keep reading but if i do i wont have anything left to read ',\n",
       " 'atekinzz where in the world are you ',\n",
       " 'rumlover no u supposed to be my date ',\n",
       " 'pears amp brie bottle of cabernet and quotwin a date with tad hamiltonquot oh gawwd my life flashed forward to when im  with my  cats ',\n",
       " 'crap i need more dresses too ',\n",
       " 'kaeeeep yeah i know it was horrible ugh saddening ',\n",
       " 'brodhe geez ur no fun are you ',\n",
       " 'i wanna be in a punk rock band again ',\n",
       " 'jyesmith thats a lot of angst for a tuesday afternoon ',\n",
       " 'im very glad britney isnt crazy anymore that was one hell of a show now im sad that its over  next upap at cook county',\n",
       " 'has a huuuge headache omg i feel like crap ',\n",
       " 'anistorm sorry ',\n",
       " 'cleders sorryi was rooting for them too ',\n",
       " 'man that took forever ',\n",
       " 'shandasaurus  i see',\n",
       " 'i am listing more items on ebay to sell  takes forevermeanwhile coleman is watching the hills season premier without me ',\n",
       " 'just got my presentation done  slides done  im crying for this week will be the hardest of all weeks',\n",
       " 'just lost  ',\n",
       " 'i dont like the previously on skins thing that starts at season two i like it when it went straight into the intro like before ',\n",
       " 'houndour i wish i was thereim pretty good at scaring the shit out of people ',\n",
       " 'going to sound vain but running out of my fav lip gloss ',\n",
       " 'stuiy never again will i click on a link that screams quotim a spider im a spiderquot i should have known better yucky ',\n",
       " 'why is that when you have time off from work you get sick ',\n",
       " 'pratama same imac came out  more in indonesia than the states ',\n",
       " 'dammit i need to stop buying furniture ',\n",
       " 'misssil no i was half asleep and turned off the laptop after that ',\n",
       " 'death is peaceful  life however bites ',\n",
       " ' i think jonathanrknight lost the net  sure hope not',\n",
       " '   and    test footage with my girlfriend in hd the dark one is underxposed ',\n",
       " 'such a tough game to watch tonight for state  finally going to bed after also staying up to watch the season premiere of the hills',\n",
       " 'seems jruby support for hpricot is now two versions behind ',\n",
       " 'jinxcat unlike my sisteri still dont have one ',\n",
       " 'fraking app store is pissing me off   ',\n",
       " 'logging out i need to study ',\n",
       " 'anyone else having problems accessing ttb i cant get on ',\n",
       " 'i strongly dislike people who make stupid comments and dont know the whole story ',\n",
       " 'emmaketurah  im sorry emma is swarley a goldfish im sad for u',\n",
       " 'all my tweets are already gone arent they  missed you guys tonight',\n",
       " 'cant sleep again face is kinda swollen dont let me be allergic to the thing thatll get me to thursday school tomorrow doubtful ',\n",
       " 'snickthedog if izzys on the cat tree shell stare him down but if shes on the floor he chases and she runs ',\n",
       " 'i am officially banning godaddycom from my comp my head hurts from the small print and i wasted  that couldve happily gone to boba ',\n",
       " 'humanopium pretty much just scary for me ',\n",
       " 'ilovepie mines too im finding it well hard to get fit ',\n",
       " 'good morning ready  go but i want  go back  bed ',\n",
       " 'hates waiting for mails ',\n",
       " 'wheat bread from the dollar store just doesnt toast nicely  going over my taxes and calling it an early night',\n",
       " 'why kutner i mean i knew something was going to happen to someone but it was so sad i  house and it was well done but im still sad ',\n",
       " 'jonathanrknight aw ok goonite  ',\n",
       " 'ill so i cant go to the cinema ',\n",
       " 'fell asleep    really didnt mean too  christina',\n",
       " 'kelleyrowe hey you remember that time we used to be friends   ugh vomit sick  i need sleep ',\n",
       " 'my lymph nodes are as massive as rahm emanuels balls right now ',\n",
       " 'oh no my computer sucks i dont think ill be able to listen to the xbox  fancast tonite ',\n",
       " 'is missing playing my trumpet ',\n",
       " 'my throat is still really sore i was meant to be going on a  day camp from friday but not so sure now ',\n",
       " 'sasii i know exactly how you feel ',\n",
       " 'at work ',\n",
       " 'well bed time now  am sighs back to  am mornings for a week on wednesday ',\n",
       " 'hert jesus camp yeah ',\n",
       " 'marybethune oh no with everything that happened today i forgot we were going dress shopping for the opera tomorrow ',\n",
       " 'turtles are better than my mac  lasts longer and moves faster ',\n",
       " 'i am soaked this is not pleasant ',\n",
       " 'ginayates sorry to hear about maggie    thoughts to your mum',\n",
       " 'ewarden you may have to email this one to me  i hope you feel better',\n",
       " 'miamiiboii dead  yu gettin on wen im leavin ',\n",
       " 'arlenecd please tell me thats somewhere close to california lol ',\n",
       " 'phlaimeaux where are you ',\n",
       " 'stupid arranged marriages ill convert so you can marry melove you ',\n",
       " 'emilyruppe well he said that he is a looser and that is what the show implies ',\n",
       " 'poor sandra cantu amp the cantu family my prayers go out to them what a sick world we live in she was only  ',\n",
       " 'fuck omg  austins always there though man  love you',\n",
       " 'nicolerichie i cried so hard when matthew died ',\n",
       " 'sad that the feet of my macbook just fell off  sad that the feet of my macbook just fell off ',\n",
       " 'chordsy  why am i the last to find out about these things like that youre on the twitter too ',\n",
       " 'lovebscott absolutely not ',\n",
       " '  filled with curry  the true indian in me is coming out',\n",
       " 'im soooo cold right now ',\n",
       " 'heidimontag lol i kant believe cam got beat upp sooo embarasssiiiin ',\n",
       " 'jonathanrknight good knight hun looking forward to ur tweets again hate that i keep missing out on the fun cuz of the time difference ',\n",
       " 'tumblr this is exactly how it feels wearing a ï¿½tieï¿½  ',\n",
       " ' hahaa i just realized quotimpunequot definitely isnt the word i wanted dang im so unclever ',\n",
       " 'watching old videos of dance team and such makes me miss it  ',\n",
       " 'wahh  no csi anywhere dvred i love money  though  gonna watch it then sleep  goodnight ',\n",
       " 'struggling hard with inventory ',\n",
       " 'ddlovato do you hate us please dont ',\n",
       " 'ballinbitch haha im not that ballin i still got bills to paaaaay ',\n",
       " 'im in one of those days when i really just want to work from home  crap ',\n",
       " 'paulewog waitis it a game or just episodes im so confused ',\n",
       " ' haha i cried  i guess he did',\n",
       " 'i dont get statistics  its all a bunch of mumbo jumbo for me',\n",
       " 'sloanb got it sadly only works for uk amp us at the moment ',\n",
       " 'evicted ',\n",
       " 'doesnt enjoy learning css ',\n",
       " 'nachojohnny brian dont make me fuck u up lol i replied  ur messagedid u get my   i miss u ',\n",
       " 'heidimontag i  dvrd it and went to watch it apparently the dish network went down so i missed it    i will have to catch a rerun',\n",
       " 'jessdubb lmao u may have to wait for another season to come thru its summe boo hot nd dry ass weather ',\n",
       " 'lizchavez i cant set my feet on the ground the missing eyelid people might get me  ',\n",
       " ' my english professor would be ashamed ',\n",
       " ' i wish the frogs werent becoming extinct    ',\n",
       " 'came home from cross county tired as ',\n",
       " 'i dont want to walk home in this snow who wants to pick me up ',\n",
       " 'heidimontag lauren is being stubborn she loves you you love her  i feel so bad for you though it made me cry  lol',\n",
       " 'is grouchy and wants bmar ',\n",
       " 'my heart is broken every morning dropping foo at pre school now i understand when moms say quothe has my heart brokenquot ',\n",
       " 'not feeling well and back hurts ',\n",
       " 'im in the mood for some chocolate i want miniature reeses cups now ',\n",
       " 'i cant take this heat its like an oven in here i feel sick nwo ',\n",
       " 'nickcarter come to the chat  just  minutes  please httpfanclubbackstreetboyscomchatphp',\n",
       " 'boredd colddd  internet keeps stuffing up',\n",
       " 'i had a horrible nightmare last night which affected my sleep now im really tired ',\n",
       " 'im lonely  keep me company  female new york',\n",
       " ' lost  and it was st ignacius prepatory school haha',\n",
       " 'birutagme yeah  it was really depressing stuff like that gets to me',\n",
       " 'whoisariston no problem tongueincheek remark  lots of acronyms but no nz ',\n",
       " 'greggrunberg hey you said matt was gonna go all ballistic i was disappointed  good ep tho mostly',\n",
       " 'ugh horrible ending to the sandra kantu story  prayers go out',\n",
       " 'danielledeleasa   i hate  b allergic  i want a puppy soo bad that ive already thought some cool names',\n",
       " 'morning folks  am yawn up amp away to see to horses  hope twitter is better behaved today  last night was a travesty ',\n",
       " 'quandotcom i miss mine too ',\n",
       " 'amandaenglund sorry to hear about your loss     there have been many this year so far',\n",
       " 'nicolerichie gossip girl was a repeat ',\n",
       " ' i reckon ',\n",
       " 'finding it really hard to use twitter ',\n",
       " 'ive been stuck in this house for two days ',\n",
       " 'is really sad and doesnt really know y ',\n",
       " 'thousandmiles no ',\n",
       " 'maybe one of these years ill get a tax return  a girl can dream right',\n",
       " 'back at work tired as hell and i feel a cold coming ',\n",
       " 'clarianne  april  isnt coming soon enough ',\n",
       " 'hannahsix cream for his eye and he may have herpes  not ocular herpes but a different strain    hes doing okay though',\n",
       " 'gotta repeat  whole art folio cuz old one with a whole terms work got wet ',\n",
       " 'im ready for the weekend already its only monday ',\n",
       " 'lovebscott umm nopethink im an insomniac plus i got the fluilll be sleepin like a phuckin fish outta water any minute now ',\n",
       " 'has finland sleeping for the night not really enough time ',\n",
       " 'lunafiko cant wait to try em but prolly have to wait until next weekend at the earliest ',\n",
       " 'shiner is taking up all my bed and blankets ',\n",
       " 'clarianne april  isnt coming soon enough ',\n",
       " 'wants to cry ',\n",
       " 'i need to go to the bank tomorrow before i go broke ',\n",
       " 'this earthquake in italy has me sadden  its only three hours away from naples where my family is ',\n",
       " 'i should be sleeping i have a stressed out week coming to me ',\n",
       " 'dragoneer yea   i am working tp hack my server to do the  thing for folks',\n",
       " 'has hurt her ankle and is going to the dr ',\n",
       " 'raymondroman oh noes how did you manage to send something to the trash can and empty it without noticing i feel for ya ',\n",
       " 'lost my free copy of radioactive so cant put it on my ipod grrand i cant go out  buy nother coz it came with that paper ',\n",
       " 'doing make up shit ',\n",
       " 'photoshop i hate it when you crash ',\n",
       " 'vacations makes me feel sick ',\n",
       " 'you shouldnt have gone ',\n",
       " 'listening to murd and  wonder just chillen out missing my crazy sex life  ',\n",
       " ' shooting be careful luisa ',\n",
       " ' im sure everyone has ruined my gift to you  whitney has my serious cell we doing easter as well',\n",
       " 'is at beso in hollywood so tired ',\n",
       " 'i dont want to wake up early tomorrow  damn you work',\n",
       " 'just finished watching the movie prayers for bobby broke my heart ',\n",
       " 'syekr is myki really horrible ',\n",
       " 'stephenkruiser i had  put my dog down today too  someone ran her over',\n",
       " 'nevadawolf sorry to hear about your dnf run tonight always a risk to get bad coords on an ftf ',\n",
       " ' i did get some disgruntled people when i wrote my esn but the  hits in one day made up for it bill pulls in  tops ',\n",
       " ' ohh omg lmao im crying right now lol kutnerrrr was the best ',\n",
       " 'came back from running and took a showerwhy does my lower stomach still hurt after exercising ',\n",
       " 'watching fallon with mom and working on a projectschool is hard ',\n",
       " ' min till home time and counting i have a craving to visit the mac store but they will have closed by the time i get there ',\n",
       " 'stephenkruiser i am so sorry to hear that  take care',\n",
       " 'paulcoles  hmmmgreed is good when it motivates the individual to do betternot so much when it takes away from others ',\n",
       " 'gabbyisactive brat you have to rub it in dont you i want a mocha ',\n",
       " 'kutnerrrr  why why  and to think that  is still on the show ugh kutnerkal penn  youve been the bright star in ho ',\n",
       " 'redvinylgirl my mom has it i wish you the best of luck ',\n",
       " 'i so hate homeworks  my head hurts so bad ',\n",
       " 'got the ebay blues item i want jumped from no bidders to over  in an hour still has  hours to go id better not get my hopes up ',\n",
       " 'gigdiary i know   was a little depressed that we ate so much last night there were no leftovers today ',\n",
       " 'well the pc in my living room suffered a fatal partion lost all my itunes library is gone and some docs with pics ',\n",
       " 'sad day manu out for the season ',\n",
       " 'stephenkruiser you poor spunkyits so sadmy rotti made it to  and i had to go down the same pathi know how you feel ',\n",
       " 'im sooo sad right now  i need a hug',\n",
       " 'wants her step brother home  im so worried you dont even know i hope he knows how much i care for him',\n",
       " 'heidimontag just got done watching the hills loved it excited for the next episode and im sad this is the last season ',\n",
       " 'ryanmwilson aww that stinks  hugs',\n",
       " 'im tired i feel like crap and the world feels all crummy make me happy usb disco mouse ',\n",
       " 'i dont want to believe what im readingbuuso sad ',\n",
       " 'wondering why gamebattles is down ',\n",
       " 'white trash vs us we were outnumbered  ',\n",
       " 'emitstop so true i have it and dont use it ',\n",
       " 'spring break is here at last but no one is here to celebrate ',\n",
       " 'morning bah car wont start waiting for the anwb ',\n",
       " 'katebornstein which is pretty anti memorial tattoos   but for all but the strictest theres no official ban just disapproving family',\n",
       " 'balamurugan a longterm member of the team is leaving this month well miss working with him  hope he does well in his next venture',\n",
       " 'justgelo its sad knowing how they found her body what a crazy world we live in no child deserves that ya know ',\n",
       " 'i wanna rock a maxi dress  coachella but lacking funding ',\n",
       " 'of course the baby is screaming in the crib the night before my first day back at work  so i let him cry it out boooo',\n",
       " 'i am home missing my baby  busy week ahead fri is a chill day with my guy and kids egg hunt sat spiral and dmb sat night and easter',\n",
       " 'followsavvy i never found her everytime i click on her twitter thing through your myspace it goes to some dudes page ',\n",
       " 'stephenkruiser thats horrible  sorryto hear that',\n",
       " 'davidhenrie i cant find it it says dtmafiaofficial doesnt existtheres jus  dtmafia i found n u dun seem to b followin it  wht to do',\n",
       " 'i thought you would support me on this ',\n",
       " 'augh eff sarth  i stole some of mils nail polish its pretty o',\n",
       " 'wishes i was on the spring fling tour with dawn amp neecee sigh  gknight',\n",
       " 'the hoyts distribution nz website isnt working for me great and it has to be like this when i need it most ',\n",
       " 'crummyasshole i dont like that they only had him in the first movie  cillian murphy is hot ',\n",
       " 'wishes for good old cartoons to come back ie captain planet wheres wally daria sadness  ',\n",
       " 'not feeling v good abt myself ',\n",
       " 'i just got a text from sarah ',\n",
       " 'another day at centre point  this time an early start so guessing train will be rammed with commuters ',\n",
       " 'four games this fall modern warfare  halo  odst brutal legend and bioshock  i need more cash ',\n",
       " 'dcastillo ugh thats disconcerting ',\n",
       " ' actually the whole site has finally been taken over by those damn russians ',\n",
       " 'my tweets arent going through ',\n",
       " 'just finished a delicious breakfast my last in paris  ill miss milk europe has the tastiest milk in the world i dont drink it in us',\n",
       " 'ilearn is down and out great considering finals are this week ',\n",
       " 'carmonium im stressed outttt ',\n",
       " 'also i shouldve bern asleep an hour ago ',\n",
       " 'trying to figure out this twitter thingnone of my friends are on  yet soo much to see',\n",
       " 'repinging  custom icons i made  look cool but the edges could be less square  might look bad on a diff background',\n",
       " 'i want to be back in la ',\n",
       " 'enterbelladonna i dunno how to use the forum and i get frustrated with it ill miss talking to you on here ',\n",
       " ' not an option ',\n",
       " 'georgeruiz unfortunately one of those moments wasnt a giant squid monster ',\n",
       " 'thestarrage i want one too    is the branch in midv open too',\n",
       " 'dananner aw sorry to hear that ',\n",
       " 'change of plans we ordered macs instead time to hit the books ',\n",
       " 'polhillian yup ',\n",
       " 'nkdreamer did you see donnies tweet stats almost   repliesand no jrk ',\n",
       " 'timgrainger nah i havent received my stimulus yet ',\n",
       " ' i just seen ur tweet  plz write bak if u get this i havnt got one reply bak ',\n",
       " 'mccainblogette awwwww and you were trying to go to sleep  hours ago ',\n",
       " 'stephenkruiser im so sorry to hear that  its always sad when we lose those close to us as we loved them',\n",
       " 'cant sleep but im still feelin like a piece of shit ',\n",
       " 'stephenkruiser oh  my sympathies its a hard decision i always hope my old border collie will go in her sleep shes  too hug',\n",
       " 'josephheustess well there was this really cool part where i wont spoil it ',\n",
       " 'limbecky im doing the time warp without you and am sad ',\n",
       " 'theresawhite this is true lol but its still a slap in the face after such a warm end of march ',\n",
       " 'i hate converting movies just to put em on my itouch ',\n",
       " 'gross i have a pimple ',\n",
       " 'torturedlady yea  manaaaaaaaaaaaaaaaaaaaam marwan accent lol',\n",
       " 'one less follower tonight ',\n",
       " 'unholyknight so did your mom last night  brb while i figure out whether i just burned you or myself the most',\n",
       " 'i feel like i am the only quottwittererquot not on tweetdeck ',\n",
       " ' he has karate tournament in  weeks  ',\n",
       " 'going to sleep cant be up until  againand no i didnt finish my statistics homework ',\n",
       " 'north carolina baby aint nothin stopping them but the nba draft ',\n",
       " 'cant sleep again ',\n",
       " 'i reaaly miss john mayers twitters  fuck rude people remove him if you dont like his tweets bitchfucks',\n",
       " 'is going to have a late one at mqu today ',\n",
       " 'im so tired of worki need a life ',\n",
       " 'just leavin work my feet hurt ',\n",
       " 'playradioplay that was so sad and unexpected  i totally cried haha',\n",
       " 'superneej morning bah car wont start waiting for the anwb ',\n",
       " 'still doing my homework ',\n",
       " 'a little sad ',\n",
       " 'deepbluesealove my mom amp dad both get up around  early for me ',\n",
       " 'shouldve been asleep two hours ago ',\n",
       " 'stephenkruiser so sorry to hear about your dog ',\n",
       " 'funny how the little things make me homesick criminals breakn  a brownstone on lawnord ci made me misty ',\n",
       " 'djsoulsister yeah great vid i had the  single but sold it a few years ago ',\n",
       " 'im on vals mac in iitsc clubroom still sweating ',\n",
       " 'stephenkruiser awww so sad  im so sorry',\n",
       " 'updatingffe  that gives me nothing to do for a good twenty minutes',\n",
       " 'hot compress not rily workng for pulled muscle  gng to bed good night',\n",
       " 'have an invite for quothealthy diningquot session at ashok hotel today with exec chef rchopra but damn workload  will have to skip it ',\n",
       " 'stephenkruiser im so sorry to hear about your dog   wishing you happier days to come',\n",
       " 'hellivina i miss em too ',\n",
       " 'misstoriblack cool  i have no tweet apps  for my razr ',\n",
       " 'im off too bed i gotta wake up hella early tomorrow morning ',\n",
       " 'still procrastinating i hate organizing my clothes  theres just so much',\n",
       " 'just been playing with the new mobbler  and it adds some great new features but wont play music on my  like  did ',\n",
       " 'latroneb oh but theres one bestie missing ',\n",
       " 'esuriospiritus time to come back to flawda for double dates no seriously im sorry to hear that ',\n",
       " 'im up way to late to be working for a client  am  fb',\n",
       " 'blegghhhh i have to go to work ',\n",
       " 'back at work   john muir dr httplooptuskoqabg',\n",
       " 'dachesterfrench i emailed you yesterday and u never responded ',\n",
       " 'its going to be a long year for as fans ',\n",
       " 'just got done watching the new house episodedefinitely one of the saddest episodes ever ',\n",
       " 'man taxes suck  im horrified that i did something wrong on them  turbotax decided to keep around a lot of the stuff i turned off  ',\n",
       " 'sleep time  tomorrow is gonna suck ',\n",
       " 'wtf not kutner  oh im so pissed  house  i mean really wtf   ',\n",
       " 'amberpacific i know i dont know why i said that ',\n",
       " 'cash rules everything around me ',\n",
       " 'just picked up some oats from the market to eat for breakfast with my boy adamgoldston now time to do work at usc late night ',\n",
       " 'i feel sick  too much icecream',\n",
       " '  this computer doesnt have shockwaveblah  no account yet',\n",
       " ' awww wish i could go but its in sydney ',\n",
       " 'luxuryprgal hahaha suriously i feel like everyone knows this show is a joke except lc ',\n",
       " 'i just cant spell today i totally suck ',\n",
       " 'are you vaccinated against chickenpoxshould i vaccinate my  yr oldi am so confused about this damn thing ',\n",
       " ' school  at least last day',\n",
       " 'yawwwn gotta get up early tomorrow  whos ready for the weekend',\n",
       " 'i miss being at home for calving seasonsad that black one died this morning  wish i had some bottle calves',\n",
       " 'stephenkruiser i so sorry for your loss my brother dog sam is sick wcushings disease ',\n",
       " 'back to work i get to spend the next  hours alone in the dispatch room ',\n",
       " 'theres a new kind of starburst favereds sounds fab bc cherry and strawberry are my fav reds but they added watermellon and its yucky ',\n",
       " 'well so much for being productive on my  days off from angels ',\n",
       " 'andreabakes oh gee  insomnia sucks   have you tried melatonin',\n",
       " ' good to hear that we have support in netbeans but then its netbeans you know ',\n",
       " 'heidimontag i wish we would get it the same time at the rest of world unfornately i am in cairo and have to wait for mtva to play it ',\n",
       " 'heartbroken over little sandra prayers are with the family ',\n",
       " 'hadtobeyou im at  words its all can do  ill finish tomorrow maybe',\n",
       " 'shortiethug how come ur background covers the screen but mine is in the corner ',\n",
       " 'wrote exactly three lines of dialogue tonight then gave up ',\n",
       " ' my only complaint about facebook is theyve changed it so much its confusing ',\n",
       " 'sliced my finger ',\n",
       " 'going thru town and traffic on bypass is stink ',\n",
       " 'ugh cant sleep  wish i had a good cuddle to  make me ass out ',\n",
       " 'i hate when software update downloads updates without telling me i never know whats downloading when it is ',\n",
       " 'went to ihop again great for a diet   at least there were no kung foo pancakes this time rachel',\n",
       " 'the internet is hating me night i spose ',\n",
       " 'contactabe im so jealous  i missed all of opening day this year ',\n",
       " 'its so cruel having to wait for reviews to come in  so far it looks like star trek will be the best film of the year',\n",
       " 'debating if i should just shower now so i can sleep a little later tomorrow ',\n",
       " 'my stress always culminates with physical pain  ',\n",
       " 'need to sleep but cant ',\n",
       " 'my little pinky finger hurts so much ',\n",
       " 'sarahsaturday im sorry your gift card ran out that suck ',\n",
       " 'home for spring break no one is home tho ',\n",
       " 'i accessed oneindiamobi from a google phone android it doesnt support indic languages ',\n",
       " 'why does school take over your life so much you dont get sleep anymore   i am still doing school work and have more to do as well',\n",
       " 'mtsiaklides aw i wish i could i cant really speak to my yia yia because she doesnt speak english ',\n",
       " 'winggato no free comp lol ',\n",
       " 'getting ready to clean the house from top to bottom ',\n",
       " 'crying  my friend is moving away tomorrow ',\n",
       " 'swiftkaratechop stop nomnoms you didnt share  night peoples',\n",
       " 'thinks she is getting a cold that she caught from daddy  oh no my trip would be ruined ',\n",
       " ' yeah  is it bcoz kal penn is a visiting lecturer somewhere n cant be on the show anymore im gonna miss him ',\n",
       " 'so the procrastination starts early in the quarter i dont want to reaaaaad and write a paper ',\n",
       " 'what apparently its  degress at  in washington state i miss winter already ',\n",
       " 'being bored at homee ',\n",
       " 'massage was great i just spilled coke all over my desk  lame watching the simpsons as ive finished all my hills dvds',\n",
       " 'nickcarter i will wait for you at fanclub chat even tough youre not my favorite ',\n",
       " 'has a mild left inner ear infection and its got this irritating quotblockedquot feeling since sunday ',\n",
       " 'janebodehouse hey there nope my cuteness hoytfortenberry is away for awhile ',\n",
       " 'its only tuesday ',\n",
       " 'haha not even yo i just didnt know how to do that thang to you on twitter  haha',\n",
       " 'someones alarm clock or a phone woke me up at  got my headache from yesterday night ',\n",
       " 'kalichosich awww poor puppy is she ok ',\n",
       " 'i might break down and eat some buffalo wings tomorrow ',\n",
       " 'sittin here wkayla i really really reallly dislike having a brother  he doesnt know when to stop im waiting for the day when one of',\n",
       " 'fed bokkie too many birthday treatssicko ',\n",
       " 's kinda bummed an agency just told me that i didnt have the look that they were going for ladies please help me create the look ',\n",
       " 'work laptop is officially dead  not happy at all ',\n",
       " 'my goodness its freezing down here  ',\n",
       " 'heidimontag why do you put up with him  you should listen to your mom ',\n",
       " 'is stucked in paris and cant even travel into france for work ',\n",
       " 'joannafbeckett i dont think theres one close by last time i checked the closest one was  miles away ',\n",
       " 'aaaaand back to my literature review  at least i have a friendly cup of coffee to keep me company',\n",
       " 'i am worried that i wont get my  even though i paid a buttload of tax last year  ',\n",
       " 'okay so still no school ',\n",
       " 'is phoneless  now off too sleep',\n",
       " 'reeked of alcohol at the dentist this morning  was drunk when i put on my tshirt realised it had a huge stain dentist looked disgusted ',\n",
       " 'it is really cold ',\n",
       " 'cant sleep  she wants to dream',\n",
       " 'cant sleep  i hate these nights when i try to go to bed early and stay awake for hours poo',\n",
       " 'rootbeersoup yeah too bad people like a certain burritoeating man exist ',\n",
       " 'cronotriggers  thats sad',\n",
       " 'just found out that my mum  and my adopted auntie are on twitter check them out my mum is  and my awesome as auntie is ',\n",
       " 'cannot sleepwide awakeand i gotta go to work later too boy am i going to have a crappy day ',\n",
       " 'struggling with eam law ',\n",
       " 'why cant i sleep like her  ',\n",
       " 'bouts to start  poor linny couldnt keep her eyes open  she tired and has to work tomorrow morning night ilovefatsusan',\n",
       " 'my  year old  year old is driving me around the twisti dont want to be like this ',\n",
       " 'well that sucked ',\n",
       " 'i have to be out of my place in  daysany help i can get packingpaintingcleaning is much appreciated oh and rip my wall  ',\n",
       " 'opening a partially frozen beer beer on the toaster under the oven and all over the counter the kitchen smells like we run a speakeasy ',\n",
       " 'stewiebrittany no  i dont even know how to ride it',\n",
       " 'monasmith sadly yes i think i need counciling now ',\n",
       " 'making myself ready for schooldont feel like going but have two tests ',\n",
       " 'smugness gone my train also failed to turn up so im heading for victoria followed by an unpleasant tube ride to the city ',\n",
       " 'anybody know where my ipod went ',\n",
       " 'aww this earthquake in italy has made me sad  just saw the pics on the news its terrible',\n",
       " 'lilibat never been able to afford to get them out id much rather go through the extraction than continue with what i deal with now ',\n",
       " ' why do other pet care people try to run others out of business or send suspicious emails fishing for info',\n",
       " 'kameelahwrites  codeztheyve been mia tho ',\n",
       " 'reannaremick doesnt work on my cell  go to sleep p',\n",
       " 'its going to be nice again tomorrow and then the rain comes back no nice weather for my birthday ',\n",
       " 'taliasunset rock band is hardon expert ',\n",
       " 'beachbassbone roomie was home all day all he had to do was scratch at the door comforter has to goto large laundromat machines ',\n",
       " 'one of the hardest thing with this schedule no one i can chat with at the end of my day usually ',\n",
       " 'they killed off a character on one of my favorite shows and now im upset ',\n",
       " 'jealous of my friends who got to see the new star trek film in austin tonight ',\n",
       " 'listening to q i got a really bad headache and a drivin lesson in ten mins lucky me  i just wana sleeep  ',\n",
       " 'stevebuscemi shut up youi am hungry and in britain home of the most boring suckassy breakfast in the world  i miss dennys',\n",
       " 'good morning everybody pkoi y fais pas beau  bon coffee time',\n",
       " 'work again ',\n",
       " 'essay time ',\n",
       " ' hey did u talk to mom r they home yet i hope they r ok wish i was coming home  easter ',\n",
       " 'endearingevania i sure wish i could go with you guys tmrw but as per usual school interferes ',\n",
       " 'widyatarina say what kal penns leaving house noooooo awww i totally missed it tonight ',\n",
       " 'no i lost a loyal ',\n",
       " 'played another hand very bad and lost half my stack ',\n",
       " 'its   early days in a looooooong night at work ',\n",
       " 'yaykimo its sad its the last season  i wanna see when spencer calls lauren',\n",
       " 'so im done editing quotthe phipstapequot back  crack a brew and see what we got no trees though ',\n",
       " 'rj i dont know what half of that means ',\n",
       " 'homework homework homework ',\n",
       " 'worked his heart out today doubling my weight at each station result stiff and pulled muscles ouch ',\n",
       " 'melamachinko now i feel bad for unfollowing ',\n",
       " 'so tired god i hate the new job and only two days in ',\n",
       " 'sad about kutner being killed off my fav show house ',\n",
       " 'happy for coach stringer hof co  if i can only finish my term paper on her ',\n",
       " 'i feel like shit this is not the way i want to spend my birthdays eve ',\n",
       " 'so far i have  on all my sites put together  most of them were me checking out the updates i made',\n",
       " 'has a lot on her mind i needs to make some moneys and ideas nowhere is hiring ',\n",
       " 'emiliexclarkex miss you ',\n",
       " 'stephenkruiser im so sorry to hear about your dog ',\n",
       " 'too much internet how it plagues me ',\n",
       " 'i miss my ex soo much ',\n",
       " 'sodding    ',\n",
       " 'oh i thought the pirate bay trial verdict was today s apparently its in  days ',\n",
       " 'featherinair call me back ',\n",
       " 'is in study hall now and i will log off immediately  httpplurkcompmzxbg',\n",
       " 'it so tired that im crying for no reason at all im about to try to get an hour and a half in for tonight half what i got last night ',\n",
       " 'i totally have like  four girl options and none of them seem viable ',\n",
       " 'so far i have  veiws on all my sites put together  most of them were me checking out the updates i made',\n",
       " 'listening to bjorks all is full of love crying ',\n",
       " 'omg the hills then i love  aww i think becky buckwild goes ',\n",
       " 'is craving for some tantan nabe  httpplurkcompmzxcs',\n",
       " 'cmon sean man ',\n",
       " 'watching quota league of their ownquotmakes me miss mint chocolate ice cream cones and my grand ma  fuck',\n",
       " 'lost my phone some wheremaybe in the grass its just so long hope it doesnt rain ',\n",
       " 'tomatosalsa hope you arent referring to me  say hello to your new stalker lol',\n",
       " 'brettyboo why were u sleeping ur gonna be up all night now  how was ur bike ride',\n",
       " 'slessard but but but   i wanna listen to the masters too  ',\n",
       " 'sephystryx ive been looking about for good stuff to write but also been doing loads of uni work ',\n",
       " 'i feel unloved dropped  tweeters ',\n",
       " 'off to london for the day on thursday its gonna be raining oh fab  wont see much on the london eye still robbie wont care bless him',\n",
       " 'completely wiped and reloaded the  lost all bbm contacts    going to bed sad',\n",
       " 'mykele sayyyy whaaaa i wasnt invited ',\n",
       " 'didnt sleep too bad considering i have a workshop starting today beginnings of a sore throat though ',\n",
       " ' oh my gosh that made me emotional haha idk why i dont want to get old ',\n",
       " 'were going to post some stories manually due to twitterfeed problem thats why weve been so quiet lately  ',\n",
       " 'i dont like lukewarm showers ',\n",
       " 'linuxfoundation  who should i contact if i need a  for freelance work i did on linuxcom throughout  never got one ',\n",
       " ' connor its me febi  are you really really mad at me',\n",
       " 'need some help want to buy a macbook pro but still inlove with my old powerbook ',\n",
       " 'michaeltao man america is so  borez anyway lol i just realized you sent me msgs on here i had no idea i have no flash ',\n",
       " 'hellivina ihopness gknight lovely ladies im sleepy now ',\n",
       " 'does anybody know how to get your electrolytes back in order with a vitamin work i feel sick ',\n",
       " '  yes someone hasnt been reading my posts properly  ',\n",
       " 'almost through with my italian homework  weeeeee now if i only understood what i was doing  ',\n",
       " 'who turned the lights on it will be time to get ip then ',\n",
       " 'therealnph twitter hates us both then  ',\n",
       " 'i hate the fact that im genuinely excited about my last tweet ',\n",
       " 'celesteclara i cant sleep either ',\n",
       " 'theblondetheory between that and the italy earthquake its been a very sad news day ',\n",
       " 'champagnemanoir all rain today   garden really needs it so not quite so bad',\n",
       " 'yawn yawn yawn  more minutes in bed ',\n",
       " 'majesticflame ouch  sounds very sucky ',\n",
       " 'bengottlieb great idea with the itunes promo codes  they dont work in the uk itunes store though ',\n",
       " 'mattycus  cry ',\n",
       " 'rumlover an empty rum barrel is a sad rum barrel shakes head the horror the horror  ',\n",
       " 'it was a sleepless night ',\n",
       " 'billybush she admitted to being a fake  ',\n",
       " 'batmannn  i love chutney',\n",
       " 'got highly bored today scanning  pages for daddy had to do it ',\n",
       " 'misterphipps you cooked risotto without me ',\n",
       " 'keeeerrrrriiiiii  i really have nothing better to do then post on this thing at  says alot',\n",
       " 'yay for baseball season boo to yankees losing their first game ',\n",
       " 'lost sucks   because i have to work today',\n",
       " 'omg exams killed me  how could i not know the difference between haif a circle and a hemisphere  gt',\n",
       " 'in bed i suddenly feel  i wish ma was here wme goodnight twitterfam',\n",
       " 'rachelcmrn i dont like goodnights ',\n",
       " 'greaaat my lappy wont turn on  wtffffff',\n",
       " '  you stuck in traffic then my journey was traffic free this morning if its any help',\n",
       " 'lookin like an allnighter i hate it when i do this to myself ',\n",
       " 'vernonhamilton youre a stranger   ',\n",
       " 'debbugging old  code the day could have started better     ',\n",
       " 'toddlington only a quarter of a percent babe  darn',\n",
       " 'coming down with a cold or bad allergies either way im miserable ',\n",
       " 'cant believe cutner is dead on house sad day  in santa rosa ca ',\n",
       " 'damnit i was really digging this season of reaper  ',\n",
       " 'gah comcast doubled our cableinternet bill wout telling us so we are quitting  can anyone suggest an affordable company in bay area',\n",
       " 'another early morn with the duchess although she hadnt managed to cross her legs this time ',\n",
       " 'alexbigman you left without saying hi ',\n",
       " 'l want but i cant sleep ',\n",
       " 'tracydowds when an xbox shows those three red lights it means its dead and needs to be fixed for a month at microsoft hq ',\n",
       " 'a king sized bed is nice but sad and lonely with no hubby puppy or kitty   i am over this whole conferenceing thing',\n",
       " 'im boredd gah  i wish i could just sleep and get it over with but ive had toooo muchh cooooffffeeeeeeeee  bahaha',\n",
       " 'whyinthehell if i may butt in again  im done being nosey  sorry your conversation was just so interesting',\n",
       " 'smokeyrobinson  you fell off my listdid i offend you  ',\n",
       " ' weeks till sisters home i missed her call again its the worst feeling in the world ',\n",
       " 'gonna try to get some sleep in this hotel room ',\n",
       " 'chimpytwit brilliant idea just bring as much as you think youll spend amp ill swap you bring a brolly ',\n",
       " 'simonekali get me an autograph and shout out you have to record it though my computer is dead so i cant listen ',\n",
       " 'rt kimkardashian khloe just got fired from the apprentice ',\n",
       " 'in biology class my lip hurts ',\n",
       " 'sorry for the next tweet ',\n",
       " 'grr not down to go to school today ',\n",
       " 'jennlopez i had to get an hd tivo and just got it set up tonight in order to get channels    ',\n",
       " 'mouthsex i asked everyone how they were doing yesterday and not a single tweet back ',\n",
       " 'adame ruddy money i like it still waiting here oh what a surprise by state too hmmm seriously ',\n",
       " 'kalpenn i am so sad  kutner was my favorite of the new team',\n",
       " 'marcusmims wow i didnt get an quothelloquot u suck ',\n",
       " 'bedtime school tomorrow and i still have no books  being broke suckssss',\n",
       " 'seating here helping my baby with his paperswell he is forcing me too seat with him  im sleepy',\n",
       " 'synching my contacts from my old mobile to iphone import does not work well ',\n",
       " 'i cant concentrate ',\n",
       " 'ive just spent  hour to enter all the bureaucratic nonsense for march what a waste of my time ',\n",
       " 'nw more confused then ever ',\n",
       " 'not feeling well again stupid migraine making my tummy upset  and my whole body aches shoot me now',\n",
       " 'reading buyology before bedtime great premise but only turning out to be an quotokquot book  lots of info i already knew ',\n",
       " 'home i really wana sleep but due to wasting my free line in town i have an assignment to finish ',\n",
       " 'hellobebe i also send some updates in plurk but i upload photos on twitter  you didnt see any of my updates on plurk zero ',\n",
       " 'omg quotthe readerquot is making me ',\n",
       " 'cloudpimps doh at least youre getting a decent exchange rate at the moment sterling is still getting flogged ',\n",
       " 'tried to download tweetdeck but it wont download ',\n",
       " 'theres an inch of snow on the ground and counting im worried about the poor flowers ',\n",
       " 'dweeman why arent you a happy camper ',\n",
       " 'dkoenigs thanks man  im so very grateful  i feel unworthy of such attention though because im in this because of myself ',\n",
       " 'twolfe  i miss u too im totally comin back tho lastnight was sooooooo much fun',\n",
       " 'sniffinglue ohhh i love it ps im sad we didnt get to hang out ',\n",
       " 'and somehow i still end up in this place ',\n",
       " 'kisluvkis oh that is very sad poor boy ',\n",
       " ...]"
      ]
     },
     "execution_count": 35,
     "metadata": {},
     "output_type": "execute_result"
    }
   ],
   "source": [
    "unique_values_list"
   ]
  },
  {
   "cell_type": "code",
   "execution_count": 36,
   "id": "b71b01cd",
   "metadata": {},
   "outputs": [
    {
     "name": "stderr",
     "output_type": "stream",
     "text": [
      "/usr/lib/python3/dist-packages/scipy/__init__.py:146: UserWarning: A NumPy version >=1.17.3 and <1.25.0 is required for this version of SciPy (detected version 1.26.4\n",
      "  warnings.warn(f\"A NumPy version >={np_minversion} and <{np_maxversion}\"\n",
      "[nltk_data] Downloading package punkt to /home/hduser/nltk_data...\n",
      "[nltk_data]   Package punkt is already up-to-date!\n"
     ]
    },
    {
     "data": {
      "text/plain": [
       "True"
      ]
     },
     "execution_count": 36,
     "metadata": {},
     "output_type": "execute_result"
    }
   ],
   "source": [
    "# Import the FloatType class from pyspark.sql.types module\n",
    "# Import TextBlob for text processing and sentiment analysis\n",
    "# Import nltk (Natural Language Toolkit) for tokenization\n",
    "# Download the 'punkt' tokenizer from nltk (if not already downloaded)\n",
    "from pyspark.sql.types import FloatType\n",
    "from textblob import TextBlob\n",
    "import nltk\n",
    "nltk.download('punkt')"
   ]
  },
  {
   "cell_type": "code",
   "execution_count": 37,
   "id": "14be5d59",
   "metadata": {},
   "outputs": [],
   "source": [
    "# Define sentiment analysis function using TextBlob\n",
    "def get_sentiment(tweet):\n",
    "    analysis = TextBlob(tweet)\n",
    "    return analysis.sentiment.polarity"
   ]
  },
  {
   "cell_type": "code",
   "execution_count": 38,
   "id": "c8c7ea5c",
   "metadata": {},
   "outputs": [],
   "source": [
    "# Register sentiment analysis function as a Spark UDF\n",
    "sentiment_udf = udf(get_sentiment, FloatType())"
   ]
  },
  {
   "cell_type": "code",
   "execution_count": 39,
   "id": "3156920a",
   "metadata": {},
   "outputs": [],
   "source": [
    "# Apply sentiment analysis to each tweet and create a new column 'Sent'\n",
    "df_with_sentiment = df_cleaned.withColumn('Sent', sentiment_udf(df_cleaned['Tweet']))"
   ]
  },
  {
   "cell_type": "code",
   "execution_count": 40,
   "id": "d05c4328",
   "metadata": {},
   "outputs": [
    {
     "name": "stderr",
     "output_type": "stream",
     "text": [
      "/usr/lib/python3/dist-packages/scipy/__init__.py:146: UserWarning: A NumPy version >=1.17.3 and <1.25.0 is required for this version of SciPy (detected version 1.26.4\n",
      "  warnings.warn(f\"A NumPy version >={np_minversion} and <{np_maxversion}\"\n",
      "[Stage 32:>                                                         (0 + 1) / 1]\r"
     ]
    },
    {
     "name": "stdout",
     "output_type": "stream",
     "text": [
      "+-----+----------------------------+---------------------------------------------------------------------------------------------------------------------+-------------------------------------------------------------------------------------------------------------+-------------------------------------------------------------------------------------------------------------+-----------+\n",
      "|Label|Date                        |Tweet                                                                                                                |cleaned_text                                                                                                 |cleaned_text_new                                                                                             |Sent       |\n",
      "+-----+----------------------------+---------------------------------------------------------------------------------------------------------------------+-------------------------------------------------------------------------------------------------------------+-------------------------------------------------------------------------------------------------------------+-----------+\n",
      "|0    |Mon Apr 06 22:19:45 PDT 2009|@switchfoot http://twitpic.com/2y1zl - Awww, that's a bummer.  You shoulda got David Carr of Third Day to do it. ;D  |switchfoot   awww thats a bummer  you shoulda got david carr of third day to do it d                         |switchfoot   awww thats a bummer  you shoulda got david carr of third day to do it d                         |0.21666667 |\n",
      "|1    |Mon Apr 06 22:19:49 PDT 2009|is upset that he can't update his Facebook by texting it... and might cry as a result  School today also. Blah!      |is upset that he cant update his facebook by texting it and might cry as a result  school today also blah    |is upset that he cant update his facebook by texting it and might cry as a result  school today also blah    |0.0        |\n",
      "|2    |Mon Apr 06 22:19:53 PDT 2009|@Kenichan I dived many times for the ball. Managed to save 50%  The rest go out of bounds                            |kenichan i dived many times for the ball managed to save   the rest go out of bounds                         |kenichan i dived many times for the ball managed to save   the rest go out of bounds                         |0.5        |\n",
      "|3    |Mon Apr 06 22:19:57 PDT 2009|my whole body feels itchy and like its on fire                                                                       |my whole body feels itchy and like its on fire                                                               |my whole body feels itchy and like its on fire                                                               |0.2        |\n",
      "|4    |Mon Apr 06 22:19:57 PDT 2009|@nationwideclass no, it's not behaving at all. i'm mad. why am i here? because I can't see you all over there.       |nationwideclass no its not behaving at all im mad why am i here because i cant see you all over there        |nationwideclass no its not behaving at all im mad why am i here because i cant see you all over there        |-0.625     |\n",
      "|5    |Mon Apr 06 22:20:00 PDT 2009|@Kwesidei not the whole crew                                                                                         |kwesidei not the whole crew                                                                                  |kwesidei not the whole crew                                                                                  |0.2        |\n",
      "|6    |Mon Apr 06 22:20:03 PDT 2009|Need a hug                                                                                                           |need a hug                                                                                                   |need a hug                                                                                                   |0.0        |\n",
      "|7    |Mon Apr 06 22:20:03 PDT 2009|@LOLTrish hey  long time no see! Yes.. Rains a bit ,only a bit  LOL , I'm fine thanks , how's you ?                  |loltrish hey  long time no see yes rains a bit only a bit  lol  im fine thanks  hows you                     |loltrish hey  long time no see yes rains a bit only a bit  lol  im fine thanks  hows you                     |0.27083334 |\n",
      "|8    |Mon Apr 06 22:20:05 PDT 2009|@Tatiana_K nope they didn't have it                                                                                  |tatianak nope they didnt have it                                                                             |tatianak nope they didnt have it                                                                             |0.0        |\n",
      "|9    |Mon Apr 06 22:20:09 PDT 2009|@twittera que me muera ?                                                                                             |twittera que me muera                                                                                        |twittera que me muera                                                                                        |0.0        |\n",
      "|10   |Mon Apr 06 22:20:16 PDT 2009|spring break in plain city... it's snowing                                                                           |spring break in plain city its snowing                                                                       |spring break in plain city its snowing                                                                       |-0.21428572|\n",
      "|11   |Mon Apr 06 22:20:17 PDT 2009|I just re-pierced my ears                                                                                            |i just repierced my ears                                                                                     |i just repierced my ears                                                                                     |0.0        |\n",
      "|12   |Mon Apr 06 22:20:19 PDT 2009|@caregiving I couldn't bear to watch it.  And I thought the UA loss was embarrassing . . . . .                       |caregiving i couldnt bear to watch it  and i thought the ua loss was embarrassing                            |caregiving i couldnt bear to watch it  and i thought the ua loss was embarrassing                            |0.0        |\n",
      "|13   |Mon Apr 06 22:20:19 PDT 2009|@octolinz16 It it counts, idk why I did either. you never talk to me anymore                                         | it it counts idk why i did either you never talk to me anymore                                              | it it counts idk why i did either you never talk to me anymore                                              |0.0        |\n",
      "|14   |Mon Apr 06 22:20:20 PDT 2009|@smarrison i would've been the first, but i didn't have a gun.    not really though, zac snyder's just a doucheclown.|smarrison i wouldve been the first but i didnt have a gun    not really though zac snyders just a doucheclown|smarrison i wouldve been the first but i didnt have a gun    not really though zac snyders just a doucheclown|0.075      |\n",
      "|15   |Mon Apr 06 22:20:20 PDT 2009|@iamjazzyfizzle I wish I got to watch it with you!! I miss you and @iamlilnicki  how was the premiere?!              |iamjazzyfizzle i wish i got to watch it with you i miss you and iamlilnicki  how was the premiere            |iamjazzyfizzle i wish i got to watch it with you i miss you and iamlilnicki  how was the premiere            |0.0        |\n",
      "|16   |Mon Apr 06 22:20:22 PDT 2009|Hollis' death scene will hurt me severely to watch on film  wry is directors cut not out now?                        |hollis death scene will hurt me severely to watch on film  wry is directors cut not out now                  |hollis death scene will hurt me severely to watch on film  wry is directors cut not out now                  |0.0        |\n",
      "|17   |Mon Apr 06 22:20:25 PDT 2009|about to file taxes                                                                                                  |about to file taxes                                                                                          |about to file taxes                                                                                          |0.0        |\n",
      "|18   |Mon Apr 06 22:20:31 PDT 2009|@LettyA ahh ive always wanted to see rent  love the soundtrack!!                                                     |lettya ahh ive always wanted to see rent  love the soundtrack                                                |lettya ahh ive always wanted to see rent  love the soundtrack                                                |0.78125    |\n",
      "|19   |Mon Apr 06 22:20:34 PDT 2009|@FakerPattyPattz Oh dear. Were you drinking out of the forgotten table drinks?                                       |fakerpattypattz oh dear were you drinking out of the forgotten table drinks                                  |fakerpattypattz oh dear were you drinking out of the forgotten table drinks                                  |0.0        |\n",
      "+-----+----------------------------+---------------------------------------------------------------------------------------------------------------------+-------------------------------------------------------------------------------------------------------------+-------------------------------------------------------------------------------------------------------------+-----------+\n",
      "only showing top 20 rows\n",
      "\n"
     ]
    },
    {
     "name": "stderr",
     "output_type": "stream",
     "text": [
      "                                                                                \r"
     ]
    }
   ],
   "source": [
    "# Show the DataFrame with sentiment analysis results\n",
    "df_with_sentiment.show(truncate=False)"
   ]
  },
  {
   "cell_type": "code",
   "execution_count": 41,
   "id": "3d5c9048",
   "metadata": {},
   "outputs": [
    {
     "name": "stderr",
     "output_type": "stream",
     "text": [
      "/usr/lib/python3/dist-packages/scipy/__init__.py:146: UserWarning: A NumPy version >=1.17.3 and <1.25.0 is required for this version of SciPy (detected version 1.26.4\n",
      "  warnings.warn(f\"A NumPy version >={np_minversion} and <{np_maxversion}\"\n",
      "[Stage 33:>                                                         (0 + 1) / 1]\r"
     ]
    },
    {
     "name": "stdout",
     "output_type": "stream",
     "text": [
      "+-----+--------------------+--------------------+--------------------+--------------------+----------+\n",
      "|Label|                Date|               Tweet|        cleaned_text|    cleaned_text_new|      Sent|\n",
      "+-----+--------------------+--------------------+--------------------+--------------------+----------+\n",
      "|    0|Mon Apr 06 22:19:...|@switchfoot http:...|switchfoot   awww...|switchfoot   awww...|0.21666667|\n",
      "|    1|Mon Apr 06 22:19:...|is upset that he ...|is upset that he ...|is upset that he ...|       0.0|\n",
      "+-----+--------------------+--------------------+--------------------+--------------------+----------+\n",
      "only showing top 2 rows\n",
      "\n"
     ]
    },
    {
     "name": "stderr",
     "output_type": "stream",
     "text": [
      "                                                                                \r"
     ]
    }
   ],
   "source": [
    "# Display the first 2 rows of the DataFrame 'df_with_sentiment'\n",
    "df_with_sentiment.show(2)"
   ]
  },
  {
   "cell_type": "code",
   "execution_count": 42,
   "id": "65d0165d",
   "metadata": {},
   "outputs": [],
   "source": [
    "# Import col and round functions from pyspark.sql.functions module\n",
    "# Import matplotlib.pyplot for plotting\n",
    "\n",
    "from pyspark.sql.functions import col, round\n",
    "import matplotlib.pyplot as plt"
   ]
  },
  {
   "cell_type": "code",
   "execution_count": 43,
   "id": "f2915e4c",
   "metadata": {},
   "outputs": [
    {
     "name": "stderr",
     "output_type": "stream",
     "text": [
      "/usr/lib/python3/dist-packages/scipy/__init__.py:146: UserWarning: A NumPy version >=1.17.3 and <1.25.0 is required for this version of SciPy (detected version 1.26.4\n",
      "  warnings.warn(f\"A NumPy version >={np_minversion} and <{np_maxversion}\"\n",
      "[Stage 34:>                                                         (0 + 1) / 1]\r"
     ]
    },
    {
     "name": "stdout",
     "output_type": "stream",
     "text": [
      "+-----+--------------------+--------------------+--------------------+--------------------+----------+\n",
      "|Label|                Date|               Tweet|        cleaned_text|    cleaned_text_new|      Sent|\n",
      "+-----+--------------------+--------------------+--------------------+--------------------+----------+\n",
      "|    0|Mon Apr 06 22:19:...|@switchfoot http:...|switchfoot   awww...|switchfoot   awww...|0.21666667|\n",
      "|    1|Mon Apr 06 22:19:...|is upset that he ...|is upset that he ...|is upset that he ...|       0.0|\n",
      "|    2|Mon Apr 06 22:19:...|@Kenichan I dived...|kenichan i dived ...|kenichan i dived ...|       0.5|\n",
      "+-----+--------------------+--------------------+--------------------+--------------------+----------+\n",
      "only showing top 3 rows\n",
      "\n"
     ]
    },
    {
     "name": "stderr",
     "output_type": "stream",
     "text": [
      "                                                                                \r"
     ]
    }
   ],
   "source": [
    "# Display the first 3 rows of the DataFrame 'df_with_sentiment'\n",
    "df_with_sentiment.show(3)"
   ]
  },
  {
   "cell_type": "code",
   "execution_count": 44,
   "id": "28834d4d",
   "metadata": {},
   "outputs": [
    {
     "name": "stdout",
     "output_type": "stream",
     "text": [
      "Total number of rows: 70000\n"
     ]
    }
   ],
   "source": [
    "# Count the total number of rows in the DataFrame 'df_with_sentiment'\n",
    "# Print the total number of rows\n",
    "total_rows = df_with_sentiment.count()\n",
    "print(f\"Total number of rows: {total_rows}\")"
   ]
  },
  {
   "cell_type": "code",
   "execution_count": 45,
   "id": "0989dd59",
   "metadata": {},
   "outputs": [
    {
     "name": "stderr",
     "output_type": "stream",
     "text": [
      "/usr/lib/python3/dist-packages/scipy/__init__.py:146: UserWarning: A NumPy version >=1.17.3 and <1.25.0 is required for this version of SciPy (detected version 1.26.4\n",
      "  warnings.warn(f\"A NumPy version >={np_minversion} and <{np_maxversion}\"\n",
      "                                                                                \r"
     ]
    }
   ],
   "source": [
    "# Convert Spark DataFrame to Pandas DataFrame for plotting\n",
    "pd_distribution = df_with_sentiment.toPandas()"
   ]
  },
  {
   "cell_type": "code",
   "execution_count": 46,
   "id": "c6abcf6e",
   "metadata": {},
   "outputs": [
    {
     "data": {
      "text/html": [
       "<div>\n",
       "<style scoped>\n",
       "    .dataframe tbody tr th:only-of-type {\n",
       "        vertical-align: middle;\n",
       "    }\n",
       "\n",
       "    .dataframe tbody tr th {\n",
       "        vertical-align: top;\n",
       "    }\n",
       "\n",
       "    .dataframe thead th {\n",
       "        text-align: right;\n",
       "    }\n",
       "</style>\n",
       "<table border=\"1\" class=\"dataframe\">\n",
       "  <thead>\n",
       "    <tr style=\"text-align: right;\">\n",
       "      <th></th>\n",
       "      <th>Label</th>\n",
       "      <th>Date</th>\n",
       "      <th>Tweet</th>\n",
       "      <th>cleaned_text</th>\n",
       "      <th>cleaned_text_new</th>\n",
       "      <th>Sent</th>\n",
       "    </tr>\n",
       "  </thead>\n",
       "  <tbody>\n",
       "    <tr>\n",
       "      <th>0</th>\n",
       "      <td>0</td>\n",
       "      <td>Mon Apr 06 22:19:45 PDT 2009</td>\n",
       "      <td>@switchfoot http://twitpic.com/2y1zl - Awww, t...</td>\n",
       "      <td>switchfoot   awww thats a bummer  you shoulda ...</td>\n",
       "      <td>switchfoot   awww thats a bummer  you shoulda ...</td>\n",
       "      <td>0.216667</td>\n",
       "    </tr>\n",
       "    <tr>\n",
       "      <th>1</th>\n",
       "      <td>1</td>\n",
       "      <td>Mon Apr 06 22:19:49 PDT 2009</td>\n",
       "      <td>is upset that he can't update his Facebook by ...</td>\n",
       "      <td>is upset that he cant update his facebook by t...</td>\n",
       "      <td>is upset that he cant update his facebook by t...</td>\n",
       "      <td>0.000000</td>\n",
       "    </tr>\n",
       "    <tr>\n",
       "      <th>2</th>\n",
       "      <td>2</td>\n",
       "      <td>Mon Apr 06 22:19:53 PDT 2009</td>\n",
       "      <td>@Kenichan I dived many times for the ball. Man...</td>\n",
       "      <td>kenichan i dived many times for the ball manag...</td>\n",
       "      <td>kenichan i dived many times for the ball manag...</td>\n",
       "      <td>0.500000</td>\n",
       "    </tr>\n",
       "    <tr>\n",
       "      <th>3</th>\n",
       "      <td>3</td>\n",
       "      <td>Mon Apr 06 22:19:57 PDT 2009</td>\n",
       "      <td>my whole body feels itchy and like its on fire</td>\n",
       "      <td>my whole body feels itchy and like its on fire</td>\n",
       "      <td>my whole body feels itchy and like its on fire</td>\n",
       "      <td>0.200000</td>\n",
       "    </tr>\n",
       "    <tr>\n",
       "      <th>4</th>\n",
       "      <td>4</td>\n",
       "      <td>Mon Apr 06 22:19:57 PDT 2009</td>\n",
       "      <td>@nationwideclass no, it's not behaving at all....</td>\n",
       "      <td>nationwideclass no its not behaving at all im ...</td>\n",
       "      <td>nationwideclass no its not behaving at all im ...</td>\n",
       "      <td>-0.625000</td>\n",
       "    </tr>\n",
       "  </tbody>\n",
       "</table>\n",
       "</div>"
      ],
      "text/plain": [
       "   Label                          Date  \\\n",
       "0      0  Mon Apr 06 22:19:45 PDT 2009   \n",
       "1      1  Mon Apr 06 22:19:49 PDT 2009   \n",
       "2      2  Mon Apr 06 22:19:53 PDT 2009   \n",
       "3      3  Mon Apr 06 22:19:57 PDT 2009   \n",
       "4      4  Mon Apr 06 22:19:57 PDT 2009   \n",
       "\n",
       "                                               Tweet  \\\n",
       "0  @switchfoot http://twitpic.com/2y1zl - Awww, t...   \n",
       "1  is upset that he can't update his Facebook by ...   \n",
       "2  @Kenichan I dived many times for the ball. Man...   \n",
       "3    my whole body feels itchy and like its on fire    \n",
       "4  @nationwideclass no, it's not behaving at all....   \n",
       "\n",
       "                                        cleaned_text  \\\n",
       "0  switchfoot   awww thats a bummer  you shoulda ...   \n",
       "1  is upset that he cant update his facebook by t...   \n",
       "2  kenichan i dived many times for the ball manag...   \n",
       "3    my whole body feels itchy and like its on fire    \n",
       "4  nationwideclass no its not behaving at all im ...   \n",
       "\n",
       "                                    cleaned_text_new      Sent  \n",
       "0  switchfoot   awww thats a bummer  you shoulda ...  0.216667  \n",
       "1  is upset that he cant update his facebook by t...  0.000000  \n",
       "2  kenichan i dived many times for the ball manag...  0.500000  \n",
       "3    my whole body feels itchy and like its on fire   0.200000  \n",
       "4  nationwideclass no its not behaving at all im ... -0.625000  "
      ]
     },
     "execution_count": 46,
     "metadata": {},
     "output_type": "execute_result"
    }
   ],
   "source": [
    "# Display the first few rows of the PySpark DataFrame 'df_distribution'\n",
    "pd_distribution.head()"
   ]
  },
  {
   "cell_type": "code",
   "execution_count": 47,
   "id": "d21e1bb3",
   "metadata": {},
   "outputs": [
    {
     "data": {
      "image/png": "[encoded data removed]",
      "text/plain": [
       "<Figure size 720x432 with 1 Axes>"
      ]
     },
     "metadata": {
      "needs_background": "light"
     },
     "output_type": "display_data"
    }
   ],
   "source": [
    "# Plotting the sentiment distribution using a histogram\n",
    "plt.figure(figsize=(10, 6))\n",
    "plt.hist(pd_distribution['Sent'], bins=30, color='skyblue', edgecolor='black')\n",
    "plt.title('Sentiment Distribution')\n",
    "plt.xlabel('Sentiment Score')\n",
    "plt.ylabel('Frequency')\n",
    "plt.grid(True)\n",
    "plt.show()"
   ]
  },
  {
   "cell_type": "code",
   "execution_count": 48,
   "id": "808f0640",
   "metadata": {},
   "outputs": [],
   "source": [
    "# Assign the pandas DataFrame 'pd_distribution' to a new variable 'df'\n",
    "df=pd_distribution"
   ]
  },
  {
   "cell_type": "code",
   "execution_count": 49,
   "id": "da1631ba",
   "metadata": {},
   "outputs": [
    {
     "data": {
      "text/html": [
       "<div>\n",
       "<style scoped>\n",
       "    .dataframe tbody tr th:only-of-type {\n",
       "        vertical-align: middle;\n",
       "    }\n",
       "\n",
       "    .dataframe tbody tr th {\n",
       "        vertical-align: top;\n",
       "    }\n",
       "\n",
       "    .dataframe thead th {\n",
       "        text-align: right;\n",
       "    }\n",
       "</style>\n",
       "<table border=\"1\" class=\"dataframe\">\n",
       "  <thead>\n",
       "    <tr style=\"text-align: right;\">\n",
       "      <th></th>\n",
       "      <th>Label</th>\n",
       "      <th>Date</th>\n",
       "      <th>Tweet</th>\n",
       "      <th>cleaned_text</th>\n",
       "      <th>cleaned_text_new</th>\n",
       "      <th>Sent</th>\n",
       "    </tr>\n",
       "  </thead>\n",
       "  <tbody>\n",
       "    <tr>\n",
       "      <th>0</th>\n",
       "      <td>0</td>\n",
       "      <td>Mon Apr 06 22:19:45 PDT 2009</td>\n",
       "      <td>@switchfoot http://twitpic.com/2y1zl - Awww, t...</td>\n",
       "      <td>switchfoot   awww thats a bummer  you shoulda ...</td>\n",
       "      <td>switchfoot   awww thats a bummer  you shoulda ...</td>\n",
       "      <td>0.216667</td>\n",
       "    </tr>\n",
       "    <tr>\n",
       "      <th>1</th>\n",
       "      <td>1</td>\n",
       "      <td>Mon Apr 06 22:19:49 PDT 2009</td>\n",
       "      <td>is upset that he can't update his Facebook by ...</td>\n",
       "      <td>is upset that he cant update his facebook by t...</td>\n",
       "      <td>is upset that he cant update his facebook by t...</td>\n",
       "      <td>0.000000</td>\n",
       "    </tr>\n",
       "    <tr>\n",
       "      <th>2</th>\n",
       "      <td>2</td>\n",
       "      <td>Mon Apr 06 22:19:53 PDT 2009</td>\n",
       "      <td>@Kenichan I dived many times for the ball. Man...</td>\n",
       "      <td>kenichan i dived many times for the ball manag...</td>\n",
       "      <td>kenichan i dived many times for the ball manag...</td>\n",
       "      <td>0.500000</td>\n",
       "    </tr>\n",
       "  </tbody>\n",
       "</table>\n",
       "</div>"
      ],
      "text/plain": [
       "   Label                          Date  \\\n",
       "0      0  Mon Apr 06 22:19:45 PDT 2009   \n",
       "1      1  Mon Apr 06 22:19:49 PDT 2009   \n",
       "2      2  Mon Apr 06 22:19:53 PDT 2009   \n",
       "\n",
       "                                               Tweet  \\\n",
       "0  @switchfoot http://twitpic.com/2y1zl - Awww, t...   \n",
       "1  is upset that he can't update his Facebook by ...   \n",
       "2  @Kenichan I dived many times for the ball. Man...   \n",
       "\n",
       "                                        cleaned_text  \\\n",
       "0  switchfoot   awww thats a bummer  you shoulda ...   \n",
       "1  is upset that he cant update his facebook by t...   \n",
       "2  kenichan i dived many times for the ball manag...   \n",
       "\n",
       "                                    cleaned_text_new      Sent  \n",
       "0  switchfoot   awww thats a bummer  you shoulda ...  0.216667  \n",
       "1  is upset that he cant update his facebook by t...  0.000000  \n",
       "2  kenichan i dived many times for the ball manag...  0.500000  "
      ]
     },
     "execution_count": 49,
     "metadata": {},
     "output_type": "execute_result"
    }
   ],
   "source": [
    "df.head(3)"
   ]
  },
  {
   "cell_type": "code",
   "execution_count": 50,
   "id": "3a91c2dd",
   "metadata": {},
   "outputs": [
    {
     "data": {
      "text/html": [
       "<div>\n",
       "<style scoped>\n",
       "    .dataframe tbody tr th:only-of-type {\n",
       "        vertical-align: middle;\n",
       "    }\n",
       "\n",
       "    .dataframe tbody tr th {\n",
       "        vertical-align: top;\n",
       "    }\n",
       "\n",
       "    .dataframe thead th {\n",
       "        text-align: right;\n",
       "    }\n",
       "</style>\n",
       "<table border=\"1\" class=\"dataframe\">\n",
       "  <thead>\n",
       "    <tr style=\"text-align: right;\">\n",
       "      <th></th>\n",
       "      <th>Label</th>\n",
       "      <th>Date</th>\n",
       "      <th>Tweet</th>\n",
       "      <th>cleaned_text</th>\n",
       "      <th>cleaned_text_new</th>\n",
       "      <th>Sent</th>\n",
       "      <th>Sentiment</th>\n",
       "    </tr>\n",
       "  </thead>\n",
       "  <tbody>\n",
       "    <tr>\n",
       "      <th>0</th>\n",
       "      <td>0</td>\n",
       "      <td>Mon Apr 06 22:19:45 PDT 2009</td>\n",
       "      <td>@switchfoot http://twitpic.com/2y1zl - Awww, t...</td>\n",
       "      <td>switchfoot   awww thats a bummer  you shoulda ...</td>\n",
       "      <td>switchfoot   awww thats a bummer  you shoulda ...</td>\n",
       "      <td>0.216667</td>\n",
       "      <td>positive</td>\n",
       "    </tr>\n",
       "    <tr>\n",
       "      <th>1</th>\n",
       "      <td>1</td>\n",
       "      <td>Mon Apr 06 22:19:49 PDT 2009</td>\n",
       "      <td>is upset that he can't update his Facebook by ...</td>\n",
       "      <td>is upset that he cant update his facebook by t...</td>\n",
       "      <td>is upset that he cant update his facebook by t...</td>\n",
       "      <td>0.000000</td>\n",
       "      <td>neutral</td>\n",
       "    </tr>\n",
       "    <tr>\n",
       "      <th>2</th>\n",
       "      <td>2</td>\n",
       "      <td>Mon Apr 06 22:19:53 PDT 2009</td>\n",
       "      <td>@Kenichan I dived many times for the ball. Man...</td>\n",
       "      <td>kenichan i dived many times for the ball manag...</td>\n",
       "      <td>kenichan i dived many times for the ball manag...</td>\n",
       "      <td>0.500000</td>\n",
       "      <td>positive</td>\n",
       "    </tr>\n",
       "    <tr>\n",
       "      <th>3</th>\n",
       "      <td>3</td>\n",
       "      <td>Mon Apr 06 22:19:57 PDT 2009</td>\n",
       "      <td>my whole body feels itchy and like its on fire</td>\n",
       "      <td>my whole body feels itchy and like its on fire</td>\n",
       "      <td>my whole body feels itchy and like its on fire</td>\n",
       "      <td>0.200000</td>\n",
       "      <td>positive</td>\n",
       "    </tr>\n",
       "    <tr>\n",
       "      <th>4</th>\n",
       "      <td>4</td>\n",
       "      <td>Mon Apr 06 22:19:57 PDT 2009</td>\n",
       "      <td>@nationwideclass no, it's not behaving at all....</td>\n",
       "      <td>nationwideclass no its not behaving at all im ...</td>\n",
       "      <td>nationwideclass no its not behaving at all im ...</td>\n",
       "      <td>-0.625000</td>\n",
       "      <td>negative</td>\n",
       "    </tr>\n",
       "  </tbody>\n",
       "</table>\n",
       "</div>"
      ],
      "text/plain": [
       "   Label                          Date  \\\n",
       "0      0  Mon Apr 06 22:19:45 PDT 2009   \n",
       "1      1  Mon Apr 06 22:19:49 PDT 2009   \n",
       "2      2  Mon Apr 06 22:19:53 PDT 2009   \n",
       "3      3  Mon Apr 06 22:19:57 PDT 2009   \n",
       "4      4  Mon Apr 06 22:19:57 PDT 2009   \n",
       "\n",
       "                                               Tweet  \\\n",
       "0  @switchfoot http://twitpic.com/2y1zl - Awww, t...   \n",
       "1  is upset that he can't update his Facebook by ...   \n",
       "2  @Kenichan I dived many times for the ball. Man...   \n",
       "3    my whole body feels itchy and like its on fire    \n",
       "4  @nationwideclass no, it's not behaving at all....   \n",
       "\n",
       "                                        cleaned_text  \\\n",
       "0  switchfoot   awww thats a bummer  you shoulda ...   \n",
       "1  is upset that he cant update his facebook by t...   \n",
       "2  kenichan i dived many times for the ball manag...   \n",
       "3    my whole body feels itchy and like its on fire    \n",
       "4  nationwideclass no its not behaving at all im ...   \n",
       "\n",
       "                                    cleaned_text_new      Sent Sentiment  \n",
       "0  switchfoot   awww thats a bummer  you shoulda ...  0.216667  positive  \n",
       "1  is upset that he cant update his facebook by t...  0.000000   neutral  \n",
       "2  kenichan i dived many times for the ball manag...  0.500000  positive  \n",
       "3    my whole body feels itchy and like its on fire   0.200000  positive  \n",
       "4  nationwideclass no its not behaving at all im ... -0.625000  negative  "
      ]
     },
     "execution_count": 50,
     "metadata": {},
     "output_type": "execute_result"
    }
   ],
   "source": [
    "# Adding a new column based on Polarity\n",
    "df['Sentiment'] = df['Sent'].apply(lambda x: 'positive' if x > 0 else 'negative' if x < 0 else 'neutral')\n",
    "\n",
    "df.head()"
   ]
  },
  {
   "cell_type": "code",
   "execution_count": 51,
   "id": "423a7d2c",
   "metadata": {},
   "outputs": [],
   "source": [
    "# Import seaborn for statistical data visualization\n",
    "import seaborn as sns"
   ]
  },
  {
   "cell_type": "code",
   "execution_count": 52,
   "id": "f3ade1bd",
   "metadata": {},
   "outputs": [
    {
     "name": "stderr",
     "output_type": "stream",
     "text": [
      "/tmp/ipykernel_8561/537581451.py:5: FutureWarning: \n",
      "\n",
      "Passing `palette` without assigning `hue` is deprecated and will be removed in v0.14.0. Assign the `x` variable to `hue` and set `legend=False` for the same effect.\n",
      "\n",
      "  sns.countplot(x='Sentiment',data=df, palette='summer')\n"
     ]
    },
    {
     "data": {
      "text/plain": [
       "<AxesSubplot:xlabel='Sentiment', ylabel='count'>"
      ]
     },
     "execution_count": 52,
     "metadata": {},
     "output_type": "execute_result"
    },
    {
     "data": {
      "image/png": "[encoded data removed]",
      "text/plain": [
       "<Figure size 432x288 with 1 Axes>"
      ]
     },
     "metadata": {},
     "output_type": "display_data"
    }
   ],
   "source": [
    "# Set the plotting style to 'whitegrid' using seaborn\n",
    "sns.set_style('whitegrid')\n",
    "\n",
    "# Create a count plot of 'Sentiment' column from DataFrame 'df' using seaborn\n",
    "sns.countplot(x='Sentiment',data=df, palette='summer')"
   ]
  },
  {
   "cell_type": "code",
   "execution_count": 53,
   "id": "fbcf1950",
   "metadata": {},
   "outputs": [
    {
     "name": "stderr",
     "output_type": "stream",
     "text": [
      "[nltk_data] Downloading package stopwords to /home/hduser/nltk_data...\n",
      "[nltk_data]   Package stopwords is already up-to-date!\n",
      "2024-05-17 22:08:17.197226: I external/local_tsl/tsl/cuda/cudart_stub.cc:32] Could not find cuda drivers on your machine, GPU will not be used.\n",
      "2024-05-17 22:08:17.200705: I external/local_tsl/tsl/cuda/cudart_stub.cc:32] Could not find cuda drivers on your machine, GPU will not be used.\n",
      "2024-05-17 22:08:17.241480: I tensorflow/core/platform/cpu_feature_guard.cc:210] This TensorFlow binary is optimized to use available CPU instructions in performance-critical operations.\n",
      "To enable the following instructions: AVX2, in other operations, rebuild TensorFlow with the appropriate compiler flags.\n",
      "2024-05-17 22:08:19.282036: W tensorflow/compiler/tf2tensorrt/utils/py_utils.cc:38] TF-TRT Warning: Could not find TensorRT\n"
     ]
    }
   ],
   "source": [
    "# Import necessary libraries and modules for text processing, modeling, and analysis\n",
    "\n",
    "# Scikit-learn imports\n",
    "from sklearn.feature_extraction.text import TfidfVectorizer  # For TF-IDF vectorization of text data\n",
    "from sklearn.pipeline import Pipeline  # For constructing pipelines of estimators\n",
    "from sklearn.svm import SVC  # Support Vector Classifier for classification tasks\n",
    "from sklearn.metrics import confusion_matrix  # For computing confusion matrix\n",
    "from sklearn.model_selection import train_test_split  # For splitting data into training and testing sets\n",
    "\n",
    "# Data handling and preprocessing imports\n",
    "import pandas as pd  # For data manipulation with DataFrames\n",
    "import numpy as np  # For numerical operations\n",
    "import seaborn as sns  # For statistical data visualization\n",
    "import re  # For regular expressions\n",
    "from string import punctuation  # For string manipulation (e.g., removing punctuation)\n",
    "\n",
    "# Natural Language Processing (NLP) imports\n",
    "import nltk  # Natural Language Toolkit for text processing\n",
    "from nltk.corpus import stopwords  # For removing stopwords from text\n",
    "nltk.download('stopwords')  # Download NLTK stopwords data\n",
    "\n",
    "# Data visualization imports\n",
    "import matplotlib.pyplot as plt  # For creating visualizations with matplotlib\n",
    "\n",
    "# Additional machine learning and deep learning imports\n",
    "from sklearn.linear_model import LogisticRegression  # For logistic regression classifier\n",
    "from sklearn.feature_extraction.text import CountVectorizer  # For converting text to token counts\n",
    "from sklearn.feature_extraction.text import TfidfTransformer  # For transforming token counts to TF-IDF\n",
    "\n",
    "import tensorflow as tf  # TensorFlow library for deep learning\n",
    "from tensorflow.keras.models import Sequential  # Keras Sequential model for building neural networks\n",
    "from tensorflow.keras.layers import Dense, Activation, Dropout  # Different layers for neural networks\n",
    "from tensorflow.keras.callbacks import EarlyStopping  # For implementing early stopping during training\n"
   ]
  },
  {
   "cell_type": "code",
   "execution_count": 54,
   "id": "12643222",
   "metadata": {},
   "outputs": [],
   "source": [
    "#Select the first 2000 rows from DataFrame df and assign it to a new DataFrame data\n",
    "data= df.head(2000)"
   ]
  },
  {
   "cell_type": "code",
   "execution_count": 55,
   "id": "268f4470",
   "metadata": {},
   "outputs": [
    {
     "name": "stdout",
     "output_type": "stream",
     "text": [
      "<class 'pandas.core.frame.DataFrame'>\n",
      "RangeIndex: 2000 entries, 0 to 1999\n",
      "Data columns (total 7 columns):\n",
      " #   Column            Non-Null Count  Dtype  \n",
      "---  ------            --------------  -----  \n",
      " 0   Label             2000 non-null   int32  \n",
      " 1   Date              2000 non-null   object \n",
      " 2   Tweet             2000 non-null   object \n",
      " 3   cleaned_text      2000 non-null   object \n",
      " 4   cleaned_text_new  2000 non-null   object \n",
      " 5   Sent              2000 non-null   float32\n",
      " 6   Sentiment         2000 non-null   object \n",
      "dtypes: float32(1), int32(1), object(5)\n",
      "memory usage: 93.9+ KB\n"
     ]
    }
   ],
   "source": [
    "# Display summary information about the DataFrame data\n",
    "data.info()"
   ]
  },
  {
   "cell_type": "code",
   "execution_count": 56,
   "id": "1fa9d03b",
   "metadata": {},
   "outputs": [
    {
     "name": "stdout",
     "output_type": "stream",
     "text": [
      "IV_train: 1800\n",
      "IV_test: 200\n",
      "DV_train: 1800\n",
      "DV_test: 200\n"
     ]
    }
   ],
   "source": [
    "# Import necessary library for splitting dataset into training and testing sets\n",
    "from sklearn.model_selection import train_test_split\n",
    "\n",
    "# Define independent and dependent variables\n",
    "independent_var = data['cleaned_text_new']  # Independent variable (features)\n",
    "dependent_var = data['Sentiment']  # Dependent variable (target)\n",
    "\n",
    "# Split the dataset into training and testing sets\n",
    "IV_train, IV_test, DV_train, DV_test = train_test_split(independent_var, dependent_var, test_size=0.1, random_state=225)\n",
    "\n",
    "# Print the lengths of the training and testing sets\n",
    "print('IV_train:', len(IV_train))  # Number of samples in the independent variable training set\n",
    "print('IV_test:', len(IV_test))    # Number of samples in the independent variable testing set\n",
    "print('DV_train:', len(DV_train))  # Number of samples in the dependent variable training set\n",
    "print('DV_test:', len(DV_test))    # Number of samples in the dependent variable testing set\n"
   ]
  },
  {
   "cell_type": "code",
   "execution_count": 57,
   "id": "08b2201e",
   "metadata": {},
   "outputs": [],
   "source": [
    "# Import necessary libraries and modules\n",
    "from sklearn.feature_extraction.text import TfidfVectorizer  # For TF-IDF vectorization of text data\n",
    "from sklearn.linear_model import LogisticRegression  # For logistic regression classifier\n",
    "from sklearn.pipeline import Pipeline  # For constructing a pipeline of estimators\n",
    "\n",
    "# Initialize a TF-IDF Vectorizer\n",
    "tvec = TfidfVectorizer()\n",
    "\n",
    "# Initialize a Logistic Regression Classifier\n",
    "# Using 'lbfgs' solver for optimization\n",
    "clf2 = LogisticRegression(solver=\"lbfgs\")\n",
    "\n",
    "# Import Pipeline from sklearn\n",
    "from sklearn.pipeline import Pipeline"
   ]
  },
  {
   "cell_type": "code",
   "execution_count": 58,
   "id": "ca095b1a",
   "metadata": {},
   "outputs": [],
   "source": [
    "from sklearn.feature_extraction.text import TfidfVectorizer\n",
    "from sklearn.linear_model import LogisticRegression\n",
    "from sklearn.pipeline import Pipeline\n",
    "\n",
    "# Creating a pipeline with TfidfVectorizer and LogisticRegression\n",
    "pipeline = Pipeline([\n",
    "    ('tfidf', TfidfVectorizer()),  # Using TfidfVectorizer for feature extraction\n",
    "    ('clf', LogisticRegression(solver='lbfgs'))  # Logistic Regression classifier\n",
    "])"
   ]
  },
  {
   "cell_type": "code",
   "execution_count": 59,
   "id": "a5d5ec99",
   "metadata": {},
   "outputs": [
    {
     "data": {
      "text/plain": [
       "array([[43, 10,  9],\n",
       "       [11, 53, 11],\n",
       "       [ 8,  9, 46]])"
      ]
     },
     "execution_count": 59,
     "metadata": {},
     "output_type": "execute_result"
    }
   ],
   "source": [
    "model = Pipeline([('vectorizer' , tvec),('classifier',clf2)])\n",
    "# Fit the model using the training data\n",
    "model.fit(IV_train, DV_train)\n",
    "\n",
    "from sklearn.metrics import confusion_matrix\n",
    "# Predict the labels for the test data\n",
    "predictions = model.predict(IV_test)\n",
    "# Calculate and print the confusion matrix to evaluate the accuracy of the predictions\n",
    "# DV_test: true labels for the test data\n",
    "confusion_matrix(predictions, DV_test)"
   ]
  },
  {
   "cell_type": "code",
   "execution_count": 60,
   "id": "fc07cefc",
   "metadata": {},
   "outputs": [
    {
     "name": "stdout",
     "output_type": "stream",
     "text": [
      "Accuracy : 0.71\n",
      "Precision : 0.7105871212121212\n",
      "Recall : 0.71\n"
     ]
    }
   ],
   "source": [
    "# Import necessary metrics from scikit-learn for evaluating the model\n",
    "from sklearn.metrics import accuracy_score, precision_score, recall_score\n",
    "# Calculate and print the accuracy of the model\n",
    "# Accuracy is the ratio of correctly predicted instances to the total instances\n",
    "print(\"Accuracy :\", accuracy_score(predictions, DV_test))\n",
    "# Calculate and print the precision of the model\n",
    "# Precision is the ratio of correctly predicted positive observations to the total predicted positives\n",
    "# The 'weighted' average parameter accounts for label imbalance\n",
    "print(\"Precision :\", precision_score(predictions, DV_test, average = 'weighted'))\n",
    "# Calculate and print the recall of the model\n",
    "# Recall (or sensitivity) is the ratio of correctly predicted positive observations to all observations in the actual\n",
    "print(\"Recall :\", recall_score(predictions, DV_test, average = 'weighted'))"
   ]
  },
  {
   "cell_type": "code",
   "execution_count": 61,
   "id": "ac45c3ba",
   "metadata": {},
   "outputs": [
    {
     "name": "stdout",
     "output_type": "stream",
     "text": [
      "['positive']\n"
     ]
    }
   ],
   "source": [
    "# Define an example input for prediction\n",
    "example = ['good']\n",
    "# Use the trained model to predict the class of the example input\n",
    "result = model.predict(example)\n",
    "# Print the prediction result\n",
    "print(result)"
   ]
  },
  {
   "cell_type": "code",
   "execution_count": 62,
   "id": "d1b1829a",
   "metadata": {},
   "outputs": [
    {
     "name": "stdout",
     "output_type": "stream",
     "text": [
      "['negative']\n"
     ]
    }
   ],
   "source": [
    "# Define an example input for prediction\n",
    "example = ['bad']\n",
    "# Use the trained model to predict the class of the example input\n",
    "result = model.predict(example)\n",
    "# Print the prediction result\n",
    "print(result)"
   ]
  },
  {
   "cell_type": "code",
   "execution_count": 63,
   "id": "c00c469d",
   "metadata": {},
   "outputs": [
    {
     "name": "stdout",
     "output_type": "stream",
     "text": [
      "['neutral']\n"
     ]
    }
   ],
   "source": [
    "# Define an example input for prediction\n",
    "example = ['ever']\n",
    "# Use the trained model to predict the class of the example input\n",
    "result = model.predict(example)\n",
    "# Print the prediction result\n",
    "print(result)"
   ]
  },
  {
   "cell_type": "code",
   "execution_count": 95,
   "id": "8b7ed146",
   "metadata": {},
   "outputs": [],
   "source": [
    "# Importing necessary libraries for text classification using TensorFlow\n",
    "import matplotlib.pyplot as plt  # Library for plotting\n",
    "from sklearn.model_selection import train_test_split  # For splitting data into training and testing sets\n",
    "from sklearn.feature_extraction.text import CountVectorizer  # For converting text to token counts\n",
    "from sklearn.feature_extraction.text import TfidfTransformer  # For converting token counts to TF-IDF features\n",
    "\n",
    "import tensorflow as tf  # TensorFlow library for building and training neural networks\n",
    "from tensorflow.keras.models import Sequential  # Sequential model for stacking layers\n",
    "from tensorflow.keras.layers import Dense, Activation, Dropout  # Dense layers for fully connected networks, Activation for specifying activation functions, Dropout for regularization\n",
    "from tensorflow.keras.callbacks import EarlyStopping  # Early stopping callback to prevent overfitting\n"
   ]
  },
  {
   "cell_type": "code",
   "execution_count": 65,
   "id": "2c4ab715",
   "metadata": {},
   "outputs": [
    {
     "data": {
      "text/html": [
       "<div>\n",
       "<style scoped>\n",
       "    .dataframe tbody tr th:only-of-type {\n",
       "        vertical-align: middle;\n",
       "    }\n",
       "\n",
       "    .dataframe tbody tr th {\n",
       "        vertical-align: top;\n",
       "    }\n",
       "\n",
       "    .dataframe thead th {\n",
       "        text-align: right;\n",
       "    }\n",
       "</style>\n",
       "<table border=\"1\" class=\"dataframe\">\n",
       "  <thead>\n",
       "    <tr style=\"text-align: right;\">\n",
       "      <th></th>\n",
       "      <th>Label</th>\n",
       "      <th>Date</th>\n",
       "      <th>Tweet</th>\n",
       "      <th>cleaned_text</th>\n",
       "      <th>cleaned_text_new</th>\n",
       "      <th>Sent</th>\n",
       "      <th>Sentiment</th>\n",
       "    </tr>\n",
       "  </thead>\n",
       "  <tbody>\n",
       "    <tr>\n",
       "      <th>0</th>\n",
       "      <td>0</td>\n",
       "      <td>Mon Apr 06 22:19:45 PDT 2009</td>\n",
       "      <td>@switchfoot http://twitpic.com/2y1zl - Awww, t...</td>\n",
       "      <td>switchfoot   awww thats a bummer  you shoulda ...</td>\n",
       "      <td>switchfoot   awww thats a bummer  you shoulda ...</td>\n",
       "      <td>0.216667</td>\n",
       "      <td>positive</td>\n",
       "    </tr>\n",
       "    <tr>\n",
       "      <th>1</th>\n",
       "      <td>1</td>\n",
       "      <td>Mon Apr 06 22:19:49 PDT 2009</td>\n",
       "      <td>is upset that he can't update his Facebook by ...</td>\n",
       "      <td>is upset that he cant update his facebook by t...</td>\n",
       "      <td>is upset that he cant update his facebook by t...</td>\n",
       "      <td>0.000000</td>\n",
       "      <td>neutral</td>\n",
       "    </tr>\n",
       "  </tbody>\n",
       "</table>\n",
       "</div>"
      ],
      "text/plain": [
       "   Label                          Date  \\\n",
       "0      0  Mon Apr 06 22:19:45 PDT 2009   \n",
       "1      1  Mon Apr 06 22:19:49 PDT 2009   \n",
       "\n",
       "                                               Tweet  \\\n",
       "0  @switchfoot http://twitpic.com/2y1zl - Awww, t...   \n",
       "1  is upset that he can't update his Facebook by ...   \n",
       "\n",
       "                                        cleaned_text  \\\n",
       "0  switchfoot   awww thats a bummer  you shoulda ...   \n",
       "1  is upset that he cant update his facebook by t...   \n",
       "\n",
       "                                    cleaned_text_new      Sent Sentiment  \n",
       "0  switchfoot   awww thats a bummer  you shoulda ...  0.216667  positive  \n",
       "1  is upset that he cant update his facebook by t...  0.000000   neutral  "
      ]
     },
     "execution_count": 65,
     "metadata": {},
     "output_type": "execute_result"
    }
   ],
   "source": [
    "data.head(2)"
   ]
  },
  {
   "cell_type": "code",
   "execution_count": 66,
   "id": "ca8b265c",
   "metadata": {},
   "outputs": [],
   "source": [
    "# Extract the time series data (Sentiment) from DataFrame\n",
    "sentiment_series = data['Sent']"
   ]
  },
  {
   "cell_type": "code",
   "execution_count": 67,
   "id": "d2422b32",
   "metadata": {},
   "outputs": [],
   "source": [
    "# Create DataFrame from the data dictionary\n",
    "df = pd.DataFrame(data)"
   ]
  },
  {
   "cell_type": "code",
   "execution_count": 68,
   "id": "eda216d1",
   "metadata": {},
   "outputs": [
    {
     "name": "stderr",
     "output_type": "stream",
     "text": [
      "/tmp/ipykernel_8561/646168968.py:2: FutureWarning: Parsed string \"Mon Apr 06 22:19:45 PDT 2009\" included an un-recognized timezone \"PDT\". Dropping unrecognized timezones is deprecated; in a future version this will raise. Instead pass the string without the timezone, then use .tz_localize to convert to a recognized timezone.\n",
      "  df['Date'] = pd.to_datetime(df['Date'])\n"
     ]
    }
   ],
   "source": [
    "# Convert 'Date' column to datetime format\n",
    "df['Date'] = pd.to_datetime(df['Date'])"
   ]
  },
  {
   "cell_type": "code",
   "execution_count": 69,
   "id": "99ff8f76",
   "metadata": {},
   "outputs": [
    {
     "name": "stdout",
     "output_type": "stream",
     "text": [
      "Index(['Label', 'Date', 'Tweet', 'cleaned_text', 'cleaned_text_new', 'Sent',\n",
      "       'Sentiment'],\n",
      "      dtype='object')\n"
     ]
    }
   ],
   "source": [
    "# Check available columns in the DataFrame\n",
    "print(df.columns)"
   ]
  },
  {
   "cell_type": "code",
   "execution_count": 70,
   "id": "ee04546d",
   "metadata": {},
   "outputs": [
    {
     "name": "stdout",
     "output_type": "stream",
     "text": [
      "                    Date      Sent\n",
      "0    2009-04-06 22:19:45  0.216667\n",
      "1    2009-04-06 22:19:49  0.000000\n",
      "2    2009-04-06 22:19:53  0.500000\n",
      "3    2009-04-06 22:19:57  0.200000\n",
      "4    2009-04-06 22:19:57 -0.625000\n",
      "...                  ...       ...\n",
      "1995 2009-04-07 00:43:16  0.000000\n",
      "1996 2009-04-07 00:43:22  0.000000\n",
      "1997 2009-04-07 00:43:26  0.062500\n",
      "1998 2009-04-07 00:43:29 -0.400000\n",
      "1999 2009-04-07 00:43:33 -0.775000\n",
      "\n",
      "[2000 rows x 2 columns]\n"
     ]
    }
   ],
   "source": [
    "# Extract only 'Date' and 'Sent' columns if they exist in the DataFrame\n",
    "if 'Date' in df.columns and 'Sent' in df.columns:\n",
    "    date_sent_df = df[['Date', 'Sent']]\n",
    "    print(date_sent_df)\n",
    "else:\n",
    "    print(\"The 'Date' or 'Sent' column does not exist in the DataFrame.\")"
   ]
  },
  {
   "cell_type": "code",
   "execution_count": 71,
   "id": "c1c2bb1d",
   "metadata": {},
   "outputs": [
    {
     "data": {
      "text/html": [
       "<div>\n",
       "<style scoped>\n",
       "    .dataframe tbody tr th:only-of-type {\n",
       "        vertical-align: middle;\n",
       "    }\n",
       "\n",
       "    .dataframe tbody tr th {\n",
       "        vertical-align: top;\n",
       "    }\n",
       "\n",
       "    .dataframe thead th {\n",
       "        text-align: right;\n",
       "    }\n",
       "</style>\n",
       "<table border=\"1\" class=\"dataframe\">\n",
       "  <thead>\n",
       "    <tr style=\"text-align: right;\">\n",
       "      <th></th>\n",
       "      <th>Date</th>\n",
       "      <th>Sent</th>\n",
       "    </tr>\n",
       "  </thead>\n",
       "  <tbody>\n",
       "    <tr>\n",
       "      <th>0</th>\n",
       "      <td>2009-04-06 22:19:45</td>\n",
       "      <td>0.216667</td>\n",
       "    </tr>\n",
       "    <tr>\n",
       "      <th>1</th>\n",
       "      <td>2009-04-06 22:19:49</td>\n",
       "      <td>0.000000</td>\n",
       "    </tr>\n",
       "    <tr>\n",
       "      <th>2</th>\n",
       "      <td>2009-04-06 22:19:53</td>\n",
       "      <td>0.500000</td>\n",
       "    </tr>\n",
       "    <tr>\n",
       "      <th>3</th>\n",
       "      <td>2009-04-06 22:19:57</td>\n",
       "      <td>0.200000</td>\n",
       "    </tr>\n",
       "    <tr>\n",
       "      <th>4</th>\n",
       "      <td>2009-04-06 22:19:57</td>\n",
       "      <td>-0.625000</td>\n",
       "    </tr>\n",
       "  </tbody>\n",
       "</table>\n",
       "</div>"
      ],
      "text/plain": [
       "                 Date      Sent\n",
       "0 2009-04-06 22:19:45  0.216667\n",
       "1 2009-04-06 22:19:49  0.000000\n",
       "2 2009-04-06 22:19:53  0.500000\n",
       "3 2009-04-06 22:19:57  0.200000\n",
       "4 2009-04-06 22:19:57 -0.625000"
      ]
     },
     "execution_count": 71,
     "metadata": {},
     "output_type": "execute_result"
    }
   ],
   "source": [
    "date_sent_df.head(5)"
   ]
  },
  {
   "cell_type": "code",
   "execution_count": 72,
   "id": "1882f77c",
   "metadata": {},
   "outputs": [],
   "source": [
    "df=date_sent_df"
   ]
  },
  {
   "cell_type": "code",
   "execution_count": 73,
   "id": "d4d60c80",
   "metadata": {},
   "outputs": [
    {
     "data": {
      "text/html": [
       "<div>\n",
       "<style scoped>\n",
       "    .dataframe tbody tr th:only-of-type {\n",
       "        vertical-align: middle;\n",
       "    }\n",
       "\n",
       "    .dataframe tbody tr th {\n",
       "        vertical-align: top;\n",
       "    }\n",
       "\n",
       "    .dataframe thead th {\n",
       "        text-align: right;\n",
       "    }\n",
       "</style>\n",
       "<table border=\"1\" class=\"dataframe\">\n",
       "  <thead>\n",
       "    <tr style=\"text-align: right;\">\n",
       "      <th></th>\n",
       "      <th>Date</th>\n",
       "      <th>Sent</th>\n",
       "    </tr>\n",
       "  </thead>\n",
       "  <tbody>\n",
       "    <tr>\n",
       "      <th>0</th>\n",
       "      <td>2009-04-06 22:19:45</td>\n",
       "      <td>0.216667</td>\n",
       "    </tr>\n",
       "    <tr>\n",
       "      <th>1</th>\n",
       "      <td>2009-04-06 22:19:49</td>\n",
       "      <td>0.000000</td>\n",
       "    </tr>\n",
       "  </tbody>\n",
       "</table>\n",
       "</div>"
      ],
      "text/plain": [
       "                 Date      Sent\n",
       "0 2009-04-06 22:19:45  0.216667\n",
       "1 2009-04-06 22:19:49  0.000000"
      ]
     },
     "execution_count": 73,
     "metadata": {},
     "output_type": "execute_result"
    }
   ],
   "source": [
    "df.head(2)"
   ]
  },
  {
   "cell_type": "code",
   "execution_count": 74,
   "id": "c57fa9b7",
   "metadata": {},
   "outputs": [
    {
     "data": {
      "image/png": "[encoded data removed]",
      "text/plain": [
       "<Figure size 864x432 with 1 Axes>"
      ]
     },
     "metadata": {},
     "output_type": "display_data"
    }
   ],
   "source": [
    "# Plot the time series\n",
    "plt.figure(figsize=(12, 6))\n",
    "plt.plot(df.index.to_numpy(), df['Sent'].to_numpy(), label='Sentiment')\n",
    "plt.xlabel('Date')\n",
    "plt.ylabel('Sentiment')\n",
    "plt.title('Time Series of Sentiment')\n",
    "plt.legend()\n",
    "plt.show()"
   ]
  },
  {
   "cell_type": "code",
   "execution_count": 75,
   "id": "82f868ae",
   "metadata": {},
   "outputs": [],
   "source": [
    "from statsmodels.tsa.arima.model import ARIMA"
   ]
  },
  {
   "cell_type": "code",
   "execution_count": 76,
   "id": "be9eb070",
   "metadata": {},
   "outputs": [
    {
     "name": "stdout",
     "output_type": "stream",
     "text": [
      "                               SARIMAX Results                                \n",
      "==============================================================================\n",
      "Dep. Variable:                   Sent   No. Observations:                 2000\n",
      "Model:                 ARIMA(1, 0, 0)   Log Likelihood                -629.760\n",
      "Date:                Fri, 17 May 2024   AIC                           1265.520\n",
      "Time:                        22:08:22   BIC                           1282.323\n",
      "Sample:                             0   HQIC                          1271.690\n",
      "                               - 2000                                         \n",
      "Covariance Type:                  opg                                         \n",
      "==============================================================================\n",
      "                 coef    std err          z      P>|z|      [0.025      0.975]\n",
      "------------------------------------------------------------------------------\n",
      "const         -0.0234      0.007     -3.193      0.001      -0.038      -0.009\n",
      "ar.L1         -0.0132      0.022     -0.599      0.549      -0.057       0.030\n",
      "sigma2         0.1099      0.003     39.871      0.000       0.105       0.115\n",
      "===================================================================================\n",
      "Ljung-Box (L1) (Q):                   0.00   Jarque-Bera (JB):               120.39\n",
      "Prob(Q):                              1.00   Prob(JB):                         0.00\n",
      "Heteroskedasticity (H):               0.97   Skew:                            -0.06\n",
      "Prob(H) (two-sided):                  0.66   Kurtosis:                         4.19\n",
      "===================================================================================\n",
      "\n",
      "Warnings:\n",
      "[1] Covariance matrix calculated using the outer product of gradients (complex-step).\n"
     ]
    }
   ],
   "source": [
    "# Define ARIMA model parameters\n",
    "order = (1, 0, 0)  # ARIMA order (p, d, q)\n",
    "\n",
    "# Fit ARIMA model\n",
    "model = ARIMA(df['Sent'], order=order)\n",
    "results = model.fit()\n",
    "\n",
    "# Print model summary\n",
    "print(results.summary())"
   ]
  },
  {
   "cell_type": "code",
   "execution_count": 77,
   "id": "b5d6716c",
   "metadata": {},
   "outputs": [
    {
     "data": {
      "image/png": "[encoded data removed]",
      "text/plain": [
       "<Figure size 720x576 with 4 Axes>"
      ]
     },
     "metadata": {},
     "output_type": "display_data"
    }
   ],
   "source": [
    "# Plot diagnostics of the model\n",
    "results.plot_diagnostics(figsize=(10, 8))\n",
    "plt.show()"
   ]
  },
  {
   "cell_type": "code",
   "execution_count": 78,
   "id": "54dac4d9",
   "metadata": {},
   "outputs": [
    {
     "data": {
      "image/png": "[encoded data removed]",
      "text/plain": [
       "<Figure size 864x432 with 1 Axes>"
      ]
     },
     "metadata": {},
     "output_type": "display_data"
    }
   ],
   "source": [
    "df = pd.DataFrame(df)\n",
    "df['Date'] = pd.to_datetime(df['Date'])  # Convert 'Date' column to datetime\n",
    "\n",
    "# Plot the time series\n",
    "plt.figure(figsize=(12, 6))\n",
    "plt.plot(df['Date'].values, df['Sent'].values, label='Sentiment', linestyle='-', marker='o', color='b')\n",
    "plt.xlabel('Date')\n",
    "plt.ylabel('Sentiment')\n",
    "plt.title('Time Series of Sentiment')\n",
    "plt.legend()\n",
    "plt.grid(True)\n",
    "plt.show()"
   ]
  },
  {
   "cell_type": "code",
   "execution_count": 79,
   "id": "30a721ba",
   "metadata": {},
   "outputs": [
    {
     "name": "stdout",
     "output_type": "stream",
     "text": [
      "Defaulting to user installation because normal site-packages is not writeable\n",
      "Requirement already satisfied: dash in /home/hduser/.local/lib/python3.10/site-packages (2.17.0)\n",
      "Requirement already satisfied: plotly in /home/hduser/.local/lib/python3.10/site-packages (5.22.0)\n",
      "Requirement already satisfied: setuptools in /home/hduser/.local/lib/python3.10/site-packages (from dash) (69.2.0)\n",
      "Requirement already satisfied: Werkzeug<3.1 in /home/hduser/.local/lib/python3.10/site-packages (from dash) (3.0.1)\n",
      "Requirement already satisfied: requests in /usr/lib/python3/dist-packages (from dash) (2.25.1)\n",
      "Requirement already satisfied: nest-asyncio in /usr/lib/python3/dist-packages (from dash) (1.5.4)\n",
      "Requirement already satisfied: dash-core-components==2.0.0 in /home/hduser/.local/lib/python3.10/site-packages (from dash) (2.0.0)\n",
      "Requirement already satisfied: typing-extensions>=4.1.1 in /home/hduser/.local/lib/python3.10/site-packages (from dash) (4.10.0)\n",
      "Requirement already satisfied: dash-table==5.0.0 in /home/hduser/.local/lib/python3.10/site-packages (from dash) (5.0.0)\n",
      "Requirement already satisfied: retrying in /home/hduser/.local/lib/python3.10/site-packages (from dash) (1.3.4)\n",
      "Requirement already satisfied: importlib-metadata in /usr/lib/python3/dist-packages (from dash) (4.6.4)\n",
      "Requirement already satisfied: dash-html-components==2.0.0 in /home/hduser/.local/lib/python3.10/site-packages (from dash) (2.0.0)\n",
      "Requirement already satisfied: Flask<3.1,>=1.0.4 in /home/hduser/.local/lib/python3.10/site-packages (from dash) (3.0.3)\n",
      "Requirement already satisfied: packaging in /home/hduser/.local/lib/python3.10/site-packages (from plotly) (24.0)\n",
      "Requirement already satisfied: tenacity>=6.2.0 in /home/hduser/.local/lib/python3.10/site-packages (from plotly) (8.3.0)\n",
      "Requirement already satisfied: click>=8.1.3 in /home/hduser/.local/lib/python3.10/site-packages (from Flask<3.1,>=1.0.4->dash) (8.1.7)\n",
      "Requirement already satisfied: blinker>=1.6.2 in /home/hduser/.local/lib/python3.10/site-packages (from Flask<3.1,>=1.0.4->dash) (1.8.2)\n",
      "Requirement already satisfied: itsdangerous>=2.1.2 in /home/hduser/.local/lib/python3.10/site-packages (from Flask<3.1,>=1.0.4->dash) (2.2.0)\n",
      "Requirement already satisfied: Jinja2>=3.1.2 in /home/hduser/.local/lib/python3.10/site-packages (from Flask<3.1,>=1.0.4->dash) (3.1.4)\n",
      "Requirement already satisfied: MarkupSafe>=2.1.1 in /home/hduser/.local/lib/python3.10/site-packages (from Werkzeug<3.1->dash) (2.1.5)\n",
      "Requirement already satisfied: six>=1.7.0 in /usr/lib/python3/dist-packages (from retrying->dash) (1.16.0)\n",
      "Note: you may need to restart the kernel to use updated packages.\n"
     ]
    }
   ],
   "source": [
    "pip install dash plotly\n"
   ]
  },
  {
   "cell_type": "code",
   "execution_count": 80,
   "id": "89fb992c",
   "metadata": {},
   "outputs": [],
   "source": [
    "import dash\n",
    "from dash import dcc, html  # Import html module\n",
    "\n",
    "import plotly.graph_objs as go\n",
    "import pandas as pd"
   ]
  },
  {
   "cell_type": "code",
   "execution_count": 81,
   "id": "bf2d7db3",
   "metadata": {},
   "outputs": [
    {
     "data": {
      "text/html": [
       "\n",
       "        <iframe\n",
       "            width=\"100%\"\n",
       "            height=\"650\"\n",
       "            src=\"http://127.0.0.1:8050/\"\n",
       "            frameborder=\"0\"\n",
       "            allowfullscreen\n",
       "            \n",
       "        ></iframe>\n",
       "        "
      ],
      "text/plain": [
       "<IPython.lib.display.IFrame at 0x76782f046d10>"
      ]
     },
     "metadata": {},
     "output_type": "display_data"
    }
   ],
   "source": [
    "\n",
    "\n",
    "# Assuming df is your DataFrame with 'Date' and 'Sent' columns\n",
    "df = pd.DataFrame({\n",
    "    'Date': pd.date_range(start='1/1/2020', periods=100),\n",
    "    'Sent': pd.Series([i for i in range(100)])  # Replace with your sentiment data\n",
    "})\n",
    "df['Date'] = pd.to_datetime(df['Date'])  # Ensure 'Date' column is datetime\n",
    "\n",
    "# Create the Dash app\n",
    "app = dash.Dash(__name__)\n",
    "\n",
    "# Create the layout\n",
    "app.layout = html.Div(children=[\n",
    "    html.H1(children='Time Series of Sentiment'),\n",
    "    dcc.Graph(\n",
    "        id='time-series-graph',\n",
    "        figure={\n",
    "            'data': [\n",
    "                go.Scatter(\n",
    "                    x=df['Date'],\n",
    "                    y=df['Sent'],\n",
    "                    mode='lines+markers',  # Lines with markers\n",
    "                    line=dict(color='blue'),\n",
    "                    marker=dict(symbol='circle', size=6),\n",
    "                    name='Sentiment'\n",
    "                )\n",
    "            ],\n",
    "            'layout': go.Layout(\n",
    "                title='Time Series of Sentiment',\n",
    "                xaxis={'title': 'Date'},\n",
    "                yaxis={'title': 'Sentiment'},\n",
    "                showlegend=True\n",
    "            )\n",
    "        }\n",
    "    )\n",
    "])\n",
    "\n",
    "# Run the app\n",
    "if __name__ == '__main__':\n",
    "    app.run_server(debug=True)\n"
   ]
  },
  {
   "cell_type": "code",
   "execution_count": 82,
   "id": "9a557cc9",
   "metadata": {},
   "outputs": [
    {
     "data": {
      "text/html": [
       "<div>\n",
       "<style scoped>\n",
       "    .dataframe tbody tr th:only-of-type {\n",
       "        vertical-align: middle;\n",
       "    }\n",
       "\n",
       "    .dataframe tbody tr th {\n",
       "        vertical-align: top;\n",
       "    }\n",
       "\n",
       "    .dataframe thead th {\n",
       "        text-align: right;\n",
       "    }\n",
       "</style>\n",
       "<table border=\"1\" class=\"dataframe\">\n",
       "  <thead>\n",
       "    <tr style=\"text-align: right;\">\n",
       "      <th></th>\n",
       "      <th>Label</th>\n",
       "      <th>Date</th>\n",
       "      <th>Tweet</th>\n",
       "      <th>cleaned_text</th>\n",
       "      <th>cleaned_text_new</th>\n",
       "      <th>Sent</th>\n",
       "      <th>Sentiment</th>\n",
       "    </tr>\n",
       "  </thead>\n",
       "  <tbody>\n",
       "    <tr>\n",
       "      <th>0</th>\n",
       "      <td>0</td>\n",
       "      <td>Mon Apr 06 22:19:45 PDT 2009</td>\n",
       "      <td>@switchfoot http://twitpic.com/2y1zl - Awww, t...</td>\n",
       "      <td>switchfoot   awww thats a bummer  you shoulda ...</td>\n",
       "      <td>switchfoot   awww thats a bummer  you shoulda ...</td>\n",
       "      <td>0.216667</td>\n",
       "      <td>positive</td>\n",
       "    </tr>\n",
       "    <tr>\n",
       "      <th>1</th>\n",
       "      <td>1</td>\n",
       "      <td>Mon Apr 06 22:19:49 PDT 2009</td>\n",
       "      <td>is upset that he can't update his Facebook by ...</td>\n",
       "      <td>is upset that he cant update his facebook by t...</td>\n",
       "      <td>is upset that he cant update his facebook by t...</td>\n",
       "      <td>0.000000</td>\n",
       "      <td>neutral</td>\n",
       "    </tr>\n",
       "  </tbody>\n",
       "</table>\n",
       "</div>"
      ],
      "text/plain": [
       "   Label                          Date  \\\n",
       "0      0  Mon Apr 06 22:19:45 PDT 2009   \n",
       "1      1  Mon Apr 06 22:19:49 PDT 2009   \n",
       "\n",
       "                                               Tweet  \\\n",
       "0  @switchfoot http://twitpic.com/2y1zl - Awww, t...   \n",
       "1  is upset that he can't update his Facebook by ...   \n",
       "\n",
       "                                        cleaned_text  \\\n",
       "0  switchfoot   awww thats a bummer  you shoulda ...   \n",
       "1  is upset that he cant update his facebook by t...   \n",
       "\n",
       "                                    cleaned_text_new      Sent Sentiment  \n",
       "0  switchfoot   awww thats a bummer  you shoulda ...  0.216667  positive  \n",
       "1  is upset that he cant update his facebook by t...  0.000000   neutral  "
      ]
     },
     "execution_count": 82,
     "metadata": {},
     "output_type": "execute_result"
    }
   ],
   "source": [
    "data.head(2)\n"
   ]
  },
  {
   "cell_type": "code",
   "execution_count": 83,
   "id": "68ce53c0",
   "metadata": {},
   "outputs": [
    {
     "data": {
      "text/html": [
       "<div>\n",
       "<style scoped>\n",
       "    .dataframe tbody tr th:only-of-type {\n",
       "        vertical-align: middle;\n",
       "    }\n",
       "\n",
       "    .dataframe tbody tr th {\n",
       "        vertical-align: top;\n",
       "    }\n",
       "\n",
       "    .dataframe thead th {\n",
       "        text-align: right;\n",
       "    }\n",
       "</style>\n",
       "<table border=\"1\" class=\"dataframe\">\n",
       "  <thead>\n",
       "    <tr style=\"text-align: right;\">\n",
       "      <th></th>\n",
       "      <th>Date</th>\n",
       "      <th>Sent</th>\n",
       "    </tr>\n",
       "  </thead>\n",
       "  <tbody>\n",
       "    <tr>\n",
       "      <th>0</th>\n",
       "      <td>2020-01-01</td>\n",
       "      <td>0</td>\n",
       "    </tr>\n",
       "    <tr>\n",
       "      <th>1</th>\n",
       "      <td>2020-01-02</td>\n",
       "      <td>1</td>\n",
       "    </tr>\n",
       "    <tr>\n",
       "      <th>2</th>\n",
       "      <td>2020-01-03</td>\n",
       "      <td>2</td>\n",
       "    </tr>\n",
       "    <tr>\n",
       "      <th>3</th>\n",
       "      <td>2020-01-04</td>\n",
       "      <td>3</td>\n",
       "    </tr>\n",
       "    <tr>\n",
       "      <th>4</th>\n",
       "      <td>2020-01-05</td>\n",
       "      <td>4</td>\n",
       "    </tr>\n",
       "  </tbody>\n",
       "</table>\n",
       "</div>"
      ],
      "text/plain": [
       "        Date  Sent\n",
       "0 2020-01-01     0\n",
       "1 2020-01-02     1\n",
       "2 2020-01-03     2\n",
       "3 2020-01-04     3\n",
       "4 2020-01-05     4"
      ]
     },
     "execution_count": 83,
     "metadata": {},
     "output_type": "execute_result"
    }
   ],
   "source": [
    "df.head()"
   ]
  },
  {
   "cell_type": "code",
   "execution_count": 84,
   "id": "4c2366ab",
   "metadata": {},
   "outputs": [
    {
     "data": {
      "text/html": [
       "<div>\n",
       "<style scoped>\n",
       "    .dataframe tbody tr th:only-of-type {\n",
       "        vertical-align: middle;\n",
       "    }\n",
       "\n",
       "    .dataframe tbody tr th {\n",
       "        vertical-align: top;\n",
       "    }\n",
       "\n",
       "    .dataframe thead th {\n",
       "        text-align: right;\n",
       "    }\n",
       "</style>\n",
       "<table border=\"1\" class=\"dataframe\">\n",
       "  <thead>\n",
       "    <tr style=\"text-align: right;\">\n",
       "      <th></th>\n",
       "      <th>cleaned_text_new</th>\n",
       "      <th>Sentiment</th>\n",
       "    </tr>\n",
       "  </thead>\n",
       "  <tbody>\n",
       "    <tr>\n",
       "      <th>0</th>\n",
       "      <td>switchfoot   awww thats a bummer  you shoulda ...</td>\n",
       "      <td>positive</td>\n",
       "    </tr>\n",
       "    <tr>\n",
       "      <th>1</th>\n",
       "      <td>is upset that he cant update his facebook by t...</td>\n",
       "      <td>neutral</td>\n",
       "    </tr>\n",
       "    <tr>\n",
       "      <th>2</th>\n",
       "      <td>kenichan i dived many times for the ball manag...</td>\n",
       "      <td>positive</td>\n",
       "    </tr>\n",
       "    <tr>\n",
       "      <th>3</th>\n",
       "      <td>my whole body feels itchy and like its on fire</td>\n",
       "      <td>positive</td>\n",
       "    </tr>\n",
       "    <tr>\n",
       "      <th>4</th>\n",
       "      <td>nationwideclass no its not behaving at all im ...</td>\n",
       "      <td>negative</td>\n",
       "    </tr>\n",
       "  </tbody>\n",
       "</table>\n",
       "</div>"
      ],
      "text/plain": [
       "                                    cleaned_text_new Sentiment\n",
       "0  switchfoot   awww thats a bummer  you shoulda ...  positive\n",
       "1  is upset that he cant update his facebook by t...   neutral\n",
       "2  kenichan i dived many times for the ball manag...  positive\n",
       "3    my whole body feels itchy and like its on fire   positive\n",
       "4  nationwideclass no its not behaving at all im ...  negative"
      ]
     },
     "execution_count": 84,
     "metadata": {},
     "output_type": "execute_result"
    }
   ],
   "source": [
    "# Selecting columns 'cleaned_text_new' and 'Sentiment' from the DataFrame 'data'\n",
    "df = data[['cleaned_text_new', 'Sentiment']]\n",
    "df.head()"
   ]
  },
  {
   "cell_type": "code",
   "execution_count": 85,
   "id": "d6dde624",
   "metadata": {},
   "outputs": [
    {
     "name": "stderr",
     "output_type": "stream",
     "text": [
      "/tmp/ipykernel_8561/318579932.py:7: SettingWithCopyWarning:\n",
      "\n",
      "\n",
      "A value is trying to be set on a copy of a slice from a DataFrame\n",
      "\n",
      "See the caveats in the documentation: https://pandas.pydata.org/pandas-docs/stable/user_guide/indexing.html#returning-a-view-versus-a-copy\n",
      "\n"
     ]
    },
    {
     "data": {
      "text/html": [
       "<div>\n",
       "<style scoped>\n",
       "    .dataframe tbody tr th:only-of-type {\n",
       "        vertical-align: middle;\n",
       "    }\n",
       "\n",
       "    .dataframe tbody tr th {\n",
       "        vertical-align: top;\n",
       "    }\n",
       "\n",
       "    .dataframe thead th {\n",
       "        text-align: right;\n",
       "    }\n",
       "</style>\n",
       "<table border=\"1\" class=\"dataframe\">\n",
       "  <thead>\n",
       "    <tr style=\"text-align: right;\">\n",
       "      <th></th>\n",
       "      <th>cleaned_text_new</th>\n",
       "      <th>negative</th>\n",
       "      <th>neutral</th>\n",
       "      <th>positive</th>\n",
       "    </tr>\n",
       "  </thead>\n",
       "  <tbody>\n",
       "    <tr>\n",
       "      <th>0</th>\n",
       "      <td>switchfoot   awww thats a bummer  you shoulda ...</td>\n",
       "      <td>False</td>\n",
       "      <td>False</td>\n",
       "      <td>True</td>\n",
       "    </tr>\n",
       "    <tr>\n",
       "      <th>1</th>\n",
       "      <td>is upset that he cant update his facebook by t...</td>\n",
       "      <td>False</td>\n",
       "      <td>True</td>\n",
       "      <td>False</td>\n",
       "    </tr>\n",
       "    <tr>\n",
       "      <th>2</th>\n",
       "      <td>kenichan i dived many times for the ball manag...</td>\n",
       "      <td>False</td>\n",
       "      <td>False</td>\n",
       "      <td>True</td>\n",
       "    </tr>\n",
       "    <tr>\n",
       "      <th>3</th>\n",
       "      <td>my whole body feels itchy and like its on fire</td>\n",
       "      <td>False</td>\n",
       "      <td>False</td>\n",
       "      <td>True</td>\n",
       "    </tr>\n",
       "    <tr>\n",
       "      <th>4</th>\n",
       "      <td>nationwideclass no its not behaving at all im ...</td>\n",
       "      <td>True</td>\n",
       "      <td>False</td>\n",
       "      <td>False</td>\n",
       "    </tr>\n",
       "  </tbody>\n",
       "</table>\n",
       "</div>"
      ],
      "text/plain": [
       "                                    cleaned_text_new  negative  neutral  \\\n",
       "0  switchfoot   awww thats a bummer  you shoulda ...     False    False   \n",
       "1  is upset that he cant update his facebook by t...     False     True   \n",
       "2  kenichan i dived many times for the ball manag...     False    False   \n",
       "3    my whole body feels itchy and like its on fire      False    False   \n",
       "4  nationwideclass no its not behaving at all im ...      True    False   \n",
       "\n",
       "   positive  \n",
       "0      True  \n",
       "1     False  \n",
       "2      True  \n",
       "3      True  \n",
       "4     False  "
      ]
     },
     "execution_count": 85,
     "metadata": {},
     "output_type": "execute_result"
    }
   ],
   "source": [
    "# Perform one-hot encoding on the 'Sentiment' column of the DataFrame 'df'\n",
    "# Drop the original 'Sentiment' column from the DataFrame 'df'\n",
    "# Concatenate the one-hot encoded columns with the DataFrame 'df'\n",
    "# Display the first few rows of the modified DataFrame\n",
    "\n",
    "one_hot = pd.get_dummies(df[\"Sentiment\"])\n",
    "df.drop(['Sentiment'],axis=1,inplace=True)\n",
    "df = pd.concat([df,one_hot],axis=1)\n",
    "df.head()"
   ]
  },
  {
   "cell_type": "code",
   "execution_count": 86,
   "id": "177e3cca",
   "metadata": {},
   "outputs": [],
   "source": [
    "# Assigning features to variable X and target variable to variable y\n",
    "X = df['cleaned_text_new'].values\n",
    "y = df.drop('cleaned_text_new', axis=1).values\n",
    "# Splitting the data into training and testing sets\n",
    "X_train, X_test, y_train, y_test = train_test_split(X, y, test_size=0.30, random_state=42)"
   ]
  },
  {
   "cell_type": "code",
   "execution_count": 87,
   "id": "81955f42",
   "metadata": {},
   "outputs": [],
   "source": [
    "# Create a CountVectorizer object to convert text documents into a matrix of token counts\n",
    "# Fit the CountVectorizer on the training data and transform it\n",
    "# Transform the test data using the fitted CountVectorizer\n",
    "vect = CountVectorizer()\n",
    "X_train = vect.fit_transform(X_train)\n",
    "X_test = vect.transform(X_test)"
   ]
  },
  {
   "cell_type": "code",
   "execution_count": 88,
   "id": "23b482ae",
   "metadata": {},
   "outputs": [],
   "source": [
    "# Create a TfidfTransformer object to transform the text data into TF-IDF features\n",
    "tfidf = TfidfTransformer()\n",
    "# Fit the TfidfTransformer on the training data and transform it\n",
    "X_train = tfidf.fit_transform(X_train)\n",
    "# Transform the test data using the fitted TfidfTransformer\n",
    "X_test = tfidf.transform(X_test)\n",
    "# Convert the sparse matrix representation of the training and test data to dense arrays\n",
    "X_train = X_train.toarray()\n",
    "X_test = X_test.toarray()"
   ]
  },
  {
   "cell_type": "code",
   "execution_count": 89,
   "id": "af95dc2a",
   "metadata": {},
   "outputs": [],
   "source": [
    "# Initialize a sequential model\n",
    "model = Sequential()\n",
    "# Add the first dense layer with 126 units and ReLU activation\n",
    "# Dropout layer with 50% dropout rate to prevent overfitting\n",
    "model.add(Dense(units=126,activation='relu'))\n",
    "model.add(Dropout(0.5))\n",
    "# Add the second dense layer with 400 units and ReLU activation\n",
    "# Dropout layer with 50% dropout rate to prevent overfitting\n",
    "model.add(Dense(units=400,activation='relu'))\n",
    "model.add(Dropout(0.5))\n",
    "# Add the third dense layer with 500 units and ReLU activation\n",
    "# Dropout layer with 50% dropout rate to prevent overfitting\n",
    "model.add(Dense(units=500,activation='relu'))\n",
    "model.add(Dropout(0.5))\n",
    "# Add the output layer with 3 units (one for each class) and softmax activation\n",
    "# Softmax activation is used for multi-class classification\n",
    "model.add(Dense(units=3, activation='softmax'))\n",
    "# Define the optimizer with a learning rate of 0.001\n",
    "\n",
    "opt=tf.keras.optimizers.Adam(learning_rate=0.001)\n",
    "\n",
    "# Compile the model\n",
    "# loss: categorical crossentropy, suitable for multi-class classification\n",
    "# optimizer: Adam optimizer with specified learning rate\n",
    "# metrics: track accuracy during training and evaluation\n",
    "model.compile(loss='categorical_crossentropy', optimizer=opt, metrics=['accuracy'])\n",
    "# Define the EarlyStopping callback\n",
    "# monitor: 'val_loss' to monitor the validation loss\n",
    "# mode: 'min' to stop training when the quantity monitored has stopped decreasing\n",
    "# verbose: 1 to print a message when early stopping is triggered\n",
    "# patience: number of epochs with no improvement after which training will be stopped\n",
    "early_stop = EarlyStopping(monitor='val_loss', mode='min', verbose=1, patience=2)"
   ]
  },
  {
   "cell_type": "code",
   "execution_count": 90,
   "id": "315901d6",
   "metadata": {},
   "outputs": [],
   "source": [
    "# Import the EarlyStopping callback from TensorFlow's Keras library\n",
    "from tensorflow.keras.callbacks import EarlyStopping"
   ]
  },
  {
   "cell_type": "code",
   "execution_count": 91,
   "id": "5194aa6d",
   "metadata": {},
   "outputs": [
    {
     "name": "stdout",
     "output_type": "stream",
     "text": [
      "Epoch 1/40\n"
     ]
    },
    {
     "name": "stderr",
     "output_type": "stream",
     "text": [
      "2024-05-17 22:08:26.343242: W external/local_tsl/tsl/framework/cpu_allocator_impl.cc:83] Allocation of 23402400 exceeds 10% of free system memory.\n"
     ]
    },
    {
     "name": "stdout",
     "output_type": "stream",
     "text": [
      "\u001b[1m7/7\u001b[0m \u001b[32m━━━━━━━━━━━━━━━━━━━━\u001b[0m\u001b[37m\u001b[0m \u001b[1m2s\u001b[0m 79ms/step - accuracy: 0.3335 - loss: 1.0985 - val_accuracy: 0.3433 - val_loss: 1.0976\n",
      "Epoch 2/40\n",
      "\u001b[1m7/7\u001b[0m \u001b[32m━━━━━━━━━━━━━━━━━━━━\u001b[0m\u001b[37m\u001b[0m \u001b[1m0s\u001b[0m 52ms/step - accuracy: 0.3610 - loss: 1.0940 - val_accuracy: 0.3433 - val_loss: 1.0973\n",
      "Epoch 3/40\n",
      "\u001b[1m7/7\u001b[0m \u001b[32m━━━━━━━━━━━━━━━━━━━━\u001b[0m\u001b[37m\u001b[0m \u001b[1m1s\u001b[0m 44ms/step - accuracy: 0.3838 - loss: 1.0849 - val_accuracy: 0.3500 - val_loss: 1.0922\n",
      "Epoch 4/40\n",
      "\u001b[1m7/7\u001b[0m \u001b[32m━━━━━━━━━━━━━━━━━━━━\u001b[0m\u001b[37m\u001b[0m \u001b[1m1s\u001b[0m 41ms/step - accuracy: 0.4294 - loss: 1.0648 - val_accuracy: 0.4400 - val_loss: 1.0728\n",
      "Epoch 5/40\n",
      "\u001b[1m7/7\u001b[0m \u001b[32m━━━━━━━━━━━━━━━━━━━━\u001b[0m\u001b[37m\u001b[0m \u001b[1m0s\u001b[0m 41ms/step - accuracy: 0.5529 - loss: 1.0080 - val_accuracy: 0.5033 - val_loss: 1.0179\n",
      "Epoch 6/40\n",
      "\u001b[1m7/7\u001b[0m \u001b[32m━━━━━━━━━━━━━━━━━━━━\u001b[0m\u001b[37m\u001b[0m \u001b[1m1s\u001b[0m 47ms/step - accuracy: 0.6805 - loss: 0.8299 - val_accuracy: 0.5783 - val_loss: 0.9146\n",
      "Epoch 7/40\n",
      "\u001b[1m7/7\u001b[0m \u001b[32m━━━━━━━━━━━━━━━━━━━━\u001b[0m\u001b[37m\u001b[0m \u001b[1m1s\u001b[0m 43ms/step - accuracy: 0.8528 - loss: 0.5208 - val_accuracy: 0.6033 - val_loss: 0.8896\n",
      "Epoch 8/40\n",
      "\u001b[1m7/7\u001b[0m \u001b[32m━━━━━━━━━━━━━━━━━━━━\u001b[0m\u001b[37m\u001b[0m \u001b[1m0s\u001b[0m 56ms/step - accuracy: 0.9407 - loss: 0.2261 - val_accuracy: 0.6300 - val_loss: 1.0106\n",
      "Epoch 9/40\n",
      "\u001b[1m7/7\u001b[0m \u001b[32m━━━━━━━━━━━━━━━━━━━━\u001b[0m\u001b[37m\u001b[0m \u001b[1m0s\u001b[0m 46ms/step - accuracy: 0.9806 - loss: 0.0874 - val_accuracy: 0.6267 - val_loss: 1.2148\n",
      "Epoch 9: early stopping\n"
     ]
    },
    {
     "data": {
      "text/plain": [
       "<keras.src.callbacks.history.History at 0x76782dff55a0>"
      ]
     },
     "execution_count": 91,
     "metadata": {},
     "output_type": "execute_result"
    }
   ],
   "source": [
    "# Train the model on the training data with specified parameters\n",
    "# X_train: independent variables (features) for the training dataset\n",
    "# y_train: dependent variables (labels) for the training dataset\n",
    "# batch_size: number of samples per gradient update\n",
    "# epochs: number of epochs to train the model\n",
    "# validation_data: data on which to evaluate the loss and any model metrics at the end of each epoch\n",
    "# verbose: verbosity mode (1 = progress bar)\n",
    "# callbacks: list of callbacks to apply during training (e.g., early stopping)\n",
    "\n",
    "model.fit(X_train, y_train, batch_size=200, epochs=40, validation_data=(X_test, y_test), verbose=1, callbacks=early_stop)\n"
   ]
  },
  {
   "cell_type": "code",
   "execution_count": 92,
   "id": "7893ce4f",
   "metadata": {},
   "outputs": [
    {
     "name": "stdout",
     "output_type": "stream",
     "text": [
      "\u001b[1m10/10\u001b[0m \u001b[32m━━━━━━━━━━━━━━━━━━━━\u001b[0m\u001b[37m\u001b[0m \u001b[1m0s\u001b[0m 4ms/step - accuracy: 0.6041 - loss: 1.2493  \n",
      "Test accuracy: 0.6266666650772095\n"
     ]
    }
   ],
   "source": [
    "model_score = model.evaluate(X_test, y_test, batch_size=64, verbose=1)\n",
    "print('Test accuracy:', model_score[1])"
   ]
  },
  {
   "cell_type": "code",
   "execution_count": 93,
   "id": "5d5e2073",
   "metadata": {},
   "outputs": [
    {
     "name": "stdout",
     "output_type": "stream",
     "text": [
      "\u001b[1m19/19\u001b[0m \u001b[32m━━━━━━━━━━━━━━━━━━━━\u001b[0m\u001b[37m\u001b[0m \u001b[1m0s\u001b[0m 7ms/step\n"
     ]
    },
    {
     "data": {
      "text/plain": [
       "array([[0.7758234 , 0.00742305, 0.2167535 ],\n",
       "       [0.0114764 , 0.78774095, 0.20078269],\n",
       "       [0.21831033, 0.65950084, 0.12218881],\n",
       "       ...,\n",
       "       [0.18928698, 0.20419484, 0.60651815],\n",
       "       [0.00489806, 0.9874408 , 0.00766111],\n",
       "       [0.00911187, 0.96907705, 0.021811  ]], dtype=float32)"
      ]
     },
     "execution_count": 93,
     "metadata": {},
     "output_type": "execute_result"
    }
   ],
   "source": [
    "# Use the trained model to predict the class labels for the test dataset\n",
    "preds = model.predict(X_test)\n",
    "# Display the predicted class labels\n",
    "# This will output an array of predicted labels corresponding to the input features in X_test\n",
    "preds"
   ]
  },
  {
   "cell_type": "code",
   "execution_count": 94,
   "id": "741cad1e",
   "metadata": {},
   "outputs": [
    {
     "data": {
      "text/plain": [
       "(600, 3)"
      ]
     },
     "execution_count": 94,
     "metadata": {},
     "output_type": "execute_result"
    }
   ],
   "source": [
    "# Display the shape of the predicted labels array\n",
    "# preds: the array of predicted labels for the test dataset\n",
    "preds.shape"
   ]
  },
  {
   "cell_type": "code",
   "execution_count": null,
   "id": "8d999739",
   "metadata": {},
   "outputs": [],
   "source": []
  },
  {
   "cell_type": "code",
   "execution_count": null,
   "id": "c6977fb9",
   "metadata": {},
   "outputs": [],
   "source": []
  },
  {
   "cell_type": "code",
   "execution_count": null,
   "id": "9d1e4585",
   "metadata": {},
   "outputs": [],
   "source": []
  },
  {
   "cell_type": "code",
   "execution_count": null,
   "id": "ab3109fb",
   "metadata": {},
   "outputs": [],
   "source": []
  },
  {
   "cell_type": "code",
   "execution_count": null,
   "id": "19cba92f",
   "metadata": {},
   "outputs": [],
   "source": []
  },
  {
   "cell_type": "code",
   "execution_count": null,
   "id": "fcce8426",
   "metadata": {},
   "outputs": [],
   "source": []
  },
  {
   "cell_type": "code",
   "execution_count": null,
   "id": "dfc8c8f3",
   "metadata": {},
   "outputs": [],
   "source": []
  },
  {
   "cell_type": "code",
   "execution_count": null,
   "id": "74b88834",
   "metadata": {},
   "outputs": [],
   "source": []
  },
  {
   "cell_type": "code",
   "execution_count": null,
   "id": "25de7fbf",
   "metadata": {},
   "outputs": [],
   "source": []
  },
  {
   "cell_type": "code",
   "execution_count": null,
   "id": "2692e909",
   "metadata": {},
   "outputs": [],
   "source": []
  },
  {
   "cell_type": "code",
   "execution_count": null,
   "id": "b128e3a0",
   "metadata": {},
   "outputs": [],
   "source": []
  }
 ],
 "metadata": {
  "kernelspec": {
   "display_name": "Python 3 (ipykernel)",
   "language": "python",
   "name": "python3"
  },
  "language_info": {
   "codemirror_mode": {
    "name": "ipython",
    "version": 3
   },
   "file_extension": ".py",
   "mimetype": "text/x-python",
   "name": "python",
   "nbconvert_exporter": "python",
   "pygments_lexer": "ipython3",
   "version": "3.10.12"
  }
 },
 "nbformat": 4,
 "nbformat_minor": 5
}
